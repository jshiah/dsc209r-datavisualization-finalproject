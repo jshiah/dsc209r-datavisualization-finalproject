{
 "cells": [
  {
   "cell_type": "code",
   "execution_count": 1,
   "metadata": {},
   "outputs": [
    {
     "name": "stdout",
     "output_type": "stream",
     "text": [
      "  location  year         category  rank  query\n",
      "0   Global  2001  Consumer Brands     1  Nokia\n",
      "1   Global  2001  Consumer Brands     2   Sony\n",
      "2   Global  2001  Consumer Brands     3    BMW\n",
      "3   Global  2001  Consumer Brands     4   Palm\n",
      "4   Global  2001  Consumer Brands     5  Adobe\n",
      "<class 'pandas.core.frame.DataFrame'>\n",
      "RangeIndex: 26955 entries, 0 to 26954\n",
      "Data columns (total 5 columns):\n",
      " #   Column    Non-Null Count  Dtype \n",
      "---  ------    --------------  ----- \n",
      " 0   location  26955 non-null  object\n",
      " 1   year      26955 non-null  int64 \n",
      " 2   category  26955 non-null  object\n",
      " 3   rank      26955 non-null  int64 \n",
      " 4   query     26955 non-null  object\n",
      "dtypes: int64(2), object(3)\n",
      "memory usage: 1.0+ MB\n",
      "None\n",
      "               year         rank\n",
      "count  26955.000000  26955.00000\n",
      "mean    2015.243369      3.00000\n",
      "std        3.564683      1.41424\n",
      "min     2001.000000      1.00000\n",
      "25%     2013.000000      2.00000\n",
      "50%     2016.000000      3.00000\n",
      "75%     2018.000000      4.00000\n",
      "max     2020.000000      5.00000\n"
     ]
    }
   ],
   "source": [
    "import pandas as pd\n",
    "import matplotlib.pyplot as plt\n",
    "import seaborn as sns\n",
    "import plotly.express as px\n",
    "\n",
    "\n",
    "df = pd.read_csv('/Users/JoyceShiah/Downloads/trends.csv')\n",
    "print(df.head())\n",
    "print(df.info())\n",
    "\n",
    "print(df.describe())"
   ]
  },
  {
   "cell_type": "markdown",
   "metadata": {},
   "source": [
    "# Data Exploration (Pandas)"
   ]
  },
  {
   "cell_type": "code",
   "execution_count": 2,
   "metadata": {},
   "outputs": [
    {
     "name": "stdout",
     "output_type": "stream",
     "text": [
      "location    0\n",
      "year        0\n",
      "category    0\n",
      "rank        0\n",
      "query       0\n",
      "dtype: int64\n"
     ]
    }
   ],
   "source": [
    "print(df.isnull().sum())"
   ]
  },
  {
   "cell_type": "markdown",
   "metadata": {},
   "source": [
    "Since `location`, `category` and `query` columns are pre-filled, structured text, can check for unique values and its counts. "
   ]
  },
  {
   "cell_type": "code",
   "execution_count": 3,
   "metadata": {},
   "outputs": [
    {
     "name": "stdout",
     "output_type": "stream",
     "text": [
      "location\n",
      "United States         2070\n",
      "Global                1135\n",
      "Japan                  765\n",
      "Canada                 690\n",
      "Brazil                 675\n",
      "                      ... \n",
      "Dominican Republic       5\n",
      "El Salvador              5\n",
      "Honduras                 5\n",
      "Kuwait                   5\n",
      "Sudan                    5\n",
      "Name: count, Length: 83, dtype: int64\n",
      "category\n",
      "People                                             760\n",
      "Searches                                           620\n",
      "Movies                                             330\n",
      "TV Shows                                           305\n",
      "Películas                                          250\n",
      "                                                  ... \n",
      "Snelst stijgende/ Les plus grandes progressions      5\n",
      "Küche & Kochen                                       5\n",
      "Krisen & Katastrophen                                5\n",
      "Suchanfragen Top 10                                  5\n",
      "Là Gì?                                               5\n",
      "Name: count, Length: 2450, dtype: int64\n",
      "query\n",
      "Paul Walker            84\n",
      "Donald Trump           83\n",
      "Facebook               62\n",
      "Robin Williams         61\n",
      "Whitney Houston        56\n",
      "                       ..\n",
      "Виноваты звезды         1\n",
      "Улыбка пересмешника     1\n",
      "Яма                     1\n",
      "Дивергент               1\n",
      "Đông Lào là gì          1\n",
      "Name: count, Length: 18431, dtype: int64\n"
     ]
    }
   ],
   "source": [
    "# unique 'location' values\n",
    "print(df['location'].value_counts())\n",
    "\n",
    "# unique 'category' values\n",
    "print(df['category'].value_counts())\n",
    "\n",
    "# unique 'query' column (for trending search terms)\n",
    "print(df['query'].value_counts())\n"
   ]
  },
  {
   "cell_type": "markdown",
   "metadata": {},
   "source": [
    "### Show top 10 categories and its counts every year"
   ]
  },
  {
   "cell_type": "code",
   "execution_count": 23,
   "metadata": {},
   "outputs": [
    {
     "name": "stdout",
     "output_type": "stream",
     "text": [
      "     year            category  count\n",
      "0    2001     Consumer Brands      5\n",
      "1    2001  MP3 Music Services      5\n",
      "2    2001                 Men      5\n",
      "3    2001              Movies      5\n",
      "4    2001        Music Groups      5\n",
      "..    ...                 ...    ...\n",
      "187  2020   Los que se fueron     25\n",
      "188  2020                Loss     25\n",
      "189  2020             Recetas     25\n",
      "190  2020             Recipes     25\n",
      "191  2020            Searches     25\n",
      "\n",
      "[192 rows x 3 columns]\n"
     ]
    },
    {
     "name": "stderr",
     "output_type": "stream",
     "text": [
      "/var/folders/6k/rhyhn5ps2jj8zjfvkgv2h9680000gp/T/ipykernel_48587/4285011302.py:4: DeprecationWarning:\n",
      "\n",
      "DataFrameGroupBy.apply operated on the grouping columns. This behavior is deprecated, and in a future version of pandas the grouping columns will be excluded from the operation. Either pass `include_groups=False` to exclude the groupings or explicitly select the grouping columns after groupby to silence this warning.\n",
      "\n"
     ]
    }
   ],
   "source": [
    "category_trends = df.groupby(['year', 'category']).size().reset_index(name='count')\n",
    "\n",
    "# per year, sort categories by count and pick the top 10\n",
    "top_categories_per_year = category_trends.groupby('year').apply(lambda x: x.nlargest(10, 'count')).reset_index(drop=True)\n",
    "print(top_categories_per_year)"
   ]
  },
  {
   "cell_type": "markdown",
   "metadata": {},
   "source": [
    "### Show top 10 queries and its counts every year"
   ]
  },
  {
   "cell_type": "code",
   "execution_count": 24,
   "metadata": {},
   "outputs": [
    {
     "name": "stdout",
     "output_type": "stream",
     "text": [
      "     year             query  count\n",
      "0    2001           Aaliyah      1\n",
      "1    2001             Adobe      1\n",
      "2    2001            Amazon      1\n",
      "3    2001   Anna Kournikova      1\n",
      "4    2001       Audiogalaxy      1\n",
      "..    ...               ...    ...\n",
      "195  2020  Chadwick Boseman     17\n",
      "196  2020  Google Classroom     17\n",
      "197  2020       Kim Jong Un     17\n",
      "198  2020      Donald Trump     16\n",
      "199  2020      George Floyd     16\n",
      "\n",
      "[200 rows x 3 columns]\n"
     ]
    },
    {
     "name": "stderr",
     "output_type": "stream",
     "text": [
      "/var/folders/6k/rhyhn5ps2jj8zjfvkgv2h9680000gp/T/ipykernel_48587/2882351463.py:2: DeprecationWarning:\n",
      "\n",
      "DataFrameGroupBy.apply operated on the grouping columns. This behavior is deprecated, and in a future version of pandas the grouping columns will be excluded from the operation. Either pass `include_groups=False` to exclude the groupings or explicitly select the grouping columns after groupby to silence this warning.\n",
      "\n"
     ]
    }
   ],
   "source": [
    "query_trends = df.groupby(['year', 'query']).size().reset_index(name='count')\n",
    "top_queries_per_year = query_trends.groupby('year').apply(lambda x: x.nlargest(10, 'count')).reset_index(drop=True)\n",
    "print(top_queries_per_year)\n"
   ]
  },
  {
   "cell_type": "markdown",
   "metadata": {},
   "source": [
    "### Count number of trends per year"
   ]
  },
  {
   "cell_type": "code",
   "execution_count": 4,
   "metadata": {},
   "outputs": [
    {
     "data": {
      "image/png": "[encoded data removed]",
      "text/plain": [
       "<Figure size 1000x600 with 1 Axes>"
      ]
     },
     "metadata": {},
     "output_type": "display_data"
    }
   ],
   "source": [
    "yearly_trends = df['year'].value_counts().sort_index()\n",
    "\n",
    "yearly_trends.plot(kind='bar', figsize=(10, 6), title=\"Number of Trends per Year\")\n",
    "plt.ylabel('Number of Trends')\n",
    "plt.show()\n"
   ]
  },
  {
   "cell_type": "markdown",
   "metadata": {},
   "source": [
    "### Count & Plot number of trends per `location` (country)"
   ]
  },
  {
   "cell_type": "code",
   "execution_count": 5,
   "metadata": {},
   "outputs": [
    {
     "data": {
      "image/png": "[encoded data removed]",
      "text/plain": [
       "<Figure size 1000x600 with 1 Axes>"
      ]
     },
     "metadata": {},
     "output_type": "display_data"
    }
   ],
   "source": [
    "# count number of trends per location (country)\n",
    "country_trends = df['location'].value_counts().head(10)  # Top 10 locations\n",
    "\n",
    "# plot number of trends per location\n",
    "country_trends.plot(kind='bar', figsize=(10, 6), title=\"Number of Trends per Location\")\n",
    "plt.ylabel('Number of Trends')\n",
    "plt.show()"
   ]
  },
  {
   "cell_type": "markdown",
   "metadata": {},
   "source": [
    "### Count & Plot OVERALL number of trends per `Category`\n",
    "- 2001 - 2020 "
   ]
  },
  {
   "cell_type": "code",
   "execution_count": 6,
   "metadata": {},
   "outputs": [
    {
     "data": {
      "image/png": "[encoded data removed]",
      "text/plain": [
       "<Figure size 1000x600 with 1 Axes>"
      ]
     },
     "metadata": {},
     "output_type": "display_data"
    }
   ],
   "source": [
    "category_trends = df['category'].value_counts().head(10)  # Top 10 categories\n",
    "\n",
    "category_trends.plot(kind='bar', figsize=(10, 6), title=\"Overall Number of Trends per Category (2001-2020)\")\n",
    "plt.ylabel('Number of Trends')\n",
    "plt.show()"
   ]
  },
  {
   "cell_type": "markdown",
   "metadata": {},
   "source": [
    "### Finding most popular `query`'s OF ALL TIME (by counts, top 10)\n",
    "- 2001 - 2020"
   ]
  },
  {
   "cell_type": "code",
   "execution_count": 7,
   "metadata": {},
   "outputs": [
    {
     "data": {
      "text/plain": [
       "query\n",
       "Paul Walker        84\n",
       "Donald Trump       83\n",
       "Facebook           62\n",
       "Robin Williams     61\n",
       "Whitney Houston    56\n",
       "Coronavirus        55\n",
       "Avicii             52\n",
       "Kobe Bryant        48\n",
       "Meghan Markle      47\n",
       "Joe Biden          44\n",
       "Name: count, dtype: int64"
      ]
     },
     "execution_count": 7,
     "metadata": {},
     "output_type": "execute_result"
    }
   ],
   "source": [
    "query_counts = df['query'].value_counts().head(10)\n",
    "query_counts"
   ]
  },
  {
   "cell_type": "code",
   "execution_count": null,
   "metadata": {},
   "outputs": [],
   "source": []
  },
  {
   "cell_type": "code",
   "execution_count": 9,
   "metadata": {},
   "outputs": [
    {
     "data": {
      "text/html": [
       "<div>\n",
       "<style scoped>\n",
       "    .dataframe tbody tr th:only-of-type {\n",
       "        vertical-align: middle;\n",
       "    }\n",
       "\n",
       "    .dataframe tbody tr th {\n",
       "        vertical-align: top;\n",
       "    }\n",
       "\n",
       "    .dataframe thead th {\n",
       "        text-align: right;\n",
       "    }\n",
       "</style>\n",
       "<table border=\"1\" class=\"dataframe\">\n",
       "  <thead>\n",
       "    <tr style=\"text-align: right;\">\n",
       "      <th></th>\n",
       "      <th>query</th>\n",
       "      <th>rank</th>\n",
       "      <th>year</th>\n",
       "    </tr>\n",
       "  </thead>\n",
       "  <tbody>\n",
       "    <tr>\n",
       "      <th>0</th>\n",
       "      <td>Nokia</td>\n",
       "      <td>1</td>\n",
       "      <td>2001</td>\n",
       "    </tr>\n",
       "    <tr>\n",
       "      <th>65</th>\n",
       "      <td>Ferrari</td>\n",
       "      <td>1</td>\n",
       "      <td>2002</td>\n",
       "    </tr>\n",
       "    <tr>\n",
       "      <th>175</th>\n",
       "      <td>Ferrari</td>\n",
       "      <td>1</td>\n",
       "      <td>2003</td>\n",
       "    </tr>\n",
       "    <tr>\n",
       "      <th>340</th>\n",
       "      <td>eBay</td>\n",
       "      <td>1</td>\n",
       "      <td>2004</td>\n",
       "    </tr>\n",
       "    <tr>\n",
       "      <th>1</th>\n",
       "      <td>Sony</td>\n",
       "      <td>2</td>\n",
       "      <td>2001</td>\n",
       "    </tr>\n",
       "    <tr>\n",
       "      <th>66</th>\n",
       "      <td>Sony</td>\n",
       "      <td>2</td>\n",
       "      <td>2002</td>\n",
       "    </tr>\n",
       "    <tr>\n",
       "      <th>176</th>\n",
       "      <td>Sony</td>\n",
       "      <td>2</td>\n",
       "      <td>2003</td>\n",
       "    </tr>\n",
       "    <tr>\n",
       "      <th>341</th>\n",
       "      <td>Walmart</td>\n",
       "      <td>2</td>\n",
       "      <td>2004</td>\n",
       "    </tr>\n",
       "    <tr>\n",
       "      <th>2</th>\n",
       "      <td>BMW</td>\n",
       "      <td>3</td>\n",
       "      <td>2001</td>\n",
       "    </tr>\n",
       "    <tr>\n",
       "      <th>342</th>\n",
       "      <td>MapQuest</td>\n",
       "      <td>3</td>\n",
       "      <td>2004</td>\n",
       "    </tr>\n",
       "  </tbody>\n",
       "</table>\n",
       "</div>"
      ],
      "text/plain": [
       "        query  rank  year\n",
       "0       Nokia     1  2001\n",
       "65    Ferrari     1  2002\n",
       "175   Ferrari     1  2003\n",
       "340      eBay     1  2004\n",
       "1        Sony     2  2001\n",
       "66       Sony     2  2002\n",
       "176      Sony     2  2003\n",
       "341   Walmart     2  2004\n",
       "2         BMW     3  2001\n",
       "342  MapQuest     3  2004"
      ]
     },
     "execution_count": 9,
     "metadata": {},
     "output_type": "execute_result"
    }
   ],
   "source": [
    "consumer_brands_trends = df[df['category'] == 'Consumer Brands']\n",
    "\n",
    "# top 10 queries by rank within this category\n",
    "top_consumer_brands = consumer_brands_trends.sort_values(by='rank').head(10)\n",
    "top_consumer_brands[['query', 'rank', 'year']]"
   ]
  },
  {
   "cell_type": "code",
   "execution_count": 10,
   "metadata": {},
   "outputs": [],
   "source": [
    "# group by year and category, count occurrences of each combination\n",
    "category_trends = df.groupby(['year', 'category']).size().reset_index(name='count')\n",
    "\n",
    "# sort by count within each year\n",
    "category_trends_sorted = category_trends.sort_values(['year', 'count'], ascending=[True, False])"
   ]
  },
  {
   "cell_type": "markdown",
   "metadata": {},
   "source": [
    "# Visuals"
   ]
  },
  {
   "cell_type": "markdown",
   "metadata": {},
   "source": [
    "### filter for a specific query (e.g., \"Nokia\")"
   ]
  },
  {
   "cell_type": "code",
   "execution_count": 29,
   "metadata": {},
   "outputs": [
    {
     "name": "stderr",
     "output_type": "stream",
     "text": [
      "/opt/anaconda3/lib/python3.11/site-packages/seaborn/_oldcore.py:1119: FutureWarning:\n",
      "\n",
      "use_inf_as_na option is deprecated and will be removed in a future version. Convert inf values to NaN before operating instead.\n",
      "\n",
      "/opt/anaconda3/lib/python3.11/site-packages/seaborn/_oldcore.py:1119: FutureWarning:\n",
      "\n",
      "use_inf_as_na option is deprecated and will be removed in a future version. Convert inf values to NaN before operating instead.\n",
      "\n"
     ]
    },
    {
     "data": {
      "image/png": "[encoded data removed]",
      "text/plain": [
       "<Figure size 500x300 with 1 Axes>"
      ]
     },
     "metadata": {},
     "output_type": "display_data"
    }
   ],
   "source": [
    "specific_query_trends = df[df['query'] == 'Nokia']\n",
    "\n",
    "plt.figure(figsize=(5, 3))\n",
    "sns.lineplot(data=specific_query_trends, x='year', y='rank', marker='o')\n",
    "plt.title(\"Trend of 'Nokia' Over the Years\")\n",
    "plt.ylabel('Rank')\n",
    "plt.xlabel('Year')\n",
    "plt.show()"
   ]
  },
  {
   "cell_type": "markdown",
   "metadata": {},
   "source": [
    "### show top 10 categories based on total count OF ALL TIME (in dataset)\n",
    "- 2001 - 2020"
   ]
  },
  {
   "cell_type": "code",
   "execution_count": 30,
   "metadata": {},
   "outputs": [
    {
     "data": {
      "application/vnd.plotly.v1+json": {
       "config": {
        "plotlyServerURL": "https://plot.ly"
       },
       "data": [
        {
         "hovertemplate": "<b>%{hovertext}</b><br><br>category=Movies<br>Year=%{x}<br>Number of Searches=%{y}<extra></extra>",
         "hovertext": [
          "Movies",
          "Movies",
          "Movies",
          "Movies",
          "Movies",
          "Movies",
          "Movies",
          "Movies",
          "Movies",
          "Movies",
          "Movies",
          "Movies"
         ],
         "legendgroup": "Movies",
         "line": {
          "color": "#636efa",
          "dash": "solid"
         },
         "marker": {
          "symbol": "circle"
         },
         "mode": "lines",
         "name": "Movies",
         "orientation": "v",
         "showlegend": true,
         "type": "scatter",
         "x": [
          2001,
          2002,
          2011,
          2012,
          2013,
          2014,
          2015,
          2016,
          2017,
          2018,
          2019,
          2020
         ],
         "xaxis": "x",
         "y": [
          5,
          5,
          10,
          35,
          15,
          40,
          35,
          40,
          35,
          50,
          30,
          30
         ],
         "yaxis": "y"
        },
        {
         "hovertemplate": "<b>%{hovertext}</b><br><br>category=TV Shows<br>Year=%{x}<br>Number of Searches=%{y}<extra></extra>",
         "hovertext": [
          "TV Shows",
          "TV Shows",
          "TV Shows",
          "TV Shows",
          "TV Shows",
          "TV Shows",
          "TV Shows",
          "TV Shows",
          "TV Shows",
          "TV Shows",
          "TV Shows",
          "TV Shows",
          "TV Shows",
          "TV Shows"
         ],
         "legendgroup": "TV Shows",
         "line": {
          "color": "#EF553B",
          "dash": "solid"
         },
         "marker": {
          "symbol": "circle"
         },
         "mode": "lines",
         "name": "TV Shows",
         "orientation": "v",
         "showlegend": true,
         "type": "scatter",
         "x": [
          2001,
          2002,
          2004,
          2008,
          2010,
          2012,
          2013,
          2014,
          2015,
          2016,
          2017,
          2018,
          2019,
          2020
         ],
         "xaxis": "x",
         "y": [
          5,
          5,
          5,
          5,
          5,
          70,
          25,
          30,
          35,
          25,
          30,
          25,
          20,
          20
         ],
         "yaxis": "y"
        },
        {
         "hovertemplate": "<b>%{hovertext}</b><br><br>category=Searches<br>Year=%{x}<br>Number of Searches=%{y}<extra></extra>",
         "hovertext": [
          "Searches",
          "Searches",
          "Searches",
          "Searches",
          "Searches",
          "Searches",
          "Searches",
          "Searches",
          "Searches",
          "Searches",
          "Searches",
          "Searches",
          "Searches",
          "Searches"
         ],
         "legendgroup": "Searches",
         "line": {
          "color": "#00cc96",
          "dash": "solid"
         },
         "marker": {
          "symbol": "circle"
         },
         "mode": "lines",
         "name": "Searches",
         "orientation": "v",
         "showlegend": true,
         "type": "scatter",
         "x": [
          2002,
          2003,
          2004,
          2008,
          2011,
          2012,
          2013,
          2014,
          2015,
          2016,
          2017,
          2018,
          2019,
          2020
         ],
         "xaxis": "x",
         "y": [
          5,
          10,
          5,
          5,
          10,
          240,
          25,
          80,
          65,
          40,
          35,
          40,
          35,
          25
         ],
         "yaxis": "y"
        },
        {
         "hovertemplate": "<b>%{hovertext}</b><br><br>category=How to...<br>Year=%{x}<br>Number of Searches=%{y}<extra></extra>",
         "hovertext": [
          "How to...",
          "How to...",
          "How to...",
          "How to...",
          "How to...",
          "How to...",
          "How to...",
          "How to...",
          "How to...",
          "How to..."
         ],
         "legendgroup": "How to...",
         "line": {
          "color": "#ab63fa",
          "dash": "solid"
         },
         "marker": {
          "symbol": "circle"
         },
         "mode": "lines",
         "name": "How to...",
         "orientation": "v",
         "showlegend": true,
         "type": "scatter",
         "x": [
          2006,
          2012,
          2013,
          2014,
          2015,
          2016,
          2017,
          2018,
          2019,
          2020
         ],
         "xaxis": "x",
         "y": [
          5,
          90,
          10,
          10,
          15,
          15,
          5,
          5,
          5,
          10
         ],
         "yaxis": "y"
        },
        {
         "hovertemplate": "<b>%{hovertext}</b><br><br>category=Recipes<br>Year=%{x}<br>Number of Searches=%{y}<extra></extra>",
         "hovertext": [
          "Recipes",
          "Recipes",
          "Recipes",
          "Recipes",
          "Recipes",
          "Recipes",
          "Recipes",
          "Recipes",
          "Recipes",
          "Recipes",
          "Recipes"
         ],
         "legendgroup": "Recipes",
         "line": {
          "color": "#FFA15A",
          "dash": "solid"
         },
         "marker": {
          "symbol": "circle"
         },
         "mode": "lines",
         "name": "Recipes",
         "orientation": "v",
         "showlegend": true,
         "type": "scatter",
         "x": [
          2007,
          2009,
          2012,
          2013,
          2014,
          2015,
          2016,
          2017,
          2018,
          2019,
          2020
         ],
         "xaxis": "x",
         "y": [
          5,
          5,
          10,
          5,
          15,
          20,
          15,
          25,
          25,
          25,
          25
         ],
         "yaxis": "y"
        },
        {
         "hovertemplate": "<b>%{hovertext}</b><br><br>category=News<br>Year=%{x}<br>Number of Searches=%{y}<extra></extra>",
         "hovertext": [
          "News",
          "News",
          "News",
          "News",
          "News",
          "News",
          "News",
          "News",
          "News",
          "News"
         ],
         "legendgroup": "News",
         "line": {
          "color": "#19d3f3",
          "dash": "solid"
         },
         "marker": {
          "symbol": "circle"
         },
         "mode": "lines",
         "name": "News",
         "orientation": "v",
         "showlegend": true,
         "type": "scatter",
         "x": [
          2010,
          2011,
          2012,
          2014,
          2015,
          2016,
          2017,
          2018,
          2019,
          2020
         ],
         "xaxis": "x",
         "y": [
          5,
          10,
          5,
          5,
          5,
          15,
          35,
          25,
          30,
          15
         ],
         "yaxis": "y"
        },
        {
         "hovertemplate": "<b>%{hovertext}</b><br><br>category=People<br>Year=%{x}<br>Number of Searches=%{y}<extra></extra>",
         "hovertext": [
          "People",
          "People",
          "People",
          "People",
          "People",
          "People",
          "People",
          "People",
          "People",
          "People",
          "People"
         ],
         "legendgroup": "People",
         "line": {
          "color": "#FF6692",
          "dash": "solid"
         },
         "marker": {
          "symbol": "circle"
         },
         "mode": "lines",
         "name": "People",
         "orientation": "v",
         "showlegend": true,
         "type": "scatter",
         "x": [
          2010,
          2011,
          2012,
          2013,
          2014,
          2015,
          2016,
          2017,
          2018,
          2019,
          2020
         ],
         "xaxis": "x",
         "y": [
          10,
          195,
          205,
          55,
          55,
          55,
          40,
          40,
          35,
          40,
          30
         ],
         "yaxis": "y"
        },
        {
         "hovertemplate": "<b>%{hovertext}</b><br><br>category=Songs<br>Year=%{x}<br>Number of Searches=%{y}<extra></extra>",
         "hovertext": [
          "Songs",
          "Songs",
          "Songs",
          "Songs",
          "Songs",
          "Songs",
          "Songs",
          "Songs",
          "Songs"
         ],
         "legendgroup": "Songs",
         "line": {
          "color": "#B6E880",
          "dash": "solid"
         },
         "marker": {
          "symbol": "circle"
         },
         "mode": "lines",
         "name": "Songs",
         "orientation": "v",
         "showlegend": true,
         "type": "scatter",
         "x": [
          2012,
          2013,
          2014,
          2015,
          2016,
          2017,
          2018,
          2019,
          2020
         ],
         "xaxis": "x",
         "y": [
          110,
          10,
          10,
          10,
          15,
          15,
          15,
          25,
          5
         ],
         "yaxis": "y"
        },
        {
         "hovertemplate": "<b>%{hovertext}</b><br><br>category=What is...?<br>Year=%{x}<br>Number of Searches=%{y}<extra></extra>",
         "hovertext": [
          "What is...?",
          "What is...?",
          "What is...?",
          "What is...?",
          "What is...?",
          "What is...?",
          "What is...?",
          "What is...?"
         ],
         "legendgroup": "What is...?",
         "line": {
          "color": "#FF97FF",
          "dash": "solid"
         },
         "marker": {
          "symbol": "circle"
         },
         "mode": "lines",
         "name": "What is...?",
         "orientation": "v",
         "showlegend": true,
         "type": "scatter",
         "x": [
          2012,
          2013,
          2015,
          2016,
          2017,
          2018,
          2019,
          2020
         ],
         "xaxis": "x",
         "y": [
          100,
          10,
          20,
          5,
          10,
          10,
          15,
          5
         ],
         "yaxis": "y"
        },
        {
         "hovertemplate": "<b>%{hovertext}</b><br><br>category=Películas<br>Year=%{x}<br>Number of Searches=%{y}<extra></extra>",
         "hovertext": [
          "Películas",
          "Películas",
          "Películas",
          "Películas",
          "Películas",
          "Películas",
          "Películas",
          "Películas"
         ],
         "legendgroup": "Películas",
         "line": {
          "color": "#FECB52",
          "dash": "solid"
         },
         "marker": {
          "symbol": "circle"
         },
         "mode": "lines",
         "name": "Películas",
         "orientation": "v",
         "showlegend": true,
         "type": "scatter",
         "x": [
          2013,
          2014,
          2015,
          2016,
          2017,
          2018,
          2019,
          2020
         ],
         "xaxis": "x",
         "y": [
          25,
          35,
          20,
          40,
          30,
          40,
          30,
          30
         ],
         "yaxis": "y"
        }
       ],
       "layout": {
        "hovermode": "x unified",
        "legend": {
         "title": {
          "text": "category"
         },
         "tracegroupgap": 0
        },
        "showlegend": true,
        "template": {
         "data": {
          "bar": [
           {
            "error_x": {
             "color": "#f2f5fa"
            },
            "error_y": {
             "color": "#f2f5fa"
            },
            "marker": {
             "line": {
              "color": "rgb(17,17,17)",
              "width": 0.5
             },
             "pattern": {
              "fillmode": "overlay",
              "size": 10,
              "solidity": 0.2
             }
            },
            "type": "bar"
           }
          ],
          "barpolar": [
           {
            "marker": {
             "line": {
              "color": "rgb(17,17,17)",
              "width": 0.5
             },
             "pattern": {
              "fillmode": "overlay",
              "size": 10,
              "solidity": 0.2
             }
            },
            "type": "barpolar"
           }
          ],
          "carpet": [
           {
            "aaxis": {
             "endlinecolor": "#A2B1C6",
             "gridcolor": "#506784",
             "linecolor": "#506784",
             "minorgridcolor": "#506784",
             "startlinecolor": "#A2B1C6"
            },
            "baxis": {
             "endlinecolor": "#A2B1C6",
             "gridcolor": "#506784",
             "linecolor": "#506784",
             "minorgridcolor": "#506784",
             "startlinecolor": "#A2B1C6"
            },
            "type": "carpet"
           }
          ],
          "choropleth": [
           {
            "colorbar": {
             "outlinewidth": 0,
             "ticks": ""
            },
            "type": "choropleth"
           }
          ],
          "contour": [
           {
            "colorbar": {
             "outlinewidth": 0,
             "ticks": ""
            },
            "colorscale": [
             [
              0,
              "#0d0887"
             ],
             [
              0.1111111111111111,
              "#46039f"
             ],
             [
              0.2222222222222222,
              "#7201a8"
             ],
             [
              0.3333333333333333,
              "#9c179e"
             ],
             [
              0.4444444444444444,
              "#bd3786"
             ],
             [
              0.5555555555555556,
              "#d8576b"
             ],
             [
              0.6666666666666666,
              "#ed7953"
             ],
             [
              0.7777777777777778,
              "#fb9f3a"
             ],
             [
              0.8888888888888888,
              "#fdca26"
             ],
             [
              1,
              "#f0f921"
             ]
            ],
            "type": "contour"
           }
          ],
          "contourcarpet": [
           {
            "colorbar": {
             "outlinewidth": 0,
             "ticks": ""
            },
            "type": "contourcarpet"
           }
          ],
          "heatmap": [
           {
            "colorbar": {
             "outlinewidth": 0,
             "ticks": ""
            },
            "colorscale": [
             [
              0,
              "#0d0887"
             ],
             [
              0.1111111111111111,
              "#46039f"
             ],
             [
              0.2222222222222222,
              "#7201a8"
             ],
             [
              0.3333333333333333,
              "#9c179e"
             ],
             [
              0.4444444444444444,
              "#bd3786"
             ],
             [
              0.5555555555555556,
              "#d8576b"
             ],
             [
              0.6666666666666666,
              "#ed7953"
             ],
             [
              0.7777777777777778,
              "#fb9f3a"
             ],
             [
              0.8888888888888888,
              "#fdca26"
             ],
             [
              1,
              "#f0f921"
             ]
            ],
            "type": "heatmap"
           }
          ],
          "heatmapgl": [
           {
            "colorbar": {
             "outlinewidth": 0,
             "ticks": ""
            },
            "colorscale": [
             [
              0,
              "#0d0887"
             ],
             [
              0.1111111111111111,
              "#46039f"
             ],
             [
              0.2222222222222222,
              "#7201a8"
             ],
             [
              0.3333333333333333,
              "#9c179e"
             ],
             [
              0.4444444444444444,
              "#bd3786"
             ],
             [
              0.5555555555555556,
              "#d8576b"
             ],
             [
              0.6666666666666666,
              "#ed7953"
             ],
             [
              0.7777777777777778,
              "#fb9f3a"
             ],
             [
              0.8888888888888888,
              "#fdca26"
             ],
             [
              1,
              "#f0f921"
             ]
            ],
            "type": "heatmapgl"
           }
          ],
          "histogram": [
           {
            "marker": {
             "pattern": {
              "fillmode": "overlay",
              "size": 10,
              "solidity": 0.2
             }
            },
            "type": "histogram"
           }
          ],
          "histogram2d": [
           {
            "colorbar": {
             "outlinewidth": 0,
             "ticks": ""
            },
            "colorscale": [
             [
              0,
              "#0d0887"
             ],
             [
              0.1111111111111111,
              "#46039f"
             ],
             [
              0.2222222222222222,
              "#7201a8"
             ],
             [
              0.3333333333333333,
              "#9c179e"
             ],
             [
              0.4444444444444444,
              "#bd3786"
             ],
             [
              0.5555555555555556,
              "#d8576b"
             ],
             [
              0.6666666666666666,
              "#ed7953"
             ],
             [
              0.7777777777777778,
              "#fb9f3a"
             ],
             [
              0.8888888888888888,
              "#fdca26"
             ],
             [
              1,
              "#f0f921"
             ]
            ],
            "type": "histogram2d"
           }
          ],
          "histogram2dcontour": [
           {
            "colorbar": {
             "outlinewidth": 0,
             "ticks": ""
            },
            "colorscale": [
             [
              0,
              "#0d0887"
             ],
             [
              0.1111111111111111,
              "#46039f"
             ],
             [
              0.2222222222222222,
              "#7201a8"
             ],
             [
              0.3333333333333333,
              "#9c179e"
             ],
             [
              0.4444444444444444,
              "#bd3786"
             ],
             [
              0.5555555555555556,
              "#d8576b"
             ],
             [
              0.6666666666666666,
              "#ed7953"
             ],
             [
              0.7777777777777778,
              "#fb9f3a"
             ],
             [
              0.8888888888888888,
              "#fdca26"
             ],
             [
              1,
              "#f0f921"
             ]
            ],
            "type": "histogram2dcontour"
           }
          ],
          "mesh3d": [
           {
            "colorbar": {
             "outlinewidth": 0,
             "ticks": ""
            },
            "type": "mesh3d"
           }
          ],
          "parcoords": [
           {
            "line": {
             "colorbar": {
              "outlinewidth": 0,
              "ticks": ""
             }
            },
            "type": "parcoords"
           }
          ],
          "pie": [
           {
            "automargin": true,
            "type": "pie"
           }
          ],
          "scatter": [
           {
            "marker": {
             "line": {
              "color": "#283442"
             }
            },
            "type": "scatter"
           }
          ],
          "scatter3d": [
           {
            "line": {
             "colorbar": {
              "outlinewidth": 0,
              "ticks": ""
             }
            },
            "marker": {
             "colorbar": {
              "outlinewidth": 0,
              "ticks": ""
             }
            },
            "type": "scatter3d"
           }
          ],
          "scattercarpet": [
           {
            "marker": {
             "colorbar": {
              "outlinewidth": 0,
              "ticks": ""
             }
            },
            "type": "scattercarpet"
           }
          ],
          "scattergeo": [
           {
            "marker": {
             "colorbar": {
              "outlinewidth": 0,
              "ticks": ""
             }
            },
            "type": "scattergeo"
           }
          ],
          "scattergl": [
           {
            "marker": {
             "line": {
              "color": "#283442"
             }
            },
            "type": "scattergl"
           }
          ],
          "scattermapbox": [
           {
            "marker": {
             "colorbar": {
              "outlinewidth": 0,
              "ticks": ""
             }
            },
            "type": "scattermapbox"
           }
          ],
          "scatterpolar": [
           {
            "marker": {
             "colorbar": {
              "outlinewidth": 0,
              "ticks": ""
             }
            },
            "type": "scatterpolar"
           }
          ],
          "scatterpolargl": [
           {
            "marker": {
             "colorbar": {
              "outlinewidth": 0,
              "ticks": ""
             }
            },
            "type": "scatterpolargl"
           }
          ],
          "scatterternary": [
           {
            "marker": {
             "colorbar": {
              "outlinewidth": 0,
              "ticks": ""
             }
            },
            "type": "scatterternary"
           }
          ],
          "surface": [
           {
            "colorbar": {
             "outlinewidth": 0,
             "ticks": ""
            },
            "colorscale": [
             [
              0,
              "#0d0887"
             ],
             [
              0.1111111111111111,
              "#46039f"
             ],
             [
              0.2222222222222222,
              "#7201a8"
             ],
             [
              0.3333333333333333,
              "#9c179e"
             ],
             [
              0.4444444444444444,
              "#bd3786"
             ],
             [
              0.5555555555555556,
              "#d8576b"
             ],
             [
              0.6666666666666666,
              "#ed7953"
             ],
             [
              0.7777777777777778,
              "#fb9f3a"
             ],
             [
              0.8888888888888888,
              "#fdca26"
             ],
             [
              1,
              "#f0f921"
             ]
            ],
            "type": "surface"
           }
          ],
          "table": [
           {
            "cells": {
             "fill": {
              "color": "#506784"
             },
             "line": {
              "color": "rgb(17,17,17)"
             }
            },
            "header": {
             "fill": {
              "color": "#2a3f5f"
             },
             "line": {
              "color": "rgb(17,17,17)"
             }
            },
            "type": "table"
           }
          ]
         },
         "layout": {
          "annotationdefaults": {
           "arrowcolor": "#f2f5fa",
           "arrowhead": 0,
           "arrowwidth": 1
          },
          "autotypenumbers": "strict",
          "coloraxis": {
           "colorbar": {
            "outlinewidth": 0,
            "ticks": ""
           }
          },
          "colorscale": {
           "diverging": [
            [
             0,
             "#8e0152"
            ],
            [
             0.1,
             "#c51b7d"
            ],
            [
             0.2,
             "#de77ae"
            ],
            [
             0.3,
             "#f1b6da"
            ],
            [
             0.4,
             "#fde0ef"
            ],
            [
             0.5,
             "#f7f7f7"
            ],
            [
             0.6,
             "#e6f5d0"
            ],
            [
             0.7,
             "#b8e186"
            ],
            [
             0.8,
             "#7fbc41"
            ],
            [
             0.9,
             "#4d9221"
            ],
            [
             1,
             "#276419"
            ]
           ],
           "sequential": [
            [
             0,
             "#0d0887"
            ],
            [
             0.1111111111111111,
             "#46039f"
            ],
            [
             0.2222222222222222,
             "#7201a8"
            ],
            [
             0.3333333333333333,
             "#9c179e"
            ],
            [
             0.4444444444444444,
             "#bd3786"
            ],
            [
             0.5555555555555556,
             "#d8576b"
            ],
            [
             0.6666666666666666,
             "#ed7953"
            ],
            [
             0.7777777777777778,
             "#fb9f3a"
            ],
            [
             0.8888888888888888,
             "#fdca26"
            ],
            [
             1,
             "#f0f921"
            ]
           ],
           "sequentialminus": [
            [
             0,
             "#0d0887"
            ],
            [
             0.1111111111111111,
             "#46039f"
            ],
            [
             0.2222222222222222,
             "#7201a8"
            ],
            [
             0.3333333333333333,
             "#9c179e"
            ],
            [
             0.4444444444444444,
             "#bd3786"
            ],
            [
             0.5555555555555556,
             "#d8576b"
            ],
            [
             0.6666666666666666,
             "#ed7953"
            ],
            [
             0.7777777777777778,
             "#fb9f3a"
            ],
            [
             0.8888888888888888,
             "#fdca26"
            ],
            [
             1,
             "#f0f921"
            ]
           ]
          },
          "colorway": [
           "#636efa",
           "#EF553B",
           "#00cc96",
           "#ab63fa",
           "#FFA15A",
           "#19d3f3",
           "#FF6692",
           "#B6E880",
           "#FF97FF",
           "#FECB52"
          ],
          "font": {
           "color": "#f2f5fa"
          },
          "geo": {
           "bgcolor": "rgb(17,17,17)",
           "lakecolor": "rgb(17,17,17)",
           "landcolor": "rgb(17,17,17)",
           "showlakes": true,
           "showland": true,
           "subunitcolor": "#506784"
          },
          "hoverlabel": {
           "align": "left"
          },
          "hovermode": "closest",
          "mapbox": {
           "style": "dark"
          },
          "paper_bgcolor": "rgb(17,17,17)",
          "plot_bgcolor": "rgb(17,17,17)",
          "polar": {
           "angularaxis": {
            "gridcolor": "#506784",
            "linecolor": "#506784",
            "ticks": ""
           },
           "bgcolor": "rgb(17,17,17)",
           "radialaxis": {
            "gridcolor": "#506784",
            "linecolor": "#506784",
            "ticks": ""
           }
          },
          "scene": {
           "xaxis": {
            "backgroundcolor": "rgb(17,17,17)",
            "gridcolor": "#506784",
            "gridwidth": 2,
            "linecolor": "#506784",
            "showbackground": true,
            "ticks": "",
            "zerolinecolor": "#C8D4E3"
           },
           "yaxis": {
            "backgroundcolor": "rgb(17,17,17)",
            "gridcolor": "#506784",
            "gridwidth": 2,
            "linecolor": "#506784",
            "showbackground": true,
            "ticks": "",
            "zerolinecolor": "#C8D4E3"
           },
           "zaxis": {
            "backgroundcolor": "rgb(17,17,17)",
            "gridcolor": "#506784",
            "gridwidth": 2,
            "linecolor": "#506784",
            "showbackground": true,
            "ticks": "",
            "zerolinecolor": "#C8D4E3"
           }
          },
          "shapedefaults": {
           "line": {
            "color": "#f2f5fa"
           }
          },
          "sliderdefaults": {
           "bgcolor": "#C8D4E3",
           "bordercolor": "rgb(17,17,17)",
           "borderwidth": 1,
           "tickwidth": 0
          },
          "ternary": {
           "aaxis": {
            "gridcolor": "#506784",
            "linecolor": "#506784",
            "ticks": ""
           },
           "baxis": {
            "gridcolor": "#506784",
            "linecolor": "#506784",
            "ticks": ""
           },
           "bgcolor": "rgb(17,17,17)",
           "caxis": {
            "gridcolor": "#506784",
            "linecolor": "#506784",
            "ticks": ""
           }
          },
          "title": {
           "x": 0.05
          },
          "updatemenudefaults": {
           "bgcolor": "#506784",
           "borderwidth": 0
          },
          "xaxis": {
           "automargin": true,
           "gridcolor": "#283442",
           "linecolor": "#506784",
           "ticks": "",
           "title": {
            "standoff": 15
           },
           "zerolinecolor": "#283442",
           "zerolinewidth": 2
          },
          "yaxis": {
           "automargin": true,
           "gridcolor": "#283442",
           "linecolor": "#506784",
           "ticks": "",
           "title": {
            "standoff": 15
           },
           "zerolinecolor": "#283442",
           "zerolinewidth": 2
          }
         }
        },
        "title": {
         "text": "Top Categories Searched Across ALL Years in Dataset (2001-2020)"
        },
        "xaxis": {
         "anchor": "y",
         "domain": [
          0,
          1
         ],
         "dtick": 1,
         "tick0": 2001,
         "tickmode": "linear",
         "title": {
          "text": "Year"
         }
        },
        "yaxis": {
         "anchor": "x",
         "domain": [
          0,
          1
         ],
         "title": {
          "text": "Number of Searches"
         }
        }
       }
      }
     },
     "metadata": {},
     "output_type": "display_data"
    }
   ],
   "source": [
    "top_categories = category_trends.groupby('category')['count'].sum().nlargest(10).index\n",
    "filtered_data = category_trends[category_trends['category'].isin(top_categories)]\n",
    "\n",
    "fig = px.line(filtered_data, \n",
    "              x='year', \n",
    "              y='count', \n",
    "              color='category', \n",
    "              title='Top Categories Searched Across ALL Years in Dataset (2001-2020)', \n",
    "              labels={'year': 'Year', 'count': 'Number of Searches'},\n",
    "              line_group='category',\n",
    "              hover_name='category')\n",
    "\n",
    "fig.update_layout(\n",
    "    xaxis=dict(tickmode='linear', tick0=2001, dtick=1),  \n",
    "    template='plotly_dark', \n",
    "    hovermode='x unified',  # show hover info for all lines on the same x-axis value\n",
    "    showlegend=True\n",
    ")\n",
    "\n",
    "fig.show()"
   ]
  },
  {
   "cell_type": "markdown",
   "metadata": {},
   "source": [
    "### Animated\n",
    "2 interactive elements:\n",
    "- hover effect on a bar = shows info on: Category, Year, # of Searches\n",
    "- Play/ Pause buttons"
   ]
  },
  {
   "cell_type": "code",
   "execution_count": 13,
   "metadata": {},
   "outputs": [
    {
     "name": "stdout",
     "output_type": "stream",
     "text": [
      "(107, 3)\n",
      "    year  category  count\n",
      "3   2001    Movies      5\n",
      "9   2001  TV Shows      5\n",
      "20  2002    Movies      5\n",
      "25  2002  Searches      5\n",
      "26  2002  TV Shows      5\n"
     ]
    }
   ],
   "source": [
    "# Sanity Check\n",
    "\n",
    "# print(filtered_data.head())\n",
    "# print(filtered_data.shape)\n",
    "# print(top_categories)\n",
    "# print(filtered_data.dtypes)\n",
    "print(filtered_data.shape) \n",
    "print(filtered_data.head())  "
   ]
  },
  {
   "cell_type": "code",
   "execution_count": 14,
   "metadata": {},
   "outputs": [
    {
     "data": {
      "application/vnd.plotly.v1+json": {
       "config": {
        "plotlyServerURL": "https://plot.ly"
       },
       "data": [
        {
         "alignmentgroup": "True",
         "hovertemplate": "category=%{y}<br>Year=2001<br>Number of Searches=%{x}<extra></extra>",
         "legendgroup": "People",
         "marker": {
          "color": "#636efa",
          "pattern": {
           "shape": ""
          }
         },
         "name": "People",
         "offsetgroup": "People",
         "orientation": "h",
         "showlegend": true,
         "textposition": "auto",
         "type": "bar",
         "x": [
          0
         ],
         "xaxis": "x",
         "y": [
          "People"
         ],
         "yaxis": "y"
        },
        {
         "alignmentgroup": "True",
         "hovertemplate": "category=%{y}<br>Year=2001<br>Number of Searches=%{x}<extra></extra>",
         "legendgroup": "Searches",
         "marker": {
          "color": "#EF553B",
          "pattern": {
           "shape": ""
          }
         },
         "name": "Searches",
         "offsetgroup": "Searches",
         "orientation": "h",
         "showlegend": true,
         "textposition": "auto",
         "type": "bar",
         "x": [
          0
         ],
         "xaxis": "x",
         "y": [
          "Searches"
         ],
         "yaxis": "y"
        },
        {
         "alignmentgroup": "True",
         "hovertemplate": "category=%{y}<br>Year=2001<br>Number of Searches=%{x}<extra></extra>",
         "legendgroup": "Movies",
         "marker": {
          "color": "#00cc96",
          "pattern": {
           "shape": ""
          }
         },
         "name": "Movies",
         "offsetgroup": "Movies",
         "orientation": "h",
         "showlegend": true,
         "textposition": "auto",
         "type": "bar",
         "x": [
          5
         ],
         "xaxis": "x",
         "y": [
          "Movies"
         ],
         "yaxis": "y"
        },
        {
         "alignmentgroup": "True",
         "hovertemplate": "category=%{y}<br>Year=2001<br>Number of Searches=%{x}<extra></extra>",
         "legendgroup": "TV Shows",
         "marker": {
          "color": "#ab63fa",
          "pattern": {
           "shape": ""
          }
         },
         "name": "TV Shows",
         "offsetgroup": "TV Shows",
         "orientation": "h",
         "showlegend": true,
         "textposition": "auto",
         "type": "bar",
         "x": [
          5
         ],
         "xaxis": "x",
         "y": [
          "TV Shows"
         ],
         "yaxis": "y"
        },
        {
         "alignmentgroup": "True",
         "hovertemplate": "category=%{y}<br>Year=2001<br>Number of Searches=%{x}<extra></extra>",
         "legendgroup": "Películas",
         "marker": {
          "color": "#FFA15A",
          "pattern": {
           "shape": ""
          }
         },
         "name": "Películas",
         "offsetgroup": "Películas",
         "orientation": "h",
         "showlegend": true,
         "textposition": "auto",
         "type": "bar",
         "x": [
          0
         ],
         "xaxis": "x",
         "y": [
          "Películas"
         ],
         "yaxis": "y"
        },
        {
         "alignmentgroup": "True",
         "hovertemplate": "category=%{y}<br>Year=2001<br>Number of Searches=%{x}<extra></extra>",
         "legendgroup": "Songs",
         "marker": {
          "color": "#19d3f3",
          "pattern": {
           "shape": ""
          }
         },
         "name": "Songs",
         "offsetgroup": "Songs",
         "orientation": "h",
         "showlegend": true,
         "textposition": "auto",
         "type": "bar",
         "x": [
          0
         ],
         "xaxis": "x",
         "y": [
          "Songs"
         ],
         "yaxis": "y"
        },
        {
         "alignmentgroup": "True",
         "hovertemplate": "category=%{y}<br>Year=2001<br>Number of Searches=%{x}<extra></extra>",
         "legendgroup": "Recipes",
         "marker": {
          "color": "#FF6692",
          "pattern": {
           "shape": ""
          }
         },
         "name": "Recipes",
         "offsetgroup": "Recipes",
         "orientation": "h",
         "showlegend": true,
         "textposition": "auto",
         "type": "bar",
         "x": [
          0
         ],
         "xaxis": "x",
         "y": [
          "Recipes"
         ],
         "yaxis": "y"
        },
        {
         "alignmentgroup": "True",
         "hovertemplate": "category=%{y}<br>Year=2001<br>Number of Searches=%{x}<extra></extra>",
         "legendgroup": "What is...?",
         "marker": {
          "color": "#B6E880",
          "pattern": {
           "shape": ""
          }
         },
         "name": "What is...?",
         "offsetgroup": "What is...?",
         "orientation": "h",
         "showlegend": true,
         "textposition": "auto",
         "type": "bar",
         "x": [
          0
         ],
         "xaxis": "x",
         "y": [
          "What is...?"
         ],
         "yaxis": "y"
        },
        {
         "alignmentgroup": "True",
         "hovertemplate": "category=%{y}<br>Year=2001<br>Number of Searches=%{x}<extra></extra>",
         "legendgroup": "How to...",
         "marker": {
          "color": "#FF97FF",
          "pattern": {
           "shape": ""
          }
         },
         "name": "How to...",
         "offsetgroup": "How to...",
         "orientation": "h",
         "showlegend": true,
         "textposition": "auto",
         "type": "bar",
         "x": [
          0
         ],
         "xaxis": "x",
         "y": [
          "How to..."
         ],
         "yaxis": "y"
        },
        {
         "alignmentgroup": "True",
         "hovertemplate": "category=%{y}<br>Year=2001<br>Number of Searches=%{x}<extra></extra>",
         "legendgroup": "News",
         "marker": {
          "color": "#FECB52",
          "pattern": {
           "shape": ""
          }
         },
         "name": "News",
         "offsetgroup": "News",
         "orientation": "h",
         "showlegend": true,
         "textposition": "auto",
         "type": "bar",
         "x": [
          0
         ],
         "xaxis": "x",
         "y": [
          "News"
         ],
         "yaxis": "y"
        }
       ],
       "frames": [
        {
         "data": [
          {
           "alignmentgroup": "True",
           "hovertemplate": "category=%{y}<br>Year=2001<br>Number of Searches=%{x}<extra></extra>",
           "legendgroup": "People",
           "marker": {
            "color": "#636efa",
            "pattern": {
             "shape": ""
            }
           },
           "name": "People",
           "offsetgroup": "People",
           "orientation": "h",
           "showlegend": true,
           "textposition": "auto",
           "type": "bar",
           "x": [
            0
           ],
           "xaxis": "x",
           "y": [
            "People"
           ],
           "yaxis": "y"
          },
          {
           "alignmentgroup": "True",
           "hovertemplate": "category=%{y}<br>Year=2001<br>Number of Searches=%{x}<extra></extra>",
           "legendgroup": "Searches",
           "marker": {
            "color": "#EF553B",
            "pattern": {
             "shape": ""
            }
           },
           "name": "Searches",
           "offsetgroup": "Searches",
           "orientation": "h",
           "showlegend": true,
           "textposition": "auto",
           "type": "bar",
           "x": [
            0
           ],
           "xaxis": "x",
           "y": [
            "Searches"
           ],
           "yaxis": "y"
          },
          {
           "alignmentgroup": "True",
           "hovertemplate": "category=%{y}<br>Year=2001<br>Number of Searches=%{x}<extra></extra>",
           "legendgroup": "Movies",
           "marker": {
            "color": "#00cc96",
            "pattern": {
             "shape": ""
            }
           },
           "name": "Movies",
           "offsetgroup": "Movies",
           "orientation": "h",
           "showlegend": true,
           "textposition": "auto",
           "type": "bar",
           "x": [
            5
           ],
           "xaxis": "x",
           "y": [
            "Movies"
           ],
           "yaxis": "y"
          },
          {
           "alignmentgroup": "True",
           "hovertemplate": "category=%{y}<br>Year=2001<br>Number of Searches=%{x}<extra></extra>",
           "legendgroup": "TV Shows",
           "marker": {
            "color": "#ab63fa",
            "pattern": {
             "shape": ""
            }
           },
           "name": "TV Shows",
           "offsetgroup": "TV Shows",
           "orientation": "h",
           "showlegend": true,
           "textposition": "auto",
           "type": "bar",
           "x": [
            5
           ],
           "xaxis": "x",
           "y": [
            "TV Shows"
           ],
           "yaxis": "y"
          },
          {
           "alignmentgroup": "True",
           "hovertemplate": "category=%{y}<br>Year=2001<br>Number of Searches=%{x}<extra></extra>",
           "legendgroup": "Películas",
           "marker": {
            "color": "#FFA15A",
            "pattern": {
             "shape": ""
            }
           },
           "name": "Películas",
           "offsetgroup": "Películas",
           "orientation": "h",
           "showlegend": true,
           "textposition": "auto",
           "type": "bar",
           "x": [
            0
           ],
           "xaxis": "x",
           "y": [
            "Películas"
           ],
           "yaxis": "y"
          },
          {
           "alignmentgroup": "True",
           "hovertemplate": "category=%{y}<br>Year=2001<br>Number of Searches=%{x}<extra></extra>",
           "legendgroup": "Songs",
           "marker": {
            "color": "#19d3f3",
            "pattern": {
             "shape": ""
            }
           },
           "name": "Songs",
           "offsetgroup": "Songs",
           "orientation": "h",
           "showlegend": true,
           "textposition": "auto",
           "type": "bar",
           "x": [
            0
           ],
           "xaxis": "x",
           "y": [
            "Songs"
           ],
           "yaxis": "y"
          },
          {
           "alignmentgroup": "True",
           "hovertemplate": "category=%{y}<br>Year=2001<br>Number of Searches=%{x}<extra></extra>",
           "legendgroup": "Recipes",
           "marker": {
            "color": "#FF6692",
            "pattern": {
             "shape": ""
            }
           },
           "name": "Recipes",
           "offsetgroup": "Recipes",
           "orientation": "h",
           "showlegend": true,
           "textposition": "auto",
           "type": "bar",
           "x": [
            0
           ],
           "xaxis": "x",
           "y": [
            "Recipes"
           ],
           "yaxis": "y"
          },
          {
           "alignmentgroup": "True",
           "hovertemplate": "category=%{y}<br>Year=2001<br>Number of Searches=%{x}<extra></extra>",
           "legendgroup": "What is...?",
           "marker": {
            "color": "#B6E880",
            "pattern": {
             "shape": ""
            }
           },
           "name": "What is...?",
           "offsetgroup": "What is...?",
           "orientation": "h",
           "showlegend": true,
           "textposition": "auto",
           "type": "bar",
           "x": [
            0
           ],
           "xaxis": "x",
           "y": [
            "What is...?"
           ],
           "yaxis": "y"
          },
          {
           "alignmentgroup": "True",
           "hovertemplate": "category=%{y}<br>Year=2001<br>Number of Searches=%{x}<extra></extra>",
           "legendgroup": "How to...",
           "marker": {
            "color": "#FF97FF",
            "pattern": {
             "shape": ""
            }
           },
           "name": "How to...",
           "offsetgroup": "How to...",
           "orientation": "h",
           "showlegend": true,
           "textposition": "auto",
           "type": "bar",
           "x": [
            0
           ],
           "xaxis": "x",
           "y": [
            "How to..."
           ],
           "yaxis": "y"
          },
          {
           "alignmentgroup": "True",
           "hovertemplate": "category=%{y}<br>Year=2001<br>Number of Searches=%{x}<extra></extra>",
           "legendgroup": "News",
           "marker": {
            "color": "#FECB52",
            "pattern": {
             "shape": ""
            }
           },
           "name": "News",
           "offsetgroup": "News",
           "orientation": "h",
           "showlegend": true,
           "textposition": "auto",
           "type": "bar",
           "x": [
            0
           ],
           "xaxis": "x",
           "y": [
            "News"
           ],
           "yaxis": "y"
          }
         ],
         "name": "2001"
        },
        {
         "data": [
          {
           "alignmentgroup": "True",
           "hovertemplate": "category=%{y}<br>Year=2002<br>Number of Searches=%{x}<extra></extra>",
           "legendgroup": "People",
           "marker": {
            "color": "#636efa",
            "pattern": {
             "shape": ""
            }
           },
           "name": "People",
           "offsetgroup": "People",
           "orientation": "h",
           "showlegend": true,
           "textposition": "auto",
           "type": "bar",
           "x": [
            0
           ],
           "xaxis": "x",
           "y": [
            "People"
           ],
           "yaxis": "y"
          },
          {
           "alignmentgroup": "True",
           "hovertemplate": "category=%{y}<br>Year=2002<br>Number of Searches=%{x}<extra></extra>",
           "legendgroup": "Searches",
           "marker": {
            "color": "#EF553B",
            "pattern": {
             "shape": ""
            }
           },
           "name": "Searches",
           "offsetgroup": "Searches",
           "orientation": "h",
           "showlegend": true,
           "textposition": "auto",
           "type": "bar",
           "x": [
            5
           ],
           "xaxis": "x",
           "y": [
            "Searches"
           ],
           "yaxis": "y"
          },
          {
           "alignmentgroup": "True",
           "hovertemplate": "category=%{y}<br>Year=2002<br>Number of Searches=%{x}<extra></extra>",
           "legendgroup": "Movies",
           "marker": {
            "color": "#00cc96",
            "pattern": {
             "shape": ""
            }
           },
           "name": "Movies",
           "offsetgroup": "Movies",
           "orientation": "h",
           "showlegend": true,
           "textposition": "auto",
           "type": "bar",
           "x": [
            5
           ],
           "xaxis": "x",
           "y": [
            "Movies"
           ],
           "yaxis": "y"
          },
          {
           "alignmentgroup": "True",
           "hovertemplate": "category=%{y}<br>Year=2002<br>Number of Searches=%{x}<extra></extra>",
           "legendgroup": "TV Shows",
           "marker": {
            "color": "#ab63fa",
            "pattern": {
             "shape": ""
            }
           },
           "name": "TV Shows",
           "offsetgroup": "TV Shows",
           "orientation": "h",
           "showlegend": true,
           "textposition": "auto",
           "type": "bar",
           "x": [
            5
           ],
           "xaxis": "x",
           "y": [
            "TV Shows"
           ],
           "yaxis": "y"
          },
          {
           "alignmentgroup": "True",
           "hovertemplate": "category=%{y}<br>Year=2002<br>Number of Searches=%{x}<extra></extra>",
           "legendgroup": "Películas",
           "marker": {
            "color": "#FFA15A",
            "pattern": {
             "shape": ""
            }
           },
           "name": "Películas",
           "offsetgroup": "Películas",
           "orientation": "h",
           "showlegend": true,
           "textposition": "auto",
           "type": "bar",
           "x": [
            0
           ],
           "xaxis": "x",
           "y": [
            "Películas"
           ],
           "yaxis": "y"
          },
          {
           "alignmentgroup": "True",
           "hovertemplate": "category=%{y}<br>Year=2002<br>Number of Searches=%{x}<extra></extra>",
           "legendgroup": "Songs",
           "marker": {
            "color": "#19d3f3",
            "pattern": {
             "shape": ""
            }
           },
           "name": "Songs",
           "offsetgroup": "Songs",
           "orientation": "h",
           "showlegend": true,
           "textposition": "auto",
           "type": "bar",
           "x": [
            0
           ],
           "xaxis": "x",
           "y": [
            "Songs"
           ],
           "yaxis": "y"
          },
          {
           "alignmentgroup": "True",
           "hovertemplate": "category=%{y}<br>Year=2002<br>Number of Searches=%{x}<extra></extra>",
           "legendgroup": "Recipes",
           "marker": {
            "color": "#FF6692",
            "pattern": {
             "shape": ""
            }
           },
           "name": "Recipes",
           "offsetgroup": "Recipes",
           "orientation": "h",
           "showlegend": true,
           "textposition": "auto",
           "type": "bar",
           "x": [
            0
           ],
           "xaxis": "x",
           "y": [
            "Recipes"
           ],
           "yaxis": "y"
          },
          {
           "alignmentgroup": "True",
           "hovertemplate": "category=%{y}<br>Year=2002<br>Number of Searches=%{x}<extra></extra>",
           "legendgroup": "What is...?",
           "marker": {
            "color": "#B6E880",
            "pattern": {
             "shape": ""
            }
           },
           "name": "What is...?",
           "offsetgroup": "What is...?",
           "orientation": "h",
           "showlegend": true,
           "textposition": "auto",
           "type": "bar",
           "x": [
            0
           ],
           "xaxis": "x",
           "y": [
            "What is...?"
           ],
           "yaxis": "y"
          },
          {
           "alignmentgroup": "True",
           "hovertemplate": "category=%{y}<br>Year=2002<br>Number of Searches=%{x}<extra></extra>",
           "legendgroup": "How to...",
           "marker": {
            "color": "#FF97FF",
            "pattern": {
             "shape": ""
            }
           },
           "name": "How to...",
           "offsetgroup": "How to...",
           "orientation": "h",
           "showlegend": true,
           "textposition": "auto",
           "type": "bar",
           "x": [
            0
           ],
           "xaxis": "x",
           "y": [
            "How to..."
           ],
           "yaxis": "y"
          },
          {
           "alignmentgroup": "True",
           "hovertemplate": "category=%{y}<br>Year=2002<br>Number of Searches=%{x}<extra></extra>",
           "legendgroup": "News",
           "marker": {
            "color": "#FECB52",
            "pattern": {
             "shape": ""
            }
           },
           "name": "News",
           "offsetgroup": "News",
           "orientation": "h",
           "showlegend": true,
           "textposition": "auto",
           "type": "bar",
           "x": [
            0
           ],
           "xaxis": "x",
           "y": [
            "News"
           ],
           "yaxis": "y"
          }
         ],
         "name": "2002"
        },
        {
         "data": [
          {
           "alignmentgroup": "True",
           "hovertemplate": "category=%{y}<br>Year=2003<br>Number of Searches=%{x}<extra></extra>",
           "legendgroup": "People",
           "marker": {
            "color": "#636efa",
            "pattern": {
             "shape": ""
            }
           },
           "name": "People",
           "offsetgroup": "People",
           "orientation": "h",
           "showlegend": true,
           "textposition": "auto",
           "type": "bar",
           "x": [
            0
           ],
           "xaxis": "x",
           "y": [
            "People"
           ],
           "yaxis": "y"
          },
          {
           "alignmentgroup": "True",
           "hovertemplate": "category=%{y}<br>Year=2003<br>Number of Searches=%{x}<extra></extra>",
           "legendgroup": "Searches",
           "marker": {
            "color": "#EF553B",
            "pattern": {
             "shape": ""
            }
           },
           "name": "Searches",
           "offsetgroup": "Searches",
           "orientation": "h",
           "showlegend": true,
           "textposition": "auto",
           "type": "bar",
           "x": [
            10
           ],
           "xaxis": "x",
           "y": [
            "Searches"
           ],
           "yaxis": "y"
          },
          {
           "alignmentgroup": "True",
           "hovertemplate": "category=%{y}<br>Year=2003<br>Number of Searches=%{x}<extra></extra>",
           "legendgroup": "Movies",
           "marker": {
            "color": "#00cc96",
            "pattern": {
             "shape": ""
            }
           },
           "name": "Movies",
           "offsetgroup": "Movies",
           "orientation": "h",
           "showlegend": true,
           "textposition": "auto",
           "type": "bar",
           "x": [
            0
           ],
           "xaxis": "x",
           "y": [
            "Movies"
           ],
           "yaxis": "y"
          },
          {
           "alignmentgroup": "True",
           "hovertemplate": "category=%{y}<br>Year=2003<br>Number of Searches=%{x}<extra></extra>",
           "legendgroup": "TV Shows",
           "marker": {
            "color": "#ab63fa",
            "pattern": {
             "shape": ""
            }
           },
           "name": "TV Shows",
           "offsetgroup": "TV Shows",
           "orientation": "h",
           "showlegend": true,
           "textposition": "auto",
           "type": "bar",
           "x": [
            0
           ],
           "xaxis": "x",
           "y": [
            "TV Shows"
           ],
           "yaxis": "y"
          },
          {
           "alignmentgroup": "True",
           "hovertemplate": "category=%{y}<br>Year=2003<br>Number of Searches=%{x}<extra></extra>",
           "legendgroup": "Películas",
           "marker": {
            "color": "#FFA15A",
            "pattern": {
             "shape": ""
            }
           },
           "name": "Películas",
           "offsetgroup": "Películas",
           "orientation": "h",
           "showlegend": true,
           "textposition": "auto",
           "type": "bar",
           "x": [
            0
           ],
           "xaxis": "x",
           "y": [
            "Películas"
           ],
           "yaxis": "y"
          },
          {
           "alignmentgroup": "True",
           "hovertemplate": "category=%{y}<br>Year=2003<br>Number of Searches=%{x}<extra></extra>",
           "legendgroup": "Songs",
           "marker": {
            "color": "#19d3f3",
            "pattern": {
             "shape": ""
            }
           },
           "name": "Songs",
           "offsetgroup": "Songs",
           "orientation": "h",
           "showlegend": true,
           "textposition": "auto",
           "type": "bar",
           "x": [
            0
           ],
           "xaxis": "x",
           "y": [
            "Songs"
           ],
           "yaxis": "y"
          },
          {
           "alignmentgroup": "True",
           "hovertemplate": "category=%{y}<br>Year=2003<br>Number of Searches=%{x}<extra></extra>",
           "legendgroup": "Recipes",
           "marker": {
            "color": "#FF6692",
            "pattern": {
             "shape": ""
            }
           },
           "name": "Recipes",
           "offsetgroup": "Recipes",
           "orientation": "h",
           "showlegend": true,
           "textposition": "auto",
           "type": "bar",
           "x": [
            0
           ],
           "xaxis": "x",
           "y": [
            "Recipes"
           ],
           "yaxis": "y"
          },
          {
           "alignmentgroup": "True",
           "hovertemplate": "category=%{y}<br>Year=2003<br>Number of Searches=%{x}<extra></extra>",
           "legendgroup": "What is...?",
           "marker": {
            "color": "#B6E880",
            "pattern": {
             "shape": ""
            }
           },
           "name": "What is...?",
           "offsetgroup": "What is...?",
           "orientation": "h",
           "showlegend": true,
           "textposition": "auto",
           "type": "bar",
           "x": [
            0
           ],
           "xaxis": "x",
           "y": [
            "What is...?"
           ],
           "yaxis": "y"
          },
          {
           "alignmentgroup": "True",
           "hovertemplate": "category=%{y}<br>Year=2003<br>Number of Searches=%{x}<extra></extra>",
           "legendgroup": "How to...",
           "marker": {
            "color": "#FF97FF",
            "pattern": {
             "shape": ""
            }
           },
           "name": "How to...",
           "offsetgroup": "How to...",
           "orientation": "h",
           "showlegend": true,
           "textposition": "auto",
           "type": "bar",
           "x": [
            0
           ],
           "xaxis": "x",
           "y": [
            "How to..."
           ],
           "yaxis": "y"
          },
          {
           "alignmentgroup": "True",
           "hovertemplate": "category=%{y}<br>Year=2003<br>Number of Searches=%{x}<extra></extra>",
           "legendgroup": "News",
           "marker": {
            "color": "#FECB52",
            "pattern": {
             "shape": ""
            }
           },
           "name": "News",
           "offsetgroup": "News",
           "orientation": "h",
           "showlegend": true,
           "textposition": "auto",
           "type": "bar",
           "x": [
            0
           ],
           "xaxis": "x",
           "y": [
            "News"
           ],
           "yaxis": "y"
          }
         ],
         "name": "2003"
        },
        {
         "data": [
          {
           "alignmentgroup": "True",
           "hovertemplate": "category=%{y}<br>Year=2004<br>Number of Searches=%{x}<extra></extra>",
           "legendgroup": "People",
           "marker": {
            "color": "#636efa",
            "pattern": {
             "shape": ""
            }
           },
           "name": "People",
           "offsetgroup": "People",
           "orientation": "h",
           "showlegend": true,
           "textposition": "auto",
           "type": "bar",
           "x": [
            0
           ],
           "xaxis": "x",
           "y": [
            "People"
           ],
           "yaxis": "y"
          },
          {
           "alignmentgroup": "True",
           "hovertemplate": "category=%{y}<br>Year=2004<br>Number of Searches=%{x}<extra></extra>",
           "legendgroup": "Searches",
           "marker": {
            "color": "#EF553B",
            "pattern": {
             "shape": ""
            }
           },
           "name": "Searches",
           "offsetgroup": "Searches",
           "orientation": "h",
           "showlegend": true,
           "textposition": "auto",
           "type": "bar",
           "x": [
            5
           ],
           "xaxis": "x",
           "y": [
            "Searches"
           ],
           "yaxis": "y"
          },
          {
           "alignmentgroup": "True",
           "hovertemplate": "category=%{y}<br>Year=2004<br>Number of Searches=%{x}<extra></extra>",
           "legendgroup": "Movies",
           "marker": {
            "color": "#00cc96",
            "pattern": {
             "shape": ""
            }
           },
           "name": "Movies",
           "offsetgroup": "Movies",
           "orientation": "h",
           "showlegend": true,
           "textposition": "auto",
           "type": "bar",
           "x": [
            0
           ],
           "xaxis": "x",
           "y": [
            "Movies"
           ],
           "yaxis": "y"
          },
          {
           "alignmentgroup": "True",
           "hovertemplate": "category=%{y}<br>Year=2004<br>Number of Searches=%{x}<extra></extra>",
           "legendgroup": "TV Shows",
           "marker": {
            "color": "#ab63fa",
            "pattern": {
             "shape": ""
            }
           },
           "name": "TV Shows",
           "offsetgroup": "TV Shows",
           "orientation": "h",
           "showlegend": true,
           "textposition": "auto",
           "type": "bar",
           "x": [
            5
           ],
           "xaxis": "x",
           "y": [
            "TV Shows"
           ],
           "yaxis": "y"
          },
          {
           "alignmentgroup": "True",
           "hovertemplate": "category=%{y}<br>Year=2004<br>Number of Searches=%{x}<extra></extra>",
           "legendgroup": "Películas",
           "marker": {
            "color": "#FFA15A",
            "pattern": {
             "shape": ""
            }
           },
           "name": "Películas",
           "offsetgroup": "Películas",
           "orientation": "h",
           "showlegend": true,
           "textposition": "auto",
           "type": "bar",
           "x": [
            0
           ],
           "xaxis": "x",
           "y": [
            "Películas"
           ],
           "yaxis": "y"
          },
          {
           "alignmentgroup": "True",
           "hovertemplate": "category=%{y}<br>Year=2004<br>Number of Searches=%{x}<extra></extra>",
           "legendgroup": "Songs",
           "marker": {
            "color": "#19d3f3",
            "pattern": {
             "shape": ""
            }
           },
           "name": "Songs",
           "offsetgroup": "Songs",
           "orientation": "h",
           "showlegend": true,
           "textposition": "auto",
           "type": "bar",
           "x": [
            0
           ],
           "xaxis": "x",
           "y": [
            "Songs"
           ],
           "yaxis": "y"
          },
          {
           "alignmentgroup": "True",
           "hovertemplate": "category=%{y}<br>Year=2004<br>Number of Searches=%{x}<extra></extra>",
           "legendgroup": "Recipes",
           "marker": {
            "color": "#FF6692",
            "pattern": {
             "shape": ""
            }
           },
           "name": "Recipes",
           "offsetgroup": "Recipes",
           "orientation": "h",
           "showlegend": true,
           "textposition": "auto",
           "type": "bar",
           "x": [
            0
           ],
           "xaxis": "x",
           "y": [
            "Recipes"
           ],
           "yaxis": "y"
          },
          {
           "alignmentgroup": "True",
           "hovertemplate": "category=%{y}<br>Year=2004<br>Number of Searches=%{x}<extra></extra>",
           "legendgroup": "What is...?",
           "marker": {
            "color": "#B6E880",
            "pattern": {
             "shape": ""
            }
           },
           "name": "What is...?",
           "offsetgroup": "What is...?",
           "orientation": "h",
           "showlegend": true,
           "textposition": "auto",
           "type": "bar",
           "x": [
            0
           ],
           "xaxis": "x",
           "y": [
            "What is...?"
           ],
           "yaxis": "y"
          },
          {
           "alignmentgroup": "True",
           "hovertemplate": "category=%{y}<br>Year=2004<br>Number of Searches=%{x}<extra></extra>",
           "legendgroup": "How to...",
           "marker": {
            "color": "#FF97FF",
            "pattern": {
             "shape": ""
            }
           },
           "name": "How to...",
           "offsetgroup": "How to...",
           "orientation": "h",
           "showlegend": true,
           "textposition": "auto",
           "type": "bar",
           "x": [
            0
           ],
           "xaxis": "x",
           "y": [
            "How to..."
           ],
           "yaxis": "y"
          },
          {
           "alignmentgroup": "True",
           "hovertemplate": "category=%{y}<br>Year=2004<br>Number of Searches=%{x}<extra></extra>",
           "legendgroup": "News",
           "marker": {
            "color": "#FECB52",
            "pattern": {
             "shape": ""
            }
           },
           "name": "News",
           "offsetgroup": "News",
           "orientation": "h",
           "showlegend": true,
           "textposition": "auto",
           "type": "bar",
           "x": [
            0
           ],
           "xaxis": "x",
           "y": [
            "News"
           ],
           "yaxis": "y"
          }
         ],
         "name": "2004"
        },
        {
         "data": [
          {
           "alignmentgroup": "True",
           "hovertemplate": "category=%{y}<br>Year=2005<br>Number of Searches=%{x}<extra></extra>",
           "legendgroup": "People",
           "marker": {
            "color": "#636efa",
            "pattern": {
             "shape": ""
            }
           },
           "name": "People",
           "offsetgroup": "People",
           "orientation": "h",
           "showlegend": true,
           "textposition": "auto",
           "type": "bar",
           "x": [
            0
           ],
           "xaxis": "x",
           "y": [
            "People"
           ],
           "yaxis": "y"
          },
          {
           "alignmentgroup": "True",
           "hovertemplate": "category=%{y}<br>Year=2005<br>Number of Searches=%{x}<extra></extra>",
           "legendgroup": "Searches",
           "marker": {
            "color": "#EF553B",
            "pattern": {
             "shape": ""
            }
           },
           "name": "Searches",
           "offsetgroup": "Searches",
           "orientation": "h",
           "showlegend": true,
           "textposition": "auto",
           "type": "bar",
           "x": [
            0
           ],
           "xaxis": "x",
           "y": [
            "Searches"
           ],
           "yaxis": "y"
          },
          {
           "alignmentgroup": "True",
           "hovertemplate": "category=%{y}<br>Year=2005<br>Number of Searches=%{x}<extra></extra>",
           "legendgroup": "Movies",
           "marker": {
            "color": "#00cc96",
            "pattern": {
             "shape": ""
            }
           },
           "name": "Movies",
           "offsetgroup": "Movies",
           "orientation": "h",
           "showlegend": true,
           "textposition": "auto",
           "type": "bar",
           "x": [
            0
           ],
           "xaxis": "x",
           "y": [
            "Movies"
           ],
           "yaxis": "y"
          },
          {
           "alignmentgroup": "True",
           "hovertemplate": "category=%{y}<br>Year=2005<br>Number of Searches=%{x}<extra></extra>",
           "legendgroup": "TV Shows",
           "marker": {
            "color": "#ab63fa",
            "pattern": {
             "shape": ""
            }
           },
           "name": "TV Shows",
           "offsetgroup": "TV Shows",
           "orientation": "h",
           "showlegend": true,
           "textposition": "auto",
           "type": "bar",
           "x": [
            0
           ],
           "xaxis": "x",
           "y": [
            "TV Shows"
           ],
           "yaxis": "y"
          },
          {
           "alignmentgroup": "True",
           "hovertemplate": "category=%{y}<br>Year=2005<br>Number of Searches=%{x}<extra></extra>",
           "legendgroup": "Películas",
           "marker": {
            "color": "#FFA15A",
            "pattern": {
             "shape": ""
            }
           },
           "name": "Películas",
           "offsetgroup": "Películas",
           "orientation": "h",
           "showlegend": true,
           "textposition": "auto",
           "type": "bar",
           "x": [
            0
           ],
           "xaxis": "x",
           "y": [
            "Películas"
           ],
           "yaxis": "y"
          },
          {
           "alignmentgroup": "True",
           "hovertemplate": "category=%{y}<br>Year=2005<br>Number of Searches=%{x}<extra></extra>",
           "legendgroup": "Songs",
           "marker": {
            "color": "#19d3f3",
            "pattern": {
             "shape": ""
            }
           },
           "name": "Songs",
           "offsetgroup": "Songs",
           "orientation": "h",
           "showlegend": true,
           "textposition": "auto",
           "type": "bar",
           "x": [
            0
           ],
           "xaxis": "x",
           "y": [
            "Songs"
           ],
           "yaxis": "y"
          },
          {
           "alignmentgroup": "True",
           "hovertemplate": "category=%{y}<br>Year=2005<br>Number of Searches=%{x}<extra></extra>",
           "legendgroup": "Recipes",
           "marker": {
            "color": "#FF6692",
            "pattern": {
             "shape": ""
            }
           },
           "name": "Recipes",
           "offsetgroup": "Recipes",
           "orientation": "h",
           "showlegend": true,
           "textposition": "auto",
           "type": "bar",
           "x": [
            0
           ],
           "xaxis": "x",
           "y": [
            "Recipes"
           ],
           "yaxis": "y"
          },
          {
           "alignmentgroup": "True",
           "hovertemplate": "category=%{y}<br>Year=2005<br>Number of Searches=%{x}<extra></extra>",
           "legendgroup": "What is...?",
           "marker": {
            "color": "#B6E880",
            "pattern": {
             "shape": ""
            }
           },
           "name": "What is...?",
           "offsetgroup": "What is...?",
           "orientation": "h",
           "showlegend": true,
           "textposition": "auto",
           "type": "bar",
           "x": [
            0
           ],
           "xaxis": "x",
           "y": [
            "What is...?"
           ],
           "yaxis": "y"
          },
          {
           "alignmentgroup": "True",
           "hovertemplate": "category=%{y}<br>Year=2005<br>Number of Searches=%{x}<extra></extra>",
           "legendgroup": "How to...",
           "marker": {
            "color": "#FF97FF",
            "pattern": {
             "shape": ""
            }
           },
           "name": "How to...",
           "offsetgroup": "How to...",
           "orientation": "h",
           "showlegend": true,
           "textposition": "auto",
           "type": "bar",
           "x": [
            0
           ],
           "xaxis": "x",
           "y": [
            "How to..."
           ],
           "yaxis": "y"
          },
          {
           "alignmentgroup": "True",
           "hovertemplate": "category=%{y}<br>Year=2005<br>Number of Searches=%{x}<extra></extra>",
           "legendgroup": "News",
           "marker": {
            "color": "#FECB52",
            "pattern": {
             "shape": ""
            }
           },
           "name": "News",
           "offsetgroup": "News",
           "orientation": "h",
           "showlegend": true,
           "textposition": "auto",
           "type": "bar",
           "x": [
            0
           ],
           "xaxis": "x",
           "y": [
            "News"
           ],
           "yaxis": "y"
          }
         ],
         "name": "2005"
        },
        {
         "data": [
          {
           "alignmentgroup": "True",
           "hovertemplate": "category=%{y}<br>Year=2006<br>Number of Searches=%{x}<extra></extra>",
           "legendgroup": "People",
           "marker": {
            "color": "#636efa",
            "pattern": {
             "shape": ""
            }
           },
           "name": "People",
           "offsetgroup": "People",
           "orientation": "h",
           "showlegend": true,
           "textposition": "auto",
           "type": "bar",
           "x": [
            0
           ],
           "xaxis": "x",
           "y": [
            "People"
           ],
           "yaxis": "y"
          },
          {
           "alignmentgroup": "True",
           "hovertemplate": "category=%{y}<br>Year=2006<br>Number of Searches=%{x}<extra></extra>",
           "legendgroup": "Searches",
           "marker": {
            "color": "#EF553B",
            "pattern": {
             "shape": ""
            }
           },
           "name": "Searches",
           "offsetgroup": "Searches",
           "orientation": "h",
           "showlegend": true,
           "textposition": "auto",
           "type": "bar",
           "x": [
            0
           ],
           "xaxis": "x",
           "y": [
            "Searches"
           ],
           "yaxis": "y"
          },
          {
           "alignmentgroup": "True",
           "hovertemplate": "category=%{y}<br>Year=2006<br>Number of Searches=%{x}<extra></extra>",
           "legendgroup": "Movies",
           "marker": {
            "color": "#00cc96",
            "pattern": {
             "shape": ""
            }
           },
           "name": "Movies",
           "offsetgroup": "Movies",
           "orientation": "h",
           "showlegend": true,
           "textposition": "auto",
           "type": "bar",
           "x": [
            0
           ],
           "xaxis": "x",
           "y": [
            "Movies"
           ],
           "yaxis": "y"
          },
          {
           "alignmentgroup": "True",
           "hovertemplate": "category=%{y}<br>Year=2006<br>Number of Searches=%{x}<extra></extra>",
           "legendgroup": "TV Shows",
           "marker": {
            "color": "#ab63fa",
            "pattern": {
             "shape": ""
            }
           },
           "name": "TV Shows",
           "offsetgroup": "TV Shows",
           "orientation": "h",
           "showlegend": true,
           "textposition": "auto",
           "type": "bar",
           "x": [
            0
           ],
           "xaxis": "x",
           "y": [
            "TV Shows"
           ],
           "yaxis": "y"
          },
          {
           "alignmentgroup": "True",
           "hovertemplate": "category=%{y}<br>Year=2006<br>Number of Searches=%{x}<extra></extra>",
           "legendgroup": "Películas",
           "marker": {
            "color": "#FFA15A",
            "pattern": {
             "shape": ""
            }
           },
           "name": "Películas",
           "offsetgroup": "Películas",
           "orientation": "h",
           "showlegend": true,
           "textposition": "auto",
           "type": "bar",
           "x": [
            0
           ],
           "xaxis": "x",
           "y": [
            "Películas"
           ],
           "yaxis": "y"
          },
          {
           "alignmentgroup": "True",
           "hovertemplate": "category=%{y}<br>Year=2006<br>Number of Searches=%{x}<extra></extra>",
           "legendgroup": "Songs",
           "marker": {
            "color": "#19d3f3",
            "pattern": {
             "shape": ""
            }
           },
           "name": "Songs",
           "offsetgroup": "Songs",
           "orientation": "h",
           "showlegend": true,
           "textposition": "auto",
           "type": "bar",
           "x": [
            0
           ],
           "xaxis": "x",
           "y": [
            "Songs"
           ],
           "yaxis": "y"
          },
          {
           "alignmentgroup": "True",
           "hovertemplate": "category=%{y}<br>Year=2006<br>Number of Searches=%{x}<extra></extra>",
           "legendgroup": "Recipes",
           "marker": {
            "color": "#FF6692",
            "pattern": {
             "shape": ""
            }
           },
           "name": "Recipes",
           "offsetgroup": "Recipes",
           "orientation": "h",
           "showlegend": true,
           "textposition": "auto",
           "type": "bar",
           "x": [
            0
           ],
           "xaxis": "x",
           "y": [
            "Recipes"
           ],
           "yaxis": "y"
          },
          {
           "alignmentgroup": "True",
           "hovertemplate": "category=%{y}<br>Year=2006<br>Number of Searches=%{x}<extra></extra>",
           "legendgroup": "What is...?",
           "marker": {
            "color": "#B6E880",
            "pattern": {
             "shape": ""
            }
           },
           "name": "What is...?",
           "offsetgroup": "What is...?",
           "orientation": "h",
           "showlegend": true,
           "textposition": "auto",
           "type": "bar",
           "x": [
            0
           ],
           "xaxis": "x",
           "y": [
            "What is...?"
           ],
           "yaxis": "y"
          },
          {
           "alignmentgroup": "True",
           "hovertemplate": "category=%{y}<br>Year=2006<br>Number of Searches=%{x}<extra></extra>",
           "legendgroup": "How to...",
           "marker": {
            "color": "#FF97FF",
            "pattern": {
             "shape": ""
            }
           },
           "name": "How to...",
           "offsetgroup": "How to...",
           "orientation": "h",
           "showlegend": true,
           "textposition": "auto",
           "type": "bar",
           "x": [
            5
           ],
           "xaxis": "x",
           "y": [
            "How to..."
           ],
           "yaxis": "y"
          },
          {
           "alignmentgroup": "True",
           "hovertemplate": "category=%{y}<br>Year=2006<br>Number of Searches=%{x}<extra></extra>",
           "legendgroup": "News",
           "marker": {
            "color": "#FECB52",
            "pattern": {
             "shape": ""
            }
           },
           "name": "News",
           "offsetgroup": "News",
           "orientation": "h",
           "showlegend": true,
           "textposition": "auto",
           "type": "bar",
           "x": [
            0
           ],
           "xaxis": "x",
           "y": [
            "News"
           ],
           "yaxis": "y"
          }
         ],
         "name": "2006"
        },
        {
         "data": [
          {
           "alignmentgroup": "True",
           "hovertemplate": "category=%{y}<br>Year=2007<br>Number of Searches=%{x}<extra></extra>",
           "legendgroup": "People",
           "marker": {
            "color": "#636efa",
            "pattern": {
             "shape": ""
            }
           },
           "name": "People",
           "offsetgroup": "People",
           "orientation": "h",
           "showlegend": true,
           "textposition": "auto",
           "type": "bar",
           "x": [
            0
           ],
           "xaxis": "x",
           "y": [
            "People"
           ],
           "yaxis": "y"
          },
          {
           "alignmentgroup": "True",
           "hovertemplate": "category=%{y}<br>Year=2007<br>Number of Searches=%{x}<extra></extra>",
           "legendgroup": "Searches",
           "marker": {
            "color": "#EF553B",
            "pattern": {
             "shape": ""
            }
           },
           "name": "Searches",
           "offsetgroup": "Searches",
           "orientation": "h",
           "showlegend": true,
           "textposition": "auto",
           "type": "bar",
           "x": [
            0
           ],
           "xaxis": "x",
           "y": [
            "Searches"
           ],
           "yaxis": "y"
          },
          {
           "alignmentgroup": "True",
           "hovertemplate": "category=%{y}<br>Year=2007<br>Number of Searches=%{x}<extra></extra>",
           "legendgroup": "Movies",
           "marker": {
            "color": "#00cc96",
            "pattern": {
             "shape": ""
            }
           },
           "name": "Movies",
           "offsetgroup": "Movies",
           "orientation": "h",
           "showlegend": true,
           "textposition": "auto",
           "type": "bar",
           "x": [
            0
           ],
           "xaxis": "x",
           "y": [
            "Movies"
           ],
           "yaxis": "y"
          },
          {
           "alignmentgroup": "True",
           "hovertemplate": "category=%{y}<br>Year=2007<br>Number of Searches=%{x}<extra></extra>",
           "legendgroup": "TV Shows",
           "marker": {
            "color": "#ab63fa",
            "pattern": {
             "shape": ""
            }
           },
           "name": "TV Shows",
           "offsetgroup": "TV Shows",
           "orientation": "h",
           "showlegend": true,
           "textposition": "auto",
           "type": "bar",
           "x": [
            0
           ],
           "xaxis": "x",
           "y": [
            "TV Shows"
           ],
           "yaxis": "y"
          },
          {
           "alignmentgroup": "True",
           "hovertemplate": "category=%{y}<br>Year=2007<br>Number of Searches=%{x}<extra></extra>",
           "legendgroup": "Películas",
           "marker": {
            "color": "#FFA15A",
            "pattern": {
             "shape": ""
            }
           },
           "name": "Películas",
           "offsetgroup": "Películas",
           "orientation": "h",
           "showlegend": true,
           "textposition": "auto",
           "type": "bar",
           "x": [
            0
           ],
           "xaxis": "x",
           "y": [
            "Películas"
           ],
           "yaxis": "y"
          },
          {
           "alignmentgroup": "True",
           "hovertemplate": "category=%{y}<br>Year=2007<br>Number of Searches=%{x}<extra></extra>",
           "legendgroup": "Songs",
           "marker": {
            "color": "#19d3f3",
            "pattern": {
             "shape": ""
            }
           },
           "name": "Songs",
           "offsetgroup": "Songs",
           "orientation": "h",
           "showlegend": true,
           "textposition": "auto",
           "type": "bar",
           "x": [
            0
           ],
           "xaxis": "x",
           "y": [
            "Songs"
           ],
           "yaxis": "y"
          },
          {
           "alignmentgroup": "True",
           "hovertemplate": "category=%{y}<br>Year=2007<br>Number of Searches=%{x}<extra></extra>",
           "legendgroup": "Recipes",
           "marker": {
            "color": "#FF6692",
            "pattern": {
             "shape": ""
            }
           },
           "name": "Recipes",
           "offsetgroup": "Recipes",
           "orientation": "h",
           "showlegend": true,
           "textposition": "auto",
           "type": "bar",
           "x": [
            5
           ],
           "xaxis": "x",
           "y": [
            "Recipes"
           ],
           "yaxis": "y"
          },
          {
           "alignmentgroup": "True",
           "hovertemplate": "category=%{y}<br>Year=2007<br>Number of Searches=%{x}<extra></extra>",
           "legendgroup": "What is...?",
           "marker": {
            "color": "#B6E880",
            "pattern": {
             "shape": ""
            }
           },
           "name": "What is...?",
           "offsetgroup": "What is...?",
           "orientation": "h",
           "showlegend": true,
           "textposition": "auto",
           "type": "bar",
           "x": [
            0
           ],
           "xaxis": "x",
           "y": [
            "What is...?"
           ],
           "yaxis": "y"
          },
          {
           "alignmentgroup": "True",
           "hovertemplate": "category=%{y}<br>Year=2007<br>Number of Searches=%{x}<extra></extra>",
           "legendgroup": "How to...",
           "marker": {
            "color": "#FF97FF",
            "pattern": {
             "shape": ""
            }
           },
           "name": "How to...",
           "offsetgroup": "How to...",
           "orientation": "h",
           "showlegend": true,
           "textposition": "auto",
           "type": "bar",
           "x": [
            0
           ],
           "xaxis": "x",
           "y": [
            "How to..."
           ],
           "yaxis": "y"
          },
          {
           "alignmentgroup": "True",
           "hovertemplate": "category=%{y}<br>Year=2007<br>Number of Searches=%{x}<extra></extra>",
           "legendgroup": "News",
           "marker": {
            "color": "#FECB52",
            "pattern": {
             "shape": ""
            }
           },
           "name": "News",
           "offsetgroup": "News",
           "orientation": "h",
           "showlegend": true,
           "textposition": "auto",
           "type": "bar",
           "x": [
            0
           ],
           "xaxis": "x",
           "y": [
            "News"
           ],
           "yaxis": "y"
          }
         ],
         "name": "2007"
        },
        {
         "data": [
          {
           "alignmentgroup": "True",
           "hovertemplate": "category=%{y}<br>Year=2008<br>Number of Searches=%{x}<extra></extra>",
           "legendgroup": "People",
           "marker": {
            "color": "#636efa",
            "pattern": {
             "shape": ""
            }
           },
           "name": "People",
           "offsetgroup": "People",
           "orientation": "h",
           "showlegend": true,
           "textposition": "auto",
           "type": "bar",
           "x": [
            0
           ],
           "xaxis": "x",
           "y": [
            "People"
           ],
           "yaxis": "y"
          },
          {
           "alignmentgroup": "True",
           "hovertemplate": "category=%{y}<br>Year=2008<br>Number of Searches=%{x}<extra></extra>",
           "legendgroup": "Searches",
           "marker": {
            "color": "#EF553B",
            "pattern": {
             "shape": ""
            }
           },
           "name": "Searches",
           "offsetgroup": "Searches",
           "orientation": "h",
           "showlegend": true,
           "textposition": "auto",
           "type": "bar",
           "x": [
            5
           ],
           "xaxis": "x",
           "y": [
            "Searches"
           ],
           "yaxis": "y"
          },
          {
           "alignmentgroup": "True",
           "hovertemplate": "category=%{y}<br>Year=2008<br>Number of Searches=%{x}<extra></extra>",
           "legendgroup": "Movies",
           "marker": {
            "color": "#00cc96",
            "pattern": {
             "shape": ""
            }
           },
           "name": "Movies",
           "offsetgroup": "Movies",
           "orientation": "h",
           "showlegend": true,
           "textposition": "auto",
           "type": "bar",
           "x": [
            0
           ],
           "xaxis": "x",
           "y": [
            "Movies"
           ],
           "yaxis": "y"
          },
          {
           "alignmentgroup": "True",
           "hovertemplate": "category=%{y}<br>Year=2008<br>Number of Searches=%{x}<extra></extra>",
           "legendgroup": "TV Shows",
           "marker": {
            "color": "#ab63fa",
            "pattern": {
             "shape": ""
            }
           },
           "name": "TV Shows",
           "offsetgroup": "TV Shows",
           "orientation": "h",
           "showlegend": true,
           "textposition": "auto",
           "type": "bar",
           "x": [
            5
           ],
           "xaxis": "x",
           "y": [
            "TV Shows"
           ],
           "yaxis": "y"
          },
          {
           "alignmentgroup": "True",
           "hovertemplate": "category=%{y}<br>Year=2008<br>Number of Searches=%{x}<extra></extra>",
           "legendgroup": "Películas",
           "marker": {
            "color": "#FFA15A",
            "pattern": {
             "shape": ""
            }
           },
           "name": "Películas",
           "offsetgroup": "Películas",
           "orientation": "h",
           "showlegend": true,
           "textposition": "auto",
           "type": "bar",
           "x": [
            0
           ],
           "xaxis": "x",
           "y": [
            "Películas"
           ],
           "yaxis": "y"
          },
          {
           "alignmentgroup": "True",
           "hovertemplate": "category=%{y}<br>Year=2008<br>Number of Searches=%{x}<extra></extra>",
           "legendgroup": "Songs",
           "marker": {
            "color": "#19d3f3",
            "pattern": {
             "shape": ""
            }
           },
           "name": "Songs",
           "offsetgroup": "Songs",
           "orientation": "h",
           "showlegend": true,
           "textposition": "auto",
           "type": "bar",
           "x": [
            0
           ],
           "xaxis": "x",
           "y": [
            "Songs"
           ],
           "yaxis": "y"
          },
          {
           "alignmentgroup": "True",
           "hovertemplate": "category=%{y}<br>Year=2008<br>Number of Searches=%{x}<extra></extra>",
           "legendgroup": "Recipes",
           "marker": {
            "color": "#FF6692",
            "pattern": {
             "shape": ""
            }
           },
           "name": "Recipes",
           "offsetgroup": "Recipes",
           "orientation": "h",
           "showlegend": true,
           "textposition": "auto",
           "type": "bar",
           "x": [
            0
           ],
           "xaxis": "x",
           "y": [
            "Recipes"
           ],
           "yaxis": "y"
          },
          {
           "alignmentgroup": "True",
           "hovertemplate": "category=%{y}<br>Year=2008<br>Number of Searches=%{x}<extra></extra>",
           "legendgroup": "What is...?",
           "marker": {
            "color": "#B6E880",
            "pattern": {
             "shape": ""
            }
           },
           "name": "What is...?",
           "offsetgroup": "What is...?",
           "orientation": "h",
           "showlegend": true,
           "textposition": "auto",
           "type": "bar",
           "x": [
            0
           ],
           "xaxis": "x",
           "y": [
            "What is...?"
           ],
           "yaxis": "y"
          },
          {
           "alignmentgroup": "True",
           "hovertemplate": "category=%{y}<br>Year=2008<br>Number of Searches=%{x}<extra></extra>",
           "legendgroup": "How to...",
           "marker": {
            "color": "#FF97FF",
            "pattern": {
             "shape": ""
            }
           },
           "name": "How to...",
           "offsetgroup": "How to...",
           "orientation": "h",
           "showlegend": true,
           "textposition": "auto",
           "type": "bar",
           "x": [
            0
           ],
           "xaxis": "x",
           "y": [
            "How to..."
           ],
           "yaxis": "y"
          },
          {
           "alignmentgroup": "True",
           "hovertemplate": "category=%{y}<br>Year=2008<br>Number of Searches=%{x}<extra></extra>",
           "legendgroup": "News",
           "marker": {
            "color": "#FECB52",
            "pattern": {
             "shape": ""
            }
           },
           "name": "News",
           "offsetgroup": "News",
           "orientation": "h",
           "showlegend": true,
           "textposition": "auto",
           "type": "bar",
           "x": [
            0
           ],
           "xaxis": "x",
           "y": [
            "News"
           ],
           "yaxis": "y"
          }
         ],
         "name": "2008"
        },
        {
         "data": [
          {
           "alignmentgroup": "True",
           "hovertemplate": "category=%{y}<br>Year=2009<br>Number of Searches=%{x}<extra></extra>",
           "legendgroup": "People",
           "marker": {
            "color": "#636efa",
            "pattern": {
             "shape": ""
            }
           },
           "name": "People",
           "offsetgroup": "People",
           "orientation": "h",
           "showlegend": true,
           "textposition": "auto",
           "type": "bar",
           "x": [
            0
           ],
           "xaxis": "x",
           "y": [
            "People"
           ],
           "yaxis": "y"
          },
          {
           "alignmentgroup": "True",
           "hovertemplate": "category=%{y}<br>Year=2009<br>Number of Searches=%{x}<extra></extra>",
           "legendgroup": "Searches",
           "marker": {
            "color": "#EF553B",
            "pattern": {
             "shape": ""
            }
           },
           "name": "Searches",
           "offsetgroup": "Searches",
           "orientation": "h",
           "showlegend": true,
           "textposition": "auto",
           "type": "bar",
           "x": [
            0
           ],
           "xaxis": "x",
           "y": [
            "Searches"
           ],
           "yaxis": "y"
          },
          {
           "alignmentgroup": "True",
           "hovertemplate": "category=%{y}<br>Year=2009<br>Number of Searches=%{x}<extra></extra>",
           "legendgroup": "Movies",
           "marker": {
            "color": "#00cc96",
            "pattern": {
             "shape": ""
            }
           },
           "name": "Movies",
           "offsetgroup": "Movies",
           "orientation": "h",
           "showlegend": true,
           "textposition": "auto",
           "type": "bar",
           "x": [
            0
           ],
           "xaxis": "x",
           "y": [
            "Movies"
           ],
           "yaxis": "y"
          },
          {
           "alignmentgroup": "True",
           "hovertemplate": "category=%{y}<br>Year=2009<br>Number of Searches=%{x}<extra></extra>",
           "legendgroup": "TV Shows",
           "marker": {
            "color": "#ab63fa",
            "pattern": {
             "shape": ""
            }
           },
           "name": "TV Shows",
           "offsetgroup": "TV Shows",
           "orientation": "h",
           "showlegend": true,
           "textposition": "auto",
           "type": "bar",
           "x": [
            0
           ],
           "xaxis": "x",
           "y": [
            "TV Shows"
           ],
           "yaxis": "y"
          },
          {
           "alignmentgroup": "True",
           "hovertemplate": "category=%{y}<br>Year=2009<br>Number of Searches=%{x}<extra></extra>",
           "legendgroup": "Películas",
           "marker": {
            "color": "#FFA15A",
            "pattern": {
             "shape": ""
            }
           },
           "name": "Películas",
           "offsetgroup": "Películas",
           "orientation": "h",
           "showlegend": true,
           "textposition": "auto",
           "type": "bar",
           "x": [
            0
           ],
           "xaxis": "x",
           "y": [
            "Películas"
           ],
           "yaxis": "y"
          },
          {
           "alignmentgroup": "True",
           "hovertemplate": "category=%{y}<br>Year=2009<br>Number of Searches=%{x}<extra></extra>",
           "legendgroup": "Songs",
           "marker": {
            "color": "#19d3f3",
            "pattern": {
             "shape": ""
            }
           },
           "name": "Songs",
           "offsetgroup": "Songs",
           "orientation": "h",
           "showlegend": true,
           "textposition": "auto",
           "type": "bar",
           "x": [
            0
           ],
           "xaxis": "x",
           "y": [
            "Songs"
           ],
           "yaxis": "y"
          },
          {
           "alignmentgroup": "True",
           "hovertemplate": "category=%{y}<br>Year=2009<br>Number of Searches=%{x}<extra></extra>",
           "legendgroup": "Recipes",
           "marker": {
            "color": "#FF6692",
            "pattern": {
             "shape": ""
            }
           },
           "name": "Recipes",
           "offsetgroup": "Recipes",
           "orientation": "h",
           "showlegend": true,
           "textposition": "auto",
           "type": "bar",
           "x": [
            5
           ],
           "xaxis": "x",
           "y": [
            "Recipes"
           ],
           "yaxis": "y"
          },
          {
           "alignmentgroup": "True",
           "hovertemplate": "category=%{y}<br>Year=2009<br>Number of Searches=%{x}<extra></extra>",
           "legendgroup": "What is...?",
           "marker": {
            "color": "#B6E880",
            "pattern": {
             "shape": ""
            }
           },
           "name": "What is...?",
           "offsetgroup": "What is...?",
           "orientation": "h",
           "showlegend": true,
           "textposition": "auto",
           "type": "bar",
           "x": [
            0
           ],
           "xaxis": "x",
           "y": [
            "What is...?"
           ],
           "yaxis": "y"
          },
          {
           "alignmentgroup": "True",
           "hovertemplate": "category=%{y}<br>Year=2009<br>Number of Searches=%{x}<extra></extra>",
           "legendgroup": "How to...",
           "marker": {
            "color": "#FF97FF",
            "pattern": {
             "shape": ""
            }
           },
           "name": "How to...",
           "offsetgroup": "How to...",
           "orientation": "h",
           "showlegend": true,
           "textposition": "auto",
           "type": "bar",
           "x": [
            0
           ],
           "xaxis": "x",
           "y": [
            "How to..."
           ],
           "yaxis": "y"
          },
          {
           "alignmentgroup": "True",
           "hovertemplate": "category=%{y}<br>Year=2009<br>Number of Searches=%{x}<extra></extra>",
           "legendgroup": "News",
           "marker": {
            "color": "#FECB52",
            "pattern": {
             "shape": ""
            }
           },
           "name": "News",
           "offsetgroup": "News",
           "orientation": "h",
           "showlegend": true,
           "textposition": "auto",
           "type": "bar",
           "x": [
            0
           ],
           "xaxis": "x",
           "y": [
            "News"
           ],
           "yaxis": "y"
          }
         ],
         "name": "2009"
        },
        {
         "data": [
          {
           "alignmentgroup": "True",
           "hovertemplate": "category=%{y}<br>Year=2010<br>Number of Searches=%{x}<extra></extra>",
           "legendgroup": "People",
           "marker": {
            "color": "#636efa",
            "pattern": {
             "shape": ""
            }
           },
           "name": "People",
           "offsetgroup": "People",
           "orientation": "h",
           "showlegend": true,
           "textposition": "auto",
           "type": "bar",
           "x": [
            10
           ],
           "xaxis": "x",
           "y": [
            "People"
           ],
           "yaxis": "y"
          },
          {
           "alignmentgroup": "True",
           "hovertemplate": "category=%{y}<br>Year=2010<br>Number of Searches=%{x}<extra></extra>",
           "legendgroup": "Searches",
           "marker": {
            "color": "#EF553B",
            "pattern": {
             "shape": ""
            }
           },
           "name": "Searches",
           "offsetgroup": "Searches",
           "orientation": "h",
           "showlegend": true,
           "textposition": "auto",
           "type": "bar",
           "x": [
            0
           ],
           "xaxis": "x",
           "y": [
            "Searches"
           ],
           "yaxis": "y"
          },
          {
           "alignmentgroup": "True",
           "hovertemplate": "category=%{y}<br>Year=2010<br>Number of Searches=%{x}<extra></extra>",
           "legendgroup": "Movies",
           "marker": {
            "color": "#00cc96",
            "pattern": {
             "shape": ""
            }
           },
           "name": "Movies",
           "offsetgroup": "Movies",
           "orientation": "h",
           "showlegend": true,
           "textposition": "auto",
           "type": "bar",
           "x": [
            0
           ],
           "xaxis": "x",
           "y": [
            "Movies"
           ],
           "yaxis": "y"
          },
          {
           "alignmentgroup": "True",
           "hovertemplate": "category=%{y}<br>Year=2010<br>Number of Searches=%{x}<extra></extra>",
           "legendgroup": "TV Shows",
           "marker": {
            "color": "#ab63fa",
            "pattern": {
             "shape": ""
            }
           },
           "name": "TV Shows",
           "offsetgroup": "TV Shows",
           "orientation": "h",
           "showlegend": true,
           "textposition": "auto",
           "type": "bar",
           "x": [
            5
           ],
           "xaxis": "x",
           "y": [
            "TV Shows"
           ],
           "yaxis": "y"
          },
          {
           "alignmentgroup": "True",
           "hovertemplate": "category=%{y}<br>Year=2010<br>Number of Searches=%{x}<extra></extra>",
           "legendgroup": "Películas",
           "marker": {
            "color": "#FFA15A",
            "pattern": {
             "shape": ""
            }
           },
           "name": "Películas",
           "offsetgroup": "Películas",
           "orientation": "h",
           "showlegend": true,
           "textposition": "auto",
           "type": "bar",
           "x": [
            0
           ],
           "xaxis": "x",
           "y": [
            "Películas"
           ],
           "yaxis": "y"
          },
          {
           "alignmentgroup": "True",
           "hovertemplate": "category=%{y}<br>Year=2010<br>Number of Searches=%{x}<extra></extra>",
           "legendgroup": "Songs",
           "marker": {
            "color": "#19d3f3",
            "pattern": {
             "shape": ""
            }
           },
           "name": "Songs",
           "offsetgroup": "Songs",
           "orientation": "h",
           "showlegend": true,
           "textposition": "auto",
           "type": "bar",
           "x": [
            0
           ],
           "xaxis": "x",
           "y": [
            "Songs"
           ],
           "yaxis": "y"
          },
          {
           "alignmentgroup": "True",
           "hovertemplate": "category=%{y}<br>Year=2010<br>Number of Searches=%{x}<extra></extra>",
           "legendgroup": "Recipes",
           "marker": {
            "color": "#FF6692",
            "pattern": {
             "shape": ""
            }
           },
           "name": "Recipes",
           "offsetgroup": "Recipes",
           "orientation": "h",
           "showlegend": true,
           "textposition": "auto",
           "type": "bar",
           "x": [
            0
           ],
           "xaxis": "x",
           "y": [
            "Recipes"
           ],
           "yaxis": "y"
          },
          {
           "alignmentgroup": "True",
           "hovertemplate": "category=%{y}<br>Year=2010<br>Number of Searches=%{x}<extra></extra>",
           "legendgroup": "What is...?",
           "marker": {
            "color": "#B6E880",
            "pattern": {
             "shape": ""
            }
           },
           "name": "What is...?",
           "offsetgroup": "What is...?",
           "orientation": "h",
           "showlegend": true,
           "textposition": "auto",
           "type": "bar",
           "x": [
            0
           ],
           "xaxis": "x",
           "y": [
            "What is...?"
           ],
           "yaxis": "y"
          },
          {
           "alignmentgroup": "True",
           "hovertemplate": "category=%{y}<br>Year=2010<br>Number of Searches=%{x}<extra></extra>",
           "legendgroup": "How to...",
           "marker": {
            "color": "#FF97FF",
            "pattern": {
             "shape": ""
            }
           },
           "name": "How to...",
           "offsetgroup": "How to...",
           "orientation": "h",
           "showlegend": true,
           "textposition": "auto",
           "type": "bar",
           "x": [
            0
           ],
           "xaxis": "x",
           "y": [
            "How to..."
           ],
           "yaxis": "y"
          },
          {
           "alignmentgroup": "True",
           "hovertemplate": "category=%{y}<br>Year=2010<br>Number of Searches=%{x}<extra></extra>",
           "legendgroup": "News",
           "marker": {
            "color": "#FECB52",
            "pattern": {
             "shape": ""
            }
           },
           "name": "News",
           "offsetgroup": "News",
           "orientation": "h",
           "showlegend": true,
           "textposition": "auto",
           "type": "bar",
           "x": [
            5
           ],
           "xaxis": "x",
           "y": [
            "News"
           ],
           "yaxis": "y"
          }
         ],
         "name": "2010"
        },
        {
         "data": [
          {
           "alignmentgroup": "True",
           "hovertemplate": "category=%{y}<br>Year=2011<br>Number of Searches=%{x}<extra></extra>",
           "legendgroup": "People",
           "marker": {
            "color": "#636efa",
            "pattern": {
             "shape": ""
            }
           },
           "name": "People",
           "offsetgroup": "People",
           "orientation": "h",
           "showlegend": true,
           "textposition": "auto",
           "type": "bar",
           "x": [
            195
           ],
           "xaxis": "x",
           "y": [
            "People"
           ],
           "yaxis": "y"
          },
          {
           "alignmentgroup": "True",
           "hovertemplate": "category=%{y}<br>Year=2011<br>Number of Searches=%{x}<extra></extra>",
           "legendgroup": "Searches",
           "marker": {
            "color": "#EF553B",
            "pattern": {
             "shape": ""
            }
           },
           "name": "Searches",
           "offsetgroup": "Searches",
           "orientation": "h",
           "showlegend": true,
           "textposition": "auto",
           "type": "bar",
           "x": [
            10
           ],
           "xaxis": "x",
           "y": [
            "Searches"
           ],
           "yaxis": "y"
          },
          {
           "alignmentgroup": "True",
           "hovertemplate": "category=%{y}<br>Year=2011<br>Number of Searches=%{x}<extra></extra>",
           "legendgroup": "Movies",
           "marker": {
            "color": "#00cc96",
            "pattern": {
             "shape": ""
            }
           },
           "name": "Movies",
           "offsetgroup": "Movies",
           "orientation": "h",
           "showlegend": true,
           "textposition": "auto",
           "type": "bar",
           "x": [
            10
           ],
           "xaxis": "x",
           "y": [
            "Movies"
           ],
           "yaxis": "y"
          },
          {
           "alignmentgroup": "True",
           "hovertemplate": "category=%{y}<br>Year=2011<br>Number of Searches=%{x}<extra></extra>",
           "legendgroup": "TV Shows",
           "marker": {
            "color": "#ab63fa",
            "pattern": {
             "shape": ""
            }
           },
           "name": "TV Shows",
           "offsetgroup": "TV Shows",
           "orientation": "h",
           "showlegend": true,
           "textposition": "auto",
           "type": "bar",
           "x": [
            0
           ],
           "xaxis": "x",
           "y": [
            "TV Shows"
           ],
           "yaxis": "y"
          },
          {
           "alignmentgroup": "True",
           "hovertemplate": "category=%{y}<br>Year=2011<br>Number of Searches=%{x}<extra></extra>",
           "legendgroup": "Películas",
           "marker": {
            "color": "#FFA15A",
            "pattern": {
             "shape": ""
            }
           },
           "name": "Películas",
           "offsetgroup": "Películas",
           "orientation": "h",
           "showlegend": true,
           "textposition": "auto",
           "type": "bar",
           "x": [
            0
           ],
           "xaxis": "x",
           "y": [
            "Películas"
           ],
           "yaxis": "y"
          },
          {
           "alignmentgroup": "True",
           "hovertemplate": "category=%{y}<br>Year=2011<br>Number of Searches=%{x}<extra></extra>",
           "legendgroup": "Songs",
           "marker": {
            "color": "#19d3f3",
            "pattern": {
             "shape": ""
            }
           },
           "name": "Songs",
           "offsetgroup": "Songs",
           "orientation": "h",
           "showlegend": true,
           "textposition": "auto",
           "type": "bar",
           "x": [
            0
           ],
           "xaxis": "x",
           "y": [
            "Songs"
           ],
           "yaxis": "y"
          },
          {
           "alignmentgroup": "True",
           "hovertemplate": "category=%{y}<br>Year=2011<br>Number of Searches=%{x}<extra></extra>",
           "legendgroup": "Recipes",
           "marker": {
            "color": "#FF6692",
            "pattern": {
             "shape": ""
            }
           },
           "name": "Recipes",
           "offsetgroup": "Recipes",
           "orientation": "h",
           "showlegend": true,
           "textposition": "auto",
           "type": "bar",
           "x": [
            0
           ],
           "xaxis": "x",
           "y": [
            "Recipes"
           ],
           "yaxis": "y"
          },
          {
           "alignmentgroup": "True",
           "hovertemplate": "category=%{y}<br>Year=2011<br>Number of Searches=%{x}<extra></extra>",
           "legendgroup": "What is...?",
           "marker": {
            "color": "#B6E880",
            "pattern": {
             "shape": ""
            }
           },
           "name": "What is...?",
           "offsetgroup": "What is...?",
           "orientation": "h",
           "showlegend": true,
           "textposition": "auto",
           "type": "bar",
           "x": [
            0
           ],
           "xaxis": "x",
           "y": [
            "What is...?"
           ],
           "yaxis": "y"
          },
          {
           "alignmentgroup": "True",
           "hovertemplate": "category=%{y}<br>Year=2011<br>Number of Searches=%{x}<extra></extra>",
           "legendgroup": "How to...",
           "marker": {
            "color": "#FF97FF",
            "pattern": {
             "shape": ""
            }
           },
           "name": "How to...",
           "offsetgroup": "How to...",
           "orientation": "h",
           "showlegend": true,
           "textposition": "auto",
           "type": "bar",
           "x": [
            0
           ],
           "xaxis": "x",
           "y": [
            "How to..."
           ],
           "yaxis": "y"
          },
          {
           "alignmentgroup": "True",
           "hovertemplate": "category=%{y}<br>Year=2011<br>Number of Searches=%{x}<extra></extra>",
           "legendgroup": "News",
           "marker": {
            "color": "#FECB52",
            "pattern": {
             "shape": ""
            }
           },
           "name": "News",
           "offsetgroup": "News",
           "orientation": "h",
           "showlegend": true,
           "textposition": "auto",
           "type": "bar",
           "x": [
            10
           ],
           "xaxis": "x",
           "y": [
            "News"
           ],
           "yaxis": "y"
          }
         ],
         "name": "2011"
        },
        {
         "data": [
          {
           "alignmentgroup": "True",
           "hovertemplate": "category=%{y}<br>Year=2012<br>Number of Searches=%{x}<extra></extra>",
           "legendgroup": "People",
           "marker": {
            "color": "#636efa",
            "pattern": {
             "shape": ""
            }
           },
           "name": "People",
           "offsetgroup": "People",
           "orientation": "h",
           "showlegend": true,
           "textposition": "auto",
           "type": "bar",
           "x": [
            205
           ],
           "xaxis": "x",
           "y": [
            "People"
           ],
           "yaxis": "y"
          },
          {
           "alignmentgroup": "True",
           "hovertemplate": "category=%{y}<br>Year=2012<br>Number of Searches=%{x}<extra></extra>",
           "legendgroup": "Searches",
           "marker": {
            "color": "#EF553B",
            "pattern": {
             "shape": ""
            }
           },
           "name": "Searches",
           "offsetgroup": "Searches",
           "orientation": "h",
           "showlegend": true,
           "textposition": "auto",
           "type": "bar",
           "x": [
            240
           ],
           "xaxis": "x",
           "y": [
            "Searches"
           ],
           "yaxis": "y"
          },
          {
           "alignmentgroup": "True",
           "hovertemplate": "category=%{y}<br>Year=2012<br>Number of Searches=%{x}<extra></extra>",
           "legendgroup": "Movies",
           "marker": {
            "color": "#00cc96",
            "pattern": {
             "shape": ""
            }
           },
           "name": "Movies",
           "offsetgroup": "Movies",
           "orientation": "h",
           "showlegend": true,
           "textposition": "auto",
           "type": "bar",
           "x": [
            35
           ],
           "xaxis": "x",
           "y": [
            "Movies"
           ],
           "yaxis": "y"
          },
          {
           "alignmentgroup": "True",
           "hovertemplate": "category=%{y}<br>Year=2012<br>Number of Searches=%{x}<extra></extra>",
           "legendgroup": "TV Shows",
           "marker": {
            "color": "#ab63fa",
            "pattern": {
             "shape": ""
            }
           },
           "name": "TV Shows",
           "offsetgroup": "TV Shows",
           "orientation": "h",
           "showlegend": true,
           "textposition": "auto",
           "type": "bar",
           "x": [
            70
           ],
           "xaxis": "x",
           "y": [
            "TV Shows"
           ],
           "yaxis": "y"
          },
          {
           "alignmentgroup": "True",
           "hovertemplate": "category=%{y}<br>Year=2012<br>Number of Searches=%{x}<extra></extra>",
           "legendgroup": "Películas",
           "marker": {
            "color": "#FFA15A",
            "pattern": {
             "shape": ""
            }
           },
           "name": "Películas",
           "offsetgroup": "Películas",
           "orientation": "h",
           "showlegend": true,
           "textposition": "auto",
           "type": "bar",
           "x": [
            0
           ],
           "xaxis": "x",
           "y": [
            "Películas"
           ],
           "yaxis": "y"
          },
          {
           "alignmentgroup": "True",
           "hovertemplate": "category=%{y}<br>Year=2012<br>Number of Searches=%{x}<extra></extra>",
           "legendgroup": "Songs",
           "marker": {
            "color": "#19d3f3",
            "pattern": {
             "shape": ""
            }
           },
           "name": "Songs",
           "offsetgroup": "Songs",
           "orientation": "h",
           "showlegend": true,
           "textposition": "auto",
           "type": "bar",
           "x": [
            110
           ],
           "xaxis": "x",
           "y": [
            "Songs"
           ],
           "yaxis": "y"
          },
          {
           "alignmentgroup": "True",
           "hovertemplate": "category=%{y}<br>Year=2012<br>Number of Searches=%{x}<extra></extra>",
           "legendgroup": "Recipes",
           "marker": {
            "color": "#FF6692",
            "pattern": {
             "shape": ""
            }
           },
           "name": "Recipes",
           "offsetgroup": "Recipes",
           "orientation": "h",
           "showlegend": true,
           "textposition": "auto",
           "type": "bar",
           "x": [
            10
           ],
           "xaxis": "x",
           "y": [
            "Recipes"
           ],
           "yaxis": "y"
          },
          {
           "alignmentgroup": "True",
           "hovertemplate": "category=%{y}<br>Year=2012<br>Number of Searches=%{x}<extra></extra>",
           "legendgroup": "What is...?",
           "marker": {
            "color": "#B6E880",
            "pattern": {
             "shape": ""
            }
           },
           "name": "What is...?",
           "offsetgroup": "What is...?",
           "orientation": "h",
           "showlegend": true,
           "textposition": "auto",
           "type": "bar",
           "x": [
            100
           ],
           "xaxis": "x",
           "y": [
            "What is...?"
           ],
           "yaxis": "y"
          },
          {
           "alignmentgroup": "True",
           "hovertemplate": "category=%{y}<br>Year=2012<br>Number of Searches=%{x}<extra></extra>",
           "legendgroup": "How to...",
           "marker": {
            "color": "#FF97FF",
            "pattern": {
             "shape": ""
            }
           },
           "name": "How to...",
           "offsetgroup": "How to...",
           "orientation": "h",
           "showlegend": true,
           "textposition": "auto",
           "type": "bar",
           "x": [
            90
           ],
           "xaxis": "x",
           "y": [
            "How to..."
           ],
           "yaxis": "y"
          },
          {
           "alignmentgroup": "True",
           "hovertemplate": "category=%{y}<br>Year=2012<br>Number of Searches=%{x}<extra></extra>",
           "legendgroup": "News",
           "marker": {
            "color": "#FECB52",
            "pattern": {
             "shape": ""
            }
           },
           "name": "News",
           "offsetgroup": "News",
           "orientation": "h",
           "showlegend": true,
           "textposition": "auto",
           "type": "bar",
           "x": [
            5
           ],
           "xaxis": "x",
           "y": [
            "News"
           ],
           "yaxis": "y"
          }
         ],
         "name": "2012"
        },
        {
         "data": [
          {
           "alignmentgroup": "True",
           "hovertemplate": "category=%{y}<br>Year=2013<br>Number of Searches=%{x}<extra></extra>",
           "legendgroup": "People",
           "marker": {
            "color": "#636efa",
            "pattern": {
             "shape": ""
            }
           },
           "name": "People",
           "offsetgroup": "People",
           "orientation": "h",
           "showlegend": true,
           "textposition": "auto",
           "type": "bar",
           "x": [
            55
           ],
           "xaxis": "x",
           "y": [
            "People"
           ],
           "yaxis": "y"
          },
          {
           "alignmentgroup": "True",
           "hovertemplate": "category=%{y}<br>Year=2013<br>Number of Searches=%{x}<extra></extra>",
           "legendgroup": "Searches",
           "marker": {
            "color": "#EF553B",
            "pattern": {
             "shape": ""
            }
           },
           "name": "Searches",
           "offsetgroup": "Searches",
           "orientation": "h",
           "showlegend": true,
           "textposition": "auto",
           "type": "bar",
           "x": [
            25
           ],
           "xaxis": "x",
           "y": [
            "Searches"
           ],
           "yaxis": "y"
          },
          {
           "alignmentgroup": "True",
           "hovertemplate": "category=%{y}<br>Year=2013<br>Number of Searches=%{x}<extra></extra>",
           "legendgroup": "Movies",
           "marker": {
            "color": "#00cc96",
            "pattern": {
             "shape": ""
            }
           },
           "name": "Movies",
           "offsetgroup": "Movies",
           "orientation": "h",
           "showlegend": true,
           "textposition": "auto",
           "type": "bar",
           "x": [
            15
           ],
           "xaxis": "x",
           "y": [
            "Movies"
           ],
           "yaxis": "y"
          },
          {
           "alignmentgroup": "True",
           "hovertemplate": "category=%{y}<br>Year=2013<br>Number of Searches=%{x}<extra></extra>",
           "legendgroup": "TV Shows",
           "marker": {
            "color": "#ab63fa",
            "pattern": {
             "shape": ""
            }
           },
           "name": "TV Shows",
           "offsetgroup": "TV Shows",
           "orientation": "h",
           "showlegend": true,
           "textposition": "auto",
           "type": "bar",
           "x": [
            25
           ],
           "xaxis": "x",
           "y": [
            "TV Shows"
           ],
           "yaxis": "y"
          },
          {
           "alignmentgroup": "True",
           "hovertemplate": "category=%{y}<br>Year=2013<br>Number of Searches=%{x}<extra></extra>",
           "legendgroup": "Películas",
           "marker": {
            "color": "#FFA15A",
            "pattern": {
             "shape": ""
            }
           },
           "name": "Películas",
           "offsetgroup": "Películas",
           "orientation": "h",
           "showlegend": true,
           "textposition": "auto",
           "type": "bar",
           "x": [
            25
           ],
           "xaxis": "x",
           "y": [
            "Películas"
           ],
           "yaxis": "y"
          },
          {
           "alignmentgroup": "True",
           "hovertemplate": "category=%{y}<br>Year=2013<br>Number of Searches=%{x}<extra></extra>",
           "legendgroup": "Songs",
           "marker": {
            "color": "#19d3f3",
            "pattern": {
             "shape": ""
            }
           },
           "name": "Songs",
           "offsetgroup": "Songs",
           "orientation": "h",
           "showlegend": true,
           "textposition": "auto",
           "type": "bar",
           "x": [
            10
           ],
           "xaxis": "x",
           "y": [
            "Songs"
           ],
           "yaxis": "y"
          },
          {
           "alignmentgroup": "True",
           "hovertemplate": "category=%{y}<br>Year=2013<br>Number of Searches=%{x}<extra></extra>",
           "legendgroup": "Recipes",
           "marker": {
            "color": "#FF6692",
            "pattern": {
             "shape": ""
            }
           },
           "name": "Recipes",
           "offsetgroup": "Recipes",
           "orientation": "h",
           "showlegend": true,
           "textposition": "auto",
           "type": "bar",
           "x": [
            5
           ],
           "xaxis": "x",
           "y": [
            "Recipes"
           ],
           "yaxis": "y"
          },
          {
           "alignmentgroup": "True",
           "hovertemplate": "category=%{y}<br>Year=2013<br>Number of Searches=%{x}<extra></extra>",
           "legendgroup": "What is...?",
           "marker": {
            "color": "#B6E880",
            "pattern": {
             "shape": ""
            }
           },
           "name": "What is...?",
           "offsetgroup": "What is...?",
           "orientation": "h",
           "showlegend": true,
           "textposition": "auto",
           "type": "bar",
           "x": [
            10
           ],
           "xaxis": "x",
           "y": [
            "What is...?"
           ],
           "yaxis": "y"
          },
          {
           "alignmentgroup": "True",
           "hovertemplate": "category=%{y}<br>Year=2013<br>Number of Searches=%{x}<extra></extra>",
           "legendgroup": "How to...",
           "marker": {
            "color": "#FF97FF",
            "pattern": {
             "shape": ""
            }
           },
           "name": "How to...",
           "offsetgroup": "How to...",
           "orientation": "h",
           "showlegend": true,
           "textposition": "auto",
           "type": "bar",
           "x": [
            10
           ],
           "xaxis": "x",
           "y": [
            "How to..."
           ],
           "yaxis": "y"
          },
          {
           "alignmentgroup": "True",
           "hovertemplate": "category=%{y}<br>Year=2013<br>Number of Searches=%{x}<extra></extra>",
           "legendgroup": "News",
           "marker": {
            "color": "#FECB52",
            "pattern": {
             "shape": ""
            }
           },
           "name": "News",
           "offsetgroup": "News",
           "orientation": "h",
           "showlegend": true,
           "textposition": "auto",
           "type": "bar",
           "x": [
            0
           ],
           "xaxis": "x",
           "y": [
            "News"
           ],
           "yaxis": "y"
          }
         ],
         "name": "2013"
        },
        {
         "data": [
          {
           "alignmentgroup": "True",
           "hovertemplate": "category=%{y}<br>Year=2014<br>Number of Searches=%{x}<extra></extra>",
           "legendgroup": "People",
           "marker": {
            "color": "#636efa",
            "pattern": {
             "shape": ""
            }
           },
           "name": "People",
           "offsetgroup": "People",
           "orientation": "h",
           "showlegend": true,
           "textposition": "auto",
           "type": "bar",
           "x": [
            55
           ],
           "xaxis": "x",
           "y": [
            "People"
           ],
           "yaxis": "y"
          },
          {
           "alignmentgroup": "True",
           "hovertemplate": "category=%{y}<br>Year=2014<br>Number of Searches=%{x}<extra></extra>",
           "legendgroup": "Searches",
           "marker": {
            "color": "#EF553B",
            "pattern": {
             "shape": ""
            }
           },
           "name": "Searches",
           "offsetgroup": "Searches",
           "orientation": "h",
           "showlegend": true,
           "textposition": "auto",
           "type": "bar",
           "x": [
            80
           ],
           "xaxis": "x",
           "y": [
            "Searches"
           ],
           "yaxis": "y"
          },
          {
           "alignmentgroup": "True",
           "hovertemplate": "category=%{y}<br>Year=2014<br>Number of Searches=%{x}<extra></extra>",
           "legendgroup": "Movies",
           "marker": {
            "color": "#00cc96",
            "pattern": {
             "shape": ""
            }
           },
           "name": "Movies",
           "offsetgroup": "Movies",
           "orientation": "h",
           "showlegend": true,
           "textposition": "auto",
           "type": "bar",
           "x": [
            40
           ],
           "xaxis": "x",
           "y": [
            "Movies"
           ],
           "yaxis": "y"
          },
          {
           "alignmentgroup": "True",
           "hovertemplate": "category=%{y}<br>Year=2014<br>Number of Searches=%{x}<extra></extra>",
           "legendgroup": "TV Shows",
           "marker": {
            "color": "#ab63fa",
            "pattern": {
             "shape": ""
            }
           },
           "name": "TV Shows",
           "offsetgroup": "TV Shows",
           "orientation": "h",
           "showlegend": true,
           "textposition": "auto",
           "type": "bar",
           "x": [
            30
           ],
           "xaxis": "x",
           "y": [
            "TV Shows"
           ],
           "yaxis": "y"
          },
          {
           "alignmentgroup": "True",
           "hovertemplate": "category=%{y}<br>Year=2014<br>Number of Searches=%{x}<extra></extra>",
           "legendgroup": "Películas",
           "marker": {
            "color": "#FFA15A",
            "pattern": {
             "shape": ""
            }
           },
           "name": "Películas",
           "offsetgroup": "Películas",
           "orientation": "h",
           "showlegend": true,
           "textposition": "auto",
           "type": "bar",
           "x": [
            35
           ],
           "xaxis": "x",
           "y": [
            "Películas"
           ],
           "yaxis": "y"
          },
          {
           "alignmentgroup": "True",
           "hovertemplate": "category=%{y}<br>Year=2014<br>Number of Searches=%{x}<extra></extra>",
           "legendgroup": "Songs",
           "marker": {
            "color": "#19d3f3",
            "pattern": {
             "shape": ""
            }
           },
           "name": "Songs",
           "offsetgroup": "Songs",
           "orientation": "h",
           "showlegend": true,
           "textposition": "auto",
           "type": "bar",
           "x": [
            10
           ],
           "xaxis": "x",
           "y": [
            "Songs"
           ],
           "yaxis": "y"
          },
          {
           "alignmentgroup": "True",
           "hovertemplate": "category=%{y}<br>Year=2014<br>Number of Searches=%{x}<extra></extra>",
           "legendgroup": "Recipes",
           "marker": {
            "color": "#FF6692",
            "pattern": {
             "shape": ""
            }
           },
           "name": "Recipes",
           "offsetgroup": "Recipes",
           "orientation": "h",
           "showlegend": true,
           "textposition": "auto",
           "type": "bar",
           "x": [
            15
           ],
           "xaxis": "x",
           "y": [
            "Recipes"
           ],
           "yaxis": "y"
          },
          {
           "alignmentgroup": "True",
           "hovertemplate": "category=%{y}<br>Year=2014<br>Number of Searches=%{x}<extra></extra>",
           "legendgroup": "What is...?",
           "marker": {
            "color": "#B6E880",
            "pattern": {
             "shape": ""
            }
           },
           "name": "What is...?",
           "offsetgroup": "What is...?",
           "orientation": "h",
           "showlegend": true,
           "textposition": "auto",
           "type": "bar",
           "x": [
            0
           ],
           "xaxis": "x",
           "y": [
            "What is...?"
           ],
           "yaxis": "y"
          },
          {
           "alignmentgroup": "True",
           "hovertemplate": "category=%{y}<br>Year=2014<br>Number of Searches=%{x}<extra></extra>",
           "legendgroup": "How to...",
           "marker": {
            "color": "#FF97FF",
            "pattern": {
             "shape": ""
            }
           },
           "name": "How to...",
           "offsetgroup": "How to...",
           "orientation": "h",
           "showlegend": true,
           "textposition": "auto",
           "type": "bar",
           "x": [
            10
           ],
           "xaxis": "x",
           "y": [
            "How to..."
           ],
           "yaxis": "y"
          },
          {
           "alignmentgroup": "True",
           "hovertemplate": "category=%{y}<br>Year=2014<br>Number of Searches=%{x}<extra></extra>",
           "legendgroup": "News",
           "marker": {
            "color": "#FECB52",
            "pattern": {
             "shape": ""
            }
           },
           "name": "News",
           "offsetgroup": "News",
           "orientation": "h",
           "showlegend": true,
           "textposition": "auto",
           "type": "bar",
           "x": [
            5
           ],
           "xaxis": "x",
           "y": [
            "News"
           ],
           "yaxis": "y"
          }
         ],
         "name": "2014"
        },
        {
         "data": [
          {
           "alignmentgroup": "True",
           "hovertemplate": "category=%{y}<br>Year=2015<br>Number of Searches=%{x}<extra></extra>",
           "legendgroup": "People",
           "marker": {
            "color": "#636efa",
            "pattern": {
             "shape": ""
            }
           },
           "name": "People",
           "offsetgroup": "People",
           "orientation": "h",
           "showlegend": true,
           "textposition": "auto",
           "type": "bar",
           "x": [
            55
           ],
           "xaxis": "x",
           "y": [
            "People"
           ],
           "yaxis": "y"
          },
          {
           "alignmentgroup": "True",
           "hovertemplate": "category=%{y}<br>Year=2015<br>Number of Searches=%{x}<extra></extra>",
           "legendgroup": "Searches",
           "marker": {
            "color": "#EF553B",
            "pattern": {
             "shape": ""
            }
           },
           "name": "Searches",
           "offsetgroup": "Searches",
           "orientation": "h",
           "showlegend": true,
           "textposition": "auto",
           "type": "bar",
           "x": [
            65
           ],
           "xaxis": "x",
           "y": [
            "Searches"
           ],
           "yaxis": "y"
          },
          {
           "alignmentgroup": "True",
           "hovertemplate": "category=%{y}<br>Year=2015<br>Number of Searches=%{x}<extra></extra>",
           "legendgroup": "Movies",
           "marker": {
            "color": "#00cc96",
            "pattern": {
             "shape": ""
            }
           },
           "name": "Movies",
           "offsetgroup": "Movies",
           "orientation": "h",
           "showlegend": true,
           "textposition": "auto",
           "type": "bar",
           "x": [
            35
           ],
           "xaxis": "x",
           "y": [
            "Movies"
           ],
           "yaxis": "y"
          },
          {
           "alignmentgroup": "True",
           "hovertemplate": "category=%{y}<br>Year=2015<br>Number of Searches=%{x}<extra></extra>",
           "legendgroup": "TV Shows",
           "marker": {
            "color": "#ab63fa",
            "pattern": {
             "shape": ""
            }
           },
           "name": "TV Shows",
           "offsetgroup": "TV Shows",
           "orientation": "h",
           "showlegend": true,
           "textposition": "auto",
           "type": "bar",
           "x": [
            35
           ],
           "xaxis": "x",
           "y": [
            "TV Shows"
           ],
           "yaxis": "y"
          },
          {
           "alignmentgroup": "True",
           "hovertemplate": "category=%{y}<br>Year=2015<br>Number of Searches=%{x}<extra></extra>",
           "legendgroup": "Películas",
           "marker": {
            "color": "#FFA15A",
            "pattern": {
             "shape": ""
            }
           },
           "name": "Películas",
           "offsetgroup": "Películas",
           "orientation": "h",
           "showlegend": true,
           "textposition": "auto",
           "type": "bar",
           "x": [
            20
           ],
           "xaxis": "x",
           "y": [
            "Películas"
           ],
           "yaxis": "y"
          },
          {
           "alignmentgroup": "True",
           "hovertemplate": "category=%{y}<br>Year=2015<br>Number of Searches=%{x}<extra></extra>",
           "legendgroup": "Songs",
           "marker": {
            "color": "#19d3f3",
            "pattern": {
             "shape": ""
            }
           },
           "name": "Songs",
           "offsetgroup": "Songs",
           "orientation": "h",
           "showlegend": true,
           "textposition": "auto",
           "type": "bar",
           "x": [
            10
           ],
           "xaxis": "x",
           "y": [
            "Songs"
           ],
           "yaxis": "y"
          },
          {
           "alignmentgroup": "True",
           "hovertemplate": "category=%{y}<br>Year=2015<br>Number of Searches=%{x}<extra></extra>",
           "legendgroup": "Recipes",
           "marker": {
            "color": "#FF6692",
            "pattern": {
             "shape": ""
            }
           },
           "name": "Recipes",
           "offsetgroup": "Recipes",
           "orientation": "h",
           "showlegend": true,
           "textposition": "auto",
           "type": "bar",
           "x": [
            20
           ],
           "xaxis": "x",
           "y": [
            "Recipes"
           ],
           "yaxis": "y"
          },
          {
           "alignmentgroup": "True",
           "hovertemplate": "category=%{y}<br>Year=2015<br>Number of Searches=%{x}<extra></extra>",
           "legendgroup": "What is...?",
           "marker": {
            "color": "#B6E880",
            "pattern": {
             "shape": ""
            }
           },
           "name": "What is...?",
           "offsetgroup": "What is...?",
           "orientation": "h",
           "showlegend": true,
           "textposition": "auto",
           "type": "bar",
           "x": [
            20
           ],
           "xaxis": "x",
           "y": [
            "What is...?"
           ],
           "yaxis": "y"
          },
          {
           "alignmentgroup": "True",
           "hovertemplate": "category=%{y}<br>Year=2015<br>Number of Searches=%{x}<extra></extra>",
           "legendgroup": "How to...",
           "marker": {
            "color": "#FF97FF",
            "pattern": {
             "shape": ""
            }
           },
           "name": "How to...",
           "offsetgroup": "How to...",
           "orientation": "h",
           "showlegend": true,
           "textposition": "auto",
           "type": "bar",
           "x": [
            15
           ],
           "xaxis": "x",
           "y": [
            "How to..."
           ],
           "yaxis": "y"
          },
          {
           "alignmentgroup": "True",
           "hovertemplate": "category=%{y}<br>Year=2015<br>Number of Searches=%{x}<extra></extra>",
           "legendgroup": "News",
           "marker": {
            "color": "#FECB52",
            "pattern": {
             "shape": ""
            }
           },
           "name": "News",
           "offsetgroup": "News",
           "orientation": "h",
           "showlegend": true,
           "textposition": "auto",
           "type": "bar",
           "x": [
            5
           ],
           "xaxis": "x",
           "y": [
            "News"
           ],
           "yaxis": "y"
          }
         ],
         "name": "2015"
        },
        {
         "data": [
          {
           "alignmentgroup": "True",
           "hovertemplate": "category=%{y}<br>Year=2016<br>Number of Searches=%{x}<extra></extra>",
           "legendgroup": "People",
           "marker": {
            "color": "#636efa",
            "pattern": {
             "shape": ""
            }
           },
           "name": "People",
           "offsetgroup": "People",
           "orientation": "h",
           "showlegend": true,
           "textposition": "auto",
           "type": "bar",
           "x": [
            40
           ],
           "xaxis": "x",
           "y": [
            "People"
           ],
           "yaxis": "y"
          },
          {
           "alignmentgroup": "True",
           "hovertemplate": "category=%{y}<br>Year=2016<br>Number of Searches=%{x}<extra></extra>",
           "legendgroup": "Searches",
           "marker": {
            "color": "#EF553B",
            "pattern": {
             "shape": ""
            }
           },
           "name": "Searches",
           "offsetgroup": "Searches",
           "orientation": "h",
           "showlegend": true,
           "textposition": "auto",
           "type": "bar",
           "x": [
            40
           ],
           "xaxis": "x",
           "y": [
            "Searches"
           ],
           "yaxis": "y"
          },
          {
           "alignmentgroup": "True",
           "hovertemplate": "category=%{y}<br>Year=2016<br>Number of Searches=%{x}<extra></extra>",
           "legendgroup": "Movies",
           "marker": {
            "color": "#00cc96",
            "pattern": {
             "shape": ""
            }
           },
           "name": "Movies",
           "offsetgroup": "Movies",
           "orientation": "h",
           "showlegend": true,
           "textposition": "auto",
           "type": "bar",
           "x": [
            40
           ],
           "xaxis": "x",
           "y": [
            "Movies"
           ],
           "yaxis": "y"
          },
          {
           "alignmentgroup": "True",
           "hovertemplate": "category=%{y}<br>Year=2016<br>Number of Searches=%{x}<extra></extra>",
           "legendgroup": "TV Shows",
           "marker": {
            "color": "#ab63fa",
            "pattern": {
             "shape": ""
            }
           },
           "name": "TV Shows",
           "offsetgroup": "TV Shows",
           "orientation": "h",
           "showlegend": true,
           "textposition": "auto",
           "type": "bar",
           "x": [
            25
           ],
           "xaxis": "x",
           "y": [
            "TV Shows"
           ],
           "yaxis": "y"
          },
          {
           "alignmentgroup": "True",
           "hovertemplate": "category=%{y}<br>Year=2016<br>Number of Searches=%{x}<extra></extra>",
           "legendgroup": "Películas",
           "marker": {
            "color": "#FFA15A",
            "pattern": {
             "shape": ""
            }
           },
           "name": "Películas",
           "offsetgroup": "Películas",
           "orientation": "h",
           "showlegend": true,
           "textposition": "auto",
           "type": "bar",
           "x": [
            40
           ],
           "xaxis": "x",
           "y": [
            "Películas"
           ],
           "yaxis": "y"
          },
          {
           "alignmentgroup": "True",
           "hovertemplate": "category=%{y}<br>Year=2016<br>Number of Searches=%{x}<extra></extra>",
           "legendgroup": "Songs",
           "marker": {
            "color": "#19d3f3",
            "pattern": {
             "shape": ""
            }
           },
           "name": "Songs",
           "offsetgroup": "Songs",
           "orientation": "h",
           "showlegend": true,
           "textposition": "auto",
           "type": "bar",
           "x": [
            15
           ],
           "xaxis": "x",
           "y": [
            "Songs"
           ],
           "yaxis": "y"
          },
          {
           "alignmentgroup": "True",
           "hovertemplate": "category=%{y}<br>Year=2016<br>Number of Searches=%{x}<extra></extra>",
           "legendgroup": "Recipes",
           "marker": {
            "color": "#FF6692",
            "pattern": {
             "shape": ""
            }
           },
           "name": "Recipes",
           "offsetgroup": "Recipes",
           "orientation": "h",
           "showlegend": true,
           "textposition": "auto",
           "type": "bar",
           "x": [
            15
           ],
           "xaxis": "x",
           "y": [
            "Recipes"
           ],
           "yaxis": "y"
          },
          {
           "alignmentgroup": "True",
           "hovertemplate": "category=%{y}<br>Year=2016<br>Number of Searches=%{x}<extra></extra>",
           "legendgroup": "What is...?",
           "marker": {
            "color": "#B6E880",
            "pattern": {
             "shape": ""
            }
           },
           "name": "What is...?",
           "offsetgroup": "What is...?",
           "orientation": "h",
           "showlegend": true,
           "textposition": "auto",
           "type": "bar",
           "x": [
            5
           ],
           "xaxis": "x",
           "y": [
            "What is...?"
           ],
           "yaxis": "y"
          },
          {
           "alignmentgroup": "True",
           "hovertemplate": "category=%{y}<br>Year=2016<br>Number of Searches=%{x}<extra></extra>",
           "legendgroup": "How to...",
           "marker": {
            "color": "#FF97FF",
            "pattern": {
             "shape": ""
            }
           },
           "name": "How to...",
           "offsetgroup": "How to...",
           "orientation": "h",
           "showlegend": true,
           "textposition": "auto",
           "type": "bar",
           "x": [
            15
           ],
           "xaxis": "x",
           "y": [
            "How to..."
           ],
           "yaxis": "y"
          },
          {
           "alignmentgroup": "True",
           "hovertemplate": "category=%{y}<br>Year=2016<br>Number of Searches=%{x}<extra></extra>",
           "legendgroup": "News",
           "marker": {
            "color": "#FECB52",
            "pattern": {
             "shape": ""
            }
           },
           "name": "News",
           "offsetgroup": "News",
           "orientation": "h",
           "showlegend": true,
           "textposition": "auto",
           "type": "bar",
           "x": [
            15
           ],
           "xaxis": "x",
           "y": [
            "News"
           ],
           "yaxis": "y"
          }
         ],
         "name": "2016"
        },
        {
         "data": [
          {
           "alignmentgroup": "True",
           "hovertemplate": "category=%{y}<br>Year=2017<br>Number of Searches=%{x}<extra></extra>",
           "legendgroup": "People",
           "marker": {
            "color": "#636efa",
            "pattern": {
             "shape": ""
            }
           },
           "name": "People",
           "offsetgroup": "People",
           "orientation": "h",
           "showlegend": true,
           "textposition": "auto",
           "type": "bar",
           "x": [
            40
           ],
           "xaxis": "x",
           "y": [
            "People"
           ],
           "yaxis": "y"
          },
          {
           "alignmentgroup": "True",
           "hovertemplate": "category=%{y}<br>Year=2017<br>Number of Searches=%{x}<extra></extra>",
           "legendgroup": "Searches",
           "marker": {
            "color": "#EF553B",
            "pattern": {
             "shape": ""
            }
           },
           "name": "Searches",
           "offsetgroup": "Searches",
           "orientation": "h",
           "showlegend": true,
           "textposition": "auto",
           "type": "bar",
           "x": [
            35
           ],
           "xaxis": "x",
           "y": [
            "Searches"
           ],
           "yaxis": "y"
          },
          {
           "alignmentgroup": "True",
           "hovertemplate": "category=%{y}<br>Year=2017<br>Number of Searches=%{x}<extra></extra>",
           "legendgroup": "Movies",
           "marker": {
            "color": "#00cc96",
            "pattern": {
             "shape": ""
            }
           },
           "name": "Movies",
           "offsetgroup": "Movies",
           "orientation": "h",
           "showlegend": true,
           "textposition": "auto",
           "type": "bar",
           "x": [
            35
           ],
           "xaxis": "x",
           "y": [
            "Movies"
           ],
           "yaxis": "y"
          },
          {
           "alignmentgroup": "True",
           "hovertemplate": "category=%{y}<br>Year=2017<br>Number of Searches=%{x}<extra></extra>",
           "legendgroup": "TV Shows",
           "marker": {
            "color": "#ab63fa",
            "pattern": {
             "shape": ""
            }
           },
           "name": "TV Shows",
           "offsetgroup": "TV Shows",
           "orientation": "h",
           "showlegend": true,
           "textposition": "auto",
           "type": "bar",
           "x": [
            30
           ],
           "xaxis": "x",
           "y": [
            "TV Shows"
           ],
           "yaxis": "y"
          },
          {
           "alignmentgroup": "True",
           "hovertemplate": "category=%{y}<br>Year=2017<br>Number of Searches=%{x}<extra></extra>",
           "legendgroup": "Películas",
           "marker": {
            "color": "#FFA15A",
            "pattern": {
             "shape": ""
            }
           },
           "name": "Películas",
           "offsetgroup": "Películas",
           "orientation": "h",
           "showlegend": true,
           "textposition": "auto",
           "type": "bar",
           "x": [
            30
           ],
           "xaxis": "x",
           "y": [
            "Películas"
           ],
           "yaxis": "y"
          },
          {
           "alignmentgroup": "True",
           "hovertemplate": "category=%{y}<br>Year=2017<br>Number of Searches=%{x}<extra></extra>",
           "legendgroup": "Songs",
           "marker": {
            "color": "#19d3f3",
            "pattern": {
             "shape": ""
            }
           },
           "name": "Songs",
           "offsetgroup": "Songs",
           "orientation": "h",
           "showlegend": true,
           "textposition": "auto",
           "type": "bar",
           "x": [
            15
           ],
           "xaxis": "x",
           "y": [
            "Songs"
           ],
           "yaxis": "y"
          },
          {
           "alignmentgroup": "True",
           "hovertemplate": "category=%{y}<br>Year=2017<br>Number of Searches=%{x}<extra></extra>",
           "legendgroup": "Recipes",
           "marker": {
            "color": "#FF6692",
            "pattern": {
             "shape": ""
            }
           },
           "name": "Recipes",
           "offsetgroup": "Recipes",
           "orientation": "h",
           "showlegend": true,
           "textposition": "auto",
           "type": "bar",
           "x": [
            25
           ],
           "xaxis": "x",
           "y": [
            "Recipes"
           ],
           "yaxis": "y"
          },
          {
           "alignmentgroup": "True",
           "hovertemplate": "category=%{y}<br>Year=2017<br>Number of Searches=%{x}<extra></extra>",
           "legendgroup": "What is...?",
           "marker": {
            "color": "#B6E880",
            "pattern": {
             "shape": ""
            }
           },
           "name": "What is...?",
           "offsetgroup": "What is...?",
           "orientation": "h",
           "showlegend": true,
           "textposition": "auto",
           "type": "bar",
           "x": [
            10
           ],
           "xaxis": "x",
           "y": [
            "What is...?"
           ],
           "yaxis": "y"
          },
          {
           "alignmentgroup": "True",
           "hovertemplate": "category=%{y}<br>Year=2017<br>Number of Searches=%{x}<extra></extra>",
           "legendgroup": "How to...",
           "marker": {
            "color": "#FF97FF",
            "pattern": {
             "shape": ""
            }
           },
           "name": "How to...",
           "offsetgroup": "How to...",
           "orientation": "h",
           "showlegend": true,
           "textposition": "auto",
           "type": "bar",
           "x": [
            5
           ],
           "xaxis": "x",
           "y": [
            "How to..."
           ],
           "yaxis": "y"
          },
          {
           "alignmentgroup": "True",
           "hovertemplate": "category=%{y}<br>Year=2017<br>Number of Searches=%{x}<extra></extra>",
           "legendgroup": "News",
           "marker": {
            "color": "#FECB52",
            "pattern": {
             "shape": ""
            }
           },
           "name": "News",
           "offsetgroup": "News",
           "orientation": "h",
           "showlegend": true,
           "textposition": "auto",
           "type": "bar",
           "x": [
            35
           ],
           "xaxis": "x",
           "y": [
            "News"
           ],
           "yaxis": "y"
          }
         ],
         "name": "2017"
        },
        {
         "data": [
          {
           "alignmentgroup": "True",
           "hovertemplate": "category=%{y}<br>Year=2018<br>Number of Searches=%{x}<extra></extra>",
           "legendgroup": "People",
           "marker": {
            "color": "#636efa",
            "pattern": {
             "shape": ""
            }
           },
           "name": "People",
           "offsetgroup": "People",
           "orientation": "h",
           "showlegend": true,
           "textposition": "auto",
           "type": "bar",
           "x": [
            35
           ],
           "xaxis": "x",
           "y": [
            "People"
           ],
           "yaxis": "y"
          },
          {
           "alignmentgroup": "True",
           "hovertemplate": "category=%{y}<br>Year=2018<br>Number of Searches=%{x}<extra></extra>",
           "legendgroup": "Searches",
           "marker": {
            "color": "#EF553B",
            "pattern": {
             "shape": ""
            }
           },
           "name": "Searches",
           "offsetgroup": "Searches",
           "orientation": "h",
           "showlegend": true,
           "textposition": "auto",
           "type": "bar",
           "x": [
            40
           ],
           "xaxis": "x",
           "y": [
            "Searches"
           ],
           "yaxis": "y"
          },
          {
           "alignmentgroup": "True",
           "hovertemplate": "category=%{y}<br>Year=2018<br>Number of Searches=%{x}<extra></extra>",
           "legendgroup": "Movies",
           "marker": {
            "color": "#00cc96",
            "pattern": {
             "shape": ""
            }
           },
           "name": "Movies",
           "offsetgroup": "Movies",
           "orientation": "h",
           "showlegend": true,
           "textposition": "auto",
           "type": "bar",
           "x": [
            50
           ],
           "xaxis": "x",
           "y": [
            "Movies"
           ],
           "yaxis": "y"
          },
          {
           "alignmentgroup": "True",
           "hovertemplate": "category=%{y}<br>Year=2018<br>Number of Searches=%{x}<extra></extra>",
           "legendgroup": "TV Shows",
           "marker": {
            "color": "#ab63fa",
            "pattern": {
             "shape": ""
            }
           },
           "name": "TV Shows",
           "offsetgroup": "TV Shows",
           "orientation": "h",
           "showlegend": true,
           "textposition": "auto",
           "type": "bar",
           "x": [
            25
           ],
           "xaxis": "x",
           "y": [
            "TV Shows"
           ],
           "yaxis": "y"
          },
          {
           "alignmentgroup": "True",
           "hovertemplate": "category=%{y}<br>Year=2018<br>Number of Searches=%{x}<extra></extra>",
           "legendgroup": "Películas",
           "marker": {
            "color": "#FFA15A",
            "pattern": {
             "shape": ""
            }
           },
           "name": "Películas",
           "offsetgroup": "Películas",
           "orientation": "h",
           "showlegend": true,
           "textposition": "auto",
           "type": "bar",
           "x": [
            40
           ],
           "xaxis": "x",
           "y": [
            "Películas"
           ],
           "yaxis": "y"
          },
          {
           "alignmentgroup": "True",
           "hovertemplate": "category=%{y}<br>Year=2018<br>Number of Searches=%{x}<extra></extra>",
           "legendgroup": "Songs",
           "marker": {
            "color": "#19d3f3",
            "pattern": {
             "shape": ""
            }
           },
           "name": "Songs",
           "offsetgroup": "Songs",
           "orientation": "h",
           "showlegend": true,
           "textposition": "auto",
           "type": "bar",
           "x": [
            15
           ],
           "xaxis": "x",
           "y": [
            "Songs"
           ],
           "yaxis": "y"
          },
          {
           "alignmentgroup": "True",
           "hovertemplate": "category=%{y}<br>Year=2018<br>Number of Searches=%{x}<extra></extra>",
           "legendgroup": "Recipes",
           "marker": {
            "color": "#FF6692",
            "pattern": {
             "shape": ""
            }
           },
           "name": "Recipes",
           "offsetgroup": "Recipes",
           "orientation": "h",
           "showlegend": true,
           "textposition": "auto",
           "type": "bar",
           "x": [
            25
           ],
           "xaxis": "x",
           "y": [
            "Recipes"
           ],
           "yaxis": "y"
          },
          {
           "alignmentgroup": "True",
           "hovertemplate": "category=%{y}<br>Year=2018<br>Number of Searches=%{x}<extra></extra>",
           "legendgroup": "What is...?",
           "marker": {
            "color": "#B6E880",
            "pattern": {
             "shape": ""
            }
           },
           "name": "What is...?",
           "offsetgroup": "What is...?",
           "orientation": "h",
           "showlegend": true,
           "textposition": "auto",
           "type": "bar",
           "x": [
            10
           ],
           "xaxis": "x",
           "y": [
            "What is...?"
           ],
           "yaxis": "y"
          },
          {
           "alignmentgroup": "True",
           "hovertemplate": "category=%{y}<br>Year=2018<br>Number of Searches=%{x}<extra></extra>",
           "legendgroup": "How to...",
           "marker": {
            "color": "#FF97FF",
            "pattern": {
             "shape": ""
            }
           },
           "name": "How to...",
           "offsetgroup": "How to...",
           "orientation": "h",
           "showlegend": true,
           "textposition": "auto",
           "type": "bar",
           "x": [
            5
           ],
           "xaxis": "x",
           "y": [
            "How to..."
           ],
           "yaxis": "y"
          },
          {
           "alignmentgroup": "True",
           "hovertemplate": "category=%{y}<br>Year=2018<br>Number of Searches=%{x}<extra></extra>",
           "legendgroup": "News",
           "marker": {
            "color": "#FECB52",
            "pattern": {
             "shape": ""
            }
           },
           "name": "News",
           "offsetgroup": "News",
           "orientation": "h",
           "showlegend": true,
           "textposition": "auto",
           "type": "bar",
           "x": [
            25
           ],
           "xaxis": "x",
           "y": [
            "News"
           ],
           "yaxis": "y"
          }
         ],
         "name": "2018"
        },
        {
         "data": [
          {
           "alignmentgroup": "True",
           "hovertemplate": "category=%{y}<br>Year=2019<br>Number of Searches=%{x}<extra></extra>",
           "legendgroup": "People",
           "marker": {
            "color": "#636efa",
            "pattern": {
             "shape": ""
            }
           },
           "name": "People",
           "offsetgroup": "People",
           "orientation": "h",
           "showlegend": true,
           "textposition": "auto",
           "type": "bar",
           "x": [
            40
           ],
           "xaxis": "x",
           "y": [
            "People"
           ],
           "yaxis": "y"
          },
          {
           "alignmentgroup": "True",
           "hovertemplate": "category=%{y}<br>Year=2019<br>Number of Searches=%{x}<extra></extra>",
           "legendgroup": "Searches",
           "marker": {
            "color": "#EF553B",
            "pattern": {
             "shape": ""
            }
           },
           "name": "Searches",
           "offsetgroup": "Searches",
           "orientation": "h",
           "showlegend": true,
           "textposition": "auto",
           "type": "bar",
           "x": [
            35
           ],
           "xaxis": "x",
           "y": [
            "Searches"
           ],
           "yaxis": "y"
          },
          {
           "alignmentgroup": "True",
           "hovertemplate": "category=%{y}<br>Year=2019<br>Number of Searches=%{x}<extra></extra>",
           "legendgroup": "Movies",
           "marker": {
            "color": "#00cc96",
            "pattern": {
             "shape": ""
            }
           },
           "name": "Movies",
           "offsetgroup": "Movies",
           "orientation": "h",
           "showlegend": true,
           "textposition": "auto",
           "type": "bar",
           "x": [
            30
           ],
           "xaxis": "x",
           "y": [
            "Movies"
           ],
           "yaxis": "y"
          },
          {
           "alignmentgroup": "True",
           "hovertemplate": "category=%{y}<br>Year=2019<br>Number of Searches=%{x}<extra></extra>",
           "legendgroup": "TV Shows",
           "marker": {
            "color": "#ab63fa",
            "pattern": {
             "shape": ""
            }
           },
           "name": "TV Shows",
           "offsetgroup": "TV Shows",
           "orientation": "h",
           "showlegend": true,
           "textposition": "auto",
           "type": "bar",
           "x": [
            20
           ],
           "xaxis": "x",
           "y": [
            "TV Shows"
           ],
           "yaxis": "y"
          },
          {
           "alignmentgroup": "True",
           "hovertemplate": "category=%{y}<br>Year=2019<br>Number of Searches=%{x}<extra></extra>",
           "legendgroup": "Películas",
           "marker": {
            "color": "#FFA15A",
            "pattern": {
             "shape": ""
            }
           },
           "name": "Películas",
           "offsetgroup": "Películas",
           "orientation": "h",
           "showlegend": true,
           "textposition": "auto",
           "type": "bar",
           "x": [
            30
           ],
           "xaxis": "x",
           "y": [
            "Películas"
           ],
           "yaxis": "y"
          },
          {
           "alignmentgroup": "True",
           "hovertemplate": "category=%{y}<br>Year=2019<br>Number of Searches=%{x}<extra></extra>",
           "legendgroup": "Songs",
           "marker": {
            "color": "#19d3f3",
            "pattern": {
             "shape": ""
            }
           },
           "name": "Songs",
           "offsetgroup": "Songs",
           "orientation": "h",
           "showlegend": true,
           "textposition": "auto",
           "type": "bar",
           "x": [
            25
           ],
           "xaxis": "x",
           "y": [
            "Songs"
           ],
           "yaxis": "y"
          },
          {
           "alignmentgroup": "True",
           "hovertemplate": "category=%{y}<br>Year=2019<br>Number of Searches=%{x}<extra></extra>",
           "legendgroup": "Recipes",
           "marker": {
            "color": "#FF6692",
            "pattern": {
             "shape": ""
            }
           },
           "name": "Recipes",
           "offsetgroup": "Recipes",
           "orientation": "h",
           "showlegend": true,
           "textposition": "auto",
           "type": "bar",
           "x": [
            25
           ],
           "xaxis": "x",
           "y": [
            "Recipes"
           ],
           "yaxis": "y"
          },
          {
           "alignmentgroup": "True",
           "hovertemplate": "category=%{y}<br>Year=2019<br>Number of Searches=%{x}<extra></extra>",
           "legendgroup": "What is...?",
           "marker": {
            "color": "#B6E880",
            "pattern": {
             "shape": ""
            }
           },
           "name": "What is...?",
           "offsetgroup": "What is...?",
           "orientation": "h",
           "showlegend": true,
           "textposition": "auto",
           "type": "bar",
           "x": [
            15
           ],
           "xaxis": "x",
           "y": [
            "What is...?"
           ],
           "yaxis": "y"
          },
          {
           "alignmentgroup": "True",
           "hovertemplate": "category=%{y}<br>Year=2019<br>Number of Searches=%{x}<extra></extra>",
           "legendgroup": "How to...",
           "marker": {
            "color": "#FF97FF",
            "pattern": {
             "shape": ""
            }
           },
           "name": "How to...",
           "offsetgroup": "How to...",
           "orientation": "h",
           "showlegend": true,
           "textposition": "auto",
           "type": "bar",
           "x": [
            5
           ],
           "xaxis": "x",
           "y": [
            "How to..."
           ],
           "yaxis": "y"
          },
          {
           "alignmentgroup": "True",
           "hovertemplate": "category=%{y}<br>Year=2019<br>Number of Searches=%{x}<extra></extra>",
           "legendgroup": "News",
           "marker": {
            "color": "#FECB52",
            "pattern": {
             "shape": ""
            }
           },
           "name": "News",
           "offsetgroup": "News",
           "orientation": "h",
           "showlegend": true,
           "textposition": "auto",
           "type": "bar",
           "x": [
            30
           ],
           "xaxis": "x",
           "y": [
            "News"
           ],
           "yaxis": "y"
          }
         ],
         "name": "2019"
        },
        {
         "data": [
          {
           "alignmentgroup": "True",
           "hovertemplate": "category=%{y}<br>Year=2020<br>Number of Searches=%{x}<extra></extra>",
           "legendgroup": "People",
           "marker": {
            "color": "#636efa",
            "pattern": {
             "shape": ""
            }
           },
           "name": "People",
           "offsetgroup": "People",
           "orientation": "h",
           "showlegend": true,
           "textposition": "auto",
           "type": "bar",
           "x": [
            30
           ],
           "xaxis": "x",
           "y": [
            "People"
           ],
           "yaxis": "y"
          },
          {
           "alignmentgroup": "True",
           "hovertemplate": "category=%{y}<br>Year=2020<br>Number of Searches=%{x}<extra></extra>",
           "legendgroup": "Searches",
           "marker": {
            "color": "#EF553B",
            "pattern": {
             "shape": ""
            }
           },
           "name": "Searches",
           "offsetgroup": "Searches",
           "orientation": "h",
           "showlegend": true,
           "textposition": "auto",
           "type": "bar",
           "x": [
            25
           ],
           "xaxis": "x",
           "y": [
            "Searches"
           ],
           "yaxis": "y"
          },
          {
           "alignmentgroup": "True",
           "hovertemplate": "category=%{y}<br>Year=2020<br>Number of Searches=%{x}<extra></extra>",
           "legendgroup": "Movies",
           "marker": {
            "color": "#00cc96",
            "pattern": {
             "shape": ""
            }
           },
           "name": "Movies",
           "offsetgroup": "Movies",
           "orientation": "h",
           "showlegend": true,
           "textposition": "auto",
           "type": "bar",
           "x": [
            30
           ],
           "xaxis": "x",
           "y": [
            "Movies"
           ],
           "yaxis": "y"
          },
          {
           "alignmentgroup": "True",
           "hovertemplate": "category=%{y}<br>Year=2020<br>Number of Searches=%{x}<extra></extra>",
           "legendgroup": "TV Shows",
           "marker": {
            "color": "#ab63fa",
            "pattern": {
             "shape": ""
            }
           },
           "name": "TV Shows",
           "offsetgroup": "TV Shows",
           "orientation": "h",
           "showlegend": true,
           "textposition": "auto",
           "type": "bar",
           "x": [
            20
           ],
           "xaxis": "x",
           "y": [
            "TV Shows"
           ],
           "yaxis": "y"
          },
          {
           "alignmentgroup": "True",
           "hovertemplate": "category=%{y}<br>Year=2020<br>Number of Searches=%{x}<extra></extra>",
           "legendgroup": "Películas",
           "marker": {
            "color": "#FFA15A",
            "pattern": {
             "shape": ""
            }
           },
           "name": "Películas",
           "offsetgroup": "Películas",
           "orientation": "h",
           "showlegend": true,
           "textposition": "auto",
           "type": "bar",
           "x": [
            30
           ],
           "xaxis": "x",
           "y": [
            "Películas"
           ],
           "yaxis": "y"
          },
          {
           "alignmentgroup": "True",
           "hovertemplate": "category=%{y}<br>Year=2020<br>Number of Searches=%{x}<extra></extra>",
           "legendgroup": "Songs",
           "marker": {
            "color": "#19d3f3",
            "pattern": {
             "shape": ""
            }
           },
           "name": "Songs",
           "offsetgroup": "Songs",
           "orientation": "h",
           "showlegend": true,
           "textposition": "auto",
           "type": "bar",
           "x": [
            5
           ],
           "xaxis": "x",
           "y": [
            "Songs"
           ],
           "yaxis": "y"
          },
          {
           "alignmentgroup": "True",
           "hovertemplate": "category=%{y}<br>Year=2020<br>Number of Searches=%{x}<extra></extra>",
           "legendgroup": "Recipes",
           "marker": {
            "color": "#FF6692",
            "pattern": {
             "shape": ""
            }
           },
           "name": "Recipes",
           "offsetgroup": "Recipes",
           "orientation": "h",
           "showlegend": true,
           "textposition": "auto",
           "type": "bar",
           "x": [
            25
           ],
           "xaxis": "x",
           "y": [
            "Recipes"
           ],
           "yaxis": "y"
          },
          {
           "alignmentgroup": "True",
           "hovertemplate": "category=%{y}<br>Year=2020<br>Number of Searches=%{x}<extra></extra>",
           "legendgroup": "What is...?",
           "marker": {
            "color": "#B6E880",
            "pattern": {
             "shape": ""
            }
           },
           "name": "What is...?",
           "offsetgroup": "What is...?",
           "orientation": "h",
           "showlegend": true,
           "textposition": "auto",
           "type": "bar",
           "x": [
            5
           ],
           "xaxis": "x",
           "y": [
            "What is...?"
           ],
           "yaxis": "y"
          },
          {
           "alignmentgroup": "True",
           "hovertemplate": "category=%{y}<br>Year=2020<br>Number of Searches=%{x}<extra></extra>",
           "legendgroup": "How to...",
           "marker": {
            "color": "#FF97FF",
            "pattern": {
             "shape": ""
            }
           },
           "name": "How to...",
           "offsetgroup": "How to...",
           "orientation": "h",
           "showlegend": true,
           "textposition": "auto",
           "type": "bar",
           "x": [
            10
           ],
           "xaxis": "x",
           "y": [
            "How to..."
           ],
           "yaxis": "y"
          },
          {
           "alignmentgroup": "True",
           "hovertemplate": "category=%{y}<br>Year=2020<br>Number of Searches=%{x}<extra></extra>",
           "legendgroup": "News",
           "marker": {
            "color": "#FECB52",
            "pattern": {
             "shape": ""
            }
           },
           "name": "News",
           "offsetgroup": "News",
           "orientation": "h",
           "showlegend": true,
           "textposition": "auto",
           "type": "bar",
           "x": [
            15
           ],
           "xaxis": "x",
           "y": [
            "News"
           ],
           "yaxis": "y"
          }
         ],
         "name": "2020"
        }
       ],
       "layout": {
        "barmode": "relative",
        "legend": {
         "title": {
          "text": "category"
         },
         "tracegroupgap": 0
        },
        "showlegend": false,
        "sliders": [
         {
          "active": 0,
          "currentvalue": {
           "prefix": "Year="
          },
          "len": 0.9,
          "pad": {
           "b": 10,
           "t": 60
          },
          "steps": [
           {
            "args": [
             [
              "2001"
             ],
             {
              "frame": {
               "duration": 0,
               "redraw": true
              },
              "fromcurrent": true,
              "mode": "immediate",
              "transition": {
               "duration": 0,
               "easing": "linear"
              }
             }
            ],
            "label": "2001",
            "method": "animate"
           },
           {
            "args": [
             [
              "2002"
             ],
             {
              "frame": {
               "duration": 0,
               "redraw": true
              },
              "fromcurrent": true,
              "mode": "immediate",
              "transition": {
               "duration": 0,
               "easing": "linear"
              }
             }
            ],
            "label": "2002",
            "method": "animate"
           },
           {
            "args": [
             [
              "2003"
             ],
             {
              "frame": {
               "duration": 0,
               "redraw": true
              },
              "fromcurrent": true,
              "mode": "immediate",
              "transition": {
               "duration": 0,
               "easing": "linear"
              }
             }
            ],
            "label": "2003",
            "method": "animate"
           },
           {
            "args": [
             [
              "2004"
             ],
             {
              "frame": {
               "duration": 0,
               "redraw": true
              },
              "fromcurrent": true,
              "mode": "immediate",
              "transition": {
               "duration": 0,
               "easing": "linear"
              }
             }
            ],
            "label": "2004",
            "method": "animate"
           },
           {
            "args": [
             [
              "2005"
             ],
             {
              "frame": {
               "duration": 0,
               "redraw": true
              },
              "fromcurrent": true,
              "mode": "immediate",
              "transition": {
               "duration": 0,
               "easing": "linear"
              }
             }
            ],
            "label": "2005",
            "method": "animate"
           },
           {
            "args": [
             [
              "2006"
             ],
             {
              "frame": {
               "duration": 0,
               "redraw": true
              },
              "fromcurrent": true,
              "mode": "immediate",
              "transition": {
               "duration": 0,
               "easing": "linear"
              }
             }
            ],
            "label": "2006",
            "method": "animate"
           },
           {
            "args": [
             [
              "2007"
             ],
             {
              "frame": {
               "duration": 0,
               "redraw": true
              },
              "fromcurrent": true,
              "mode": "immediate",
              "transition": {
               "duration": 0,
               "easing": "linear"
              }
             }
            ],
            "label": "2007",
            "method": "animate"
           },
           {
            "args": [
             [
              "2008"
             ],
             {
              "frame": {
               "duration": 0,
               "redraw": true
              },
              "fromcurrent": true,
              "mode": "immediate",
              "transition": {
               "duration": 0,
               "easing": "linear"
              }
             }
            ],
            "label": "2008",
            "method": "animate"
           },
           {
            "args": [
             [
              "2009"
             ],
             {
              "frame": {
               "duration": 0,
               "redraw": true
              },
              "fromcurrent": true,
              "mode": "immediate",
              "transition": {
               "duration": 0,
               "easing": "linear"
              }
             }
            ],
            "label": "2009",
            "method": "animate"
           },
           {
            "args": [
             [
              "2010"
             ],
             {
              "frame": {
               "duration": 0,
               "redraw": true
              },
              "fromcurrent": true,
              "mode": "immediate",
              "transition": {
               "duration": 0,
               "easing": "linear"
              }
             }
            ],
            "label": "2010",
            "method": "animate"
           },
           {
            "args": [
             [
              "2011"
             ],
             {
              "frame": {
               "duration": 0,
               "redraw": true
              },
              "fromcurrent": true,
              "mode": "immediate",
              "transition": {
               "duration": 0,
               "easing": "linear"
              }
             }
            ],
            "label": "2011",
            "method": "animate"
           },
           {
            "args": [
             [
              "2012"
             ],
             {
              "frame": {
               "duration": 0,
               "redraw": true
              },
              "fromcurrent": true,
              "mode": "immediate",
              "transition": {
               "duration": 0,
               "easing": "linear"
              }
             }
            ],
            "label": "2012",
            "method": "animate"
           },
           {
            "args": [
             [
              "2013"
             ],
             {
              "frame": {
               "duration": 0,
               "redraw": true
              },
              "fromcurrent": true,
              "mode": "immediate",
              "transition": {
               "duration": 0,
               "easing": "linear"
              }
             }
            ],
            "label": "2013",
            "method": "animate"
           },
           {
            "args": [
             [
              "2014"
             ],
             {
              "frame": {
               "duration": 0,
               "redraw": true
              },
              "fromcurrent": true,
              "mode": "immediate",
              "transition": {
               "duration": 0,
               "easing": "linear"
              }
             }
            ],
            "label": "2014",
            "method": "animate"
           },
           {
            "args": [
             [
              "2015"
             ],
             {
              "frame": {
               "duration": 0,
               "redraw": true
              },
              "fromcurrent": true,
              "mode": "immediate",
              "transition": {
               "duration": 0,
               "easing": "linear"
              }
             }
            ],
            "label": "2015",
            "method": "animate"
           },
           {
            "args": [
             [
              "2016"
             ],
             {
              "frame": {
               "duration": 0,
               "redraw": true
              },
              "fromcurrent": true,
              "mode": "immediate",
              "transition": {
               "duration": 0,
               "easing": "linear"
              }
             }
            ],
            "label": "2016",
            "method": "animate"
           },
           {
            "args": [
             [
              "2017"
             ],
             {
              "frame": {
               "duration": 0,
               "redraw": true
              },
              "fromcurrent": true,
              "mode": "immediate",
              "transition": {
               "duration": 0,
               "easing": "linear"
              }
             }
            ],
            "label": "2017",
            "method": "animate"
           },
           {
            "args": [
             [
              "2018"
             ],
             {
              "frame": {
               "duration": 0,
               "redraw": true
              },
              "fromcurrent": true,
              "mode": "immediate",
              "transition": {
               "duration": 0,
               "easing": "linear"
              }
             }
            ],
            "label": "2018",
            "method": "animate"
           },
           {
            "args": [
             [
              "2019"
             ],
             {
              "frame": {
               "duration": 0,
               "redraw": true
              },
              "fromcurrent": true,
              "mode": "immediate",
              "transition": {
               "duration": 0,
               "easing": "linear"
              }
             }
            ],
            "label": "2019",
            "method": "animate"
           },
           {
            "args": [
             [
              "2020"
             ],
             {
              "frame": {
               "duration": 0,
               "redraw": true
              },
              "fromcurrent": true,
              "mode": "immediate",
              "transition": {
               "duration": 0,
               "easing": "linear"
              }
             }
            ],
            "label": "2020",
            "method": "animate"
           }
          ],
          "x": 0.1,
          "xanchor": "left",
          "y": 0,
          "yanchor": "top"
         }
        ],
        "template": {
         "data": {
          "bar": [
           {
            "error_x": {
             "color": "#f2f5fa"
            },
            "error_y": {
             "color": "#f2f5fa"
            },
            "marker": {
             "line": {
              "color": "rgb(17,17,17)",
              "width": 0.5
             },
             "pattern": {
              "fillmode": "overlay",
              "size": 10,
              "solidity": 0.2
             }
            },
            "type": "bar"
           }
          ],
          "barpolar": [
           {
            "marker": {
             "line": {
              "color": "rgb(17,17,17)",
              "width": 0.5
             },
             "pattern": {
              "fillmode": "overlay",
              "size": 10,
              "solidity": 0.2
             }
            },
            "type": "barpolar"
           }
          ],
          "carpet": [
           {
            "aaxis": {
             "endlinecolor": "#A2B1C6",
             "gridcolor": "#506784",
             "linecolor": "#506784",
             "minorgridcolor": "#506784",
             "startlinecolor": "#A2B1C6"
            },
            "baxis": {
             "endlinecolor": "#A2B1C6",
             "gridcolor": "#506784",
             "linecolor": "#506784",
             "minorgridcolor": "#506784",
             "startlinecolor": "#A2B1C6"
            },
            "type": "carpet"
           }
          ],
          "choropleth": [
           {
            "colorbar": {
             "outlinewidth": 0,
             "ticks": ""
            },
            "type": "choropleth"
           }
          ],
          "contour": [
           {
            "colorbar": {
             "outlinewidth": 0,
             "ticks": ""
            },
            "colorscale": [
             [
              0,
              "#0d0887"
             ],
             [
              0.1111111111111111,
              "#46039f"
             ],
             [
              0.2222222222222222,
              "#7201a8"
             ],
             [
              0.3333333333333333,
              "#9c179e"
             ],
             [
              0.4444444444444444,
              "#bd3786"
             ],
             [
              0.5555555555555556,
              "#d8576b"
             ],
             [
              0.6666666666666666,
              "#ed7953"
             ],
             [
              0.7777777777777778,
              "#fb9f3a"
             ],
             [
              0.8888888888888888,
              "#fdca26"
             ],
             [
              1,
              "#f0f921"
             ]
            ],
            "type": "contour"
           }
          ],
          "contourcarpet": [
           {
            "colorbar": {
             "outlinewidth": 0,
             "ticks": ""
            },
            "type": "contourcarpet"
           }
          ],
          "heatmap": [
           {
            "colorbar": {
             "outlinewidth": 0,
             "ticks": ""
            },
            "colorscale": [
             [
              0,
              "#0d0887"
             ],
             [
              0.1111111111111111,
              "#46039f"
             ],
             [
              0.2222222222222222,
              "#7201a8"
             ],
             [
              0.3333333333333333,
              "#9c179e"
             ],
             [
              0.4444444444444444,
              "#bd3786"
             ],
             [
              0.5555555555555556,
              "#d8576b"
             ],
             [
              0.6666666666666666,
              "#ed7953"
             ],
             [
              0.7777777777777778,
              "#fb9f3a"
             ],
             [
              0.8888888888888888,
              "#fdca26"
             ],
             [
              1,
              "#f0f921"
             ]
            ],
            "type": "heatmap"
           }
          ],
          "heatmapgl": [
           {
            "colorbar": {
             "outlinewidth": 0,
             "ticks": ""
            },
            "colorscale": [
             [
              0,
              "#0d0887"
             ],
             [
              0.1111111111111111,
              "#46039f"
             ],
             [
              0.2222222222222222,
              "#7201a8"
             ],
             [
              0.3333333333333333,
              "#9c179e"
             ],
             [
              0.4444444444444444,
              "#bd3786"
             ],
             [
              0.5555555555555556,
              "#d8576b"
             ],
             [
              0.6666666666666666,
              "#ed7953"
             ],
             [
              0.7777777777777778,
              "#fb9f3a"
             ],
             [
              0.8888888888888888,
              "#fdca26"
             ],
             [
              1,
              "#f0f921"
             ]
            ],
            "type": "heatmapgl"
           }
          ],
          "histogram": [
           {
            "marker": {
             "pattern": {
              "fillmode": "overlay",
              "size": 10,
              "solidity": 0.2
             }
            },
            "type": "histogram"
           }
          ],
          "histogram2d": [
           {
            "colorbar": {
             "outlinewidth": 0,
             "ticks": ""
            },
            "colorscale": [
             [
              0,
              "#0d0887"
             ],
             [
              0.1111111111111111,
              "#46039f"
             ],
             [
              0.2222222222222222,
              "#7201a8"
             ],
             [
              0.3333333333333333,
              "#9c179e"
             ],
             [
              0.4444444444444444,
              "#bd3786"
             ],
             [
              0.5555555555555556,
              "#d8576b"
             ],
             [
              0.6666666666666666,
              "#ed7953"
             ],
             [
              0.7777777777777778,
              "#fb9f3a"
             ],
             [
              0.8888888888888888,
              "#fdca26"
             ],
             [
              1,
              "#f0f921"
             ]
            ],
            "type": "histogram2d"
           }
          ],
          "histogram2dcontour": [
           {
            "colorbar": {
             "outlinewidth": 0,
             "ticks": ""
            },
            "colorscale": [
             [
              0,
              "#0d0887"
             ],
             [
              0.1111111111111111,
              "#46039f"
             ],
             [
              0.2222222222222222,
              "#7201a8"
             ],
             [
              0.3333333333333333,
              "#9c179e"
             ],
             [
              0.4444444444444444,
              "#bd3786"
             ],
             [
              0.5555555555555556,
              "#d8576b"
             ],
             [
              0.6666666666666666,
              "#ed7953"
             ],
             [
              0.7777777777777778,
              "#fb9f3a"
             ],
             [
              0.8888888888888888,
              "#fdca26"
             ],
             [
              1,
              "#f0f921"
             ]
            ],
            "type": "histogram2dcontour"
           }
          ],
          "mesh3d": [
           {
            "colorbar": {
             "outlinewidth": 0,
             "ticks": ""
            },
            "type": "mesh3d"
           }
          ],
          "parcoords": [
           {
            "line": {
             "colorbar": {
              "outlinewidth": 0,
              "ticks": ""
             }
            },
            "type": "parcoords"
           }
          ],
          "pie": [
           {
            "automargin": true,
            "type": "pie"
           }
          ],
          "scatter": [
           {
            "marker": {
             "line": {
              "color": "#283442"
             }
            },
            "type": "scatter"
           }
          ],
          "scatter3d": [
           {
            "line": {
             "colorbar": {
              "outlinewidth": 0,
              "ticks": ""
             }
            },
            "marker": {
             "colorbar": {
              "outlinewidth": 0,
              "ticks": ""
             }
            },
            "type": "scatter3d"
           }
          ],
          "scattercarpet": [
           {
            "marker": {
             "colorbar": {
              "outlinewidth": 0,
              "ticks": ""
             }
            },
            "type": "scattercarpet"
           }
          ],
          "scattergeo": [
           {
            "marker": {
             "colorbar": {
              "outlinewidth": 0,
              "ticks": ""
             }
            },
            "type": "scattergeo"
           }
          ],
          "scattergl": [
           {
            "marker": {
             "line": {
              "color": "#283442"
             }
            },
            "type": "scattergl"
           }
          ],
          "scattermapbox": [
           {
            "marker": {
             "colorbar": {
              "outlinewidth": 0,
              "ticks": ""
             }
            },
            "type": "scattermapbox"
           }
          ],
          "scatterpolar": [
           {
            "marker": {
             "colorbar": {
              "outlinewidth": 0,
              "ticks": ""
             }
            },
            "type": "scatterpolar"
           }
          ],
          "scatterpolargl": [
           {
            "marker": {
             "colorbar": {
              "outlinewidth": 0,
              "ticks": ""
             }
            },
            "type": "scatterpolargl"
           }
          ],
          "scatterternary": [
           {
            "marker": {
             "colorbar": {
              "outlinewidth": 0,
              "ticks": ""
             }
            },
            "type": "scatterternary"
           }
          ],
          "surface": [
           {
            "colorbar": {
             "outlinewidth": 0,
             "ticks": ""
            },
            "colorscale": [
             [
              0,
              "#0d0887"
             ],
             [
              0.1111111111111111,
              "#46039f"
             ],
             [
              0.2222222222222222,
              "#7201a8"
             ],
             [
              0.3333333333333333,
              "#9c179e"
             ],
             [
              0.4444444444444444,
              "#bd3786"
             ],
             [
              0.5555555555555556,
              "#d8576b"
             ],
             [
              0.6666666666666666,
              "#ed7953"
             ],
             [
              0.7777777777777778,
              "#fb9f3a"
             ],
             [
              0.8888888888888888,
              "#fdca26"
             ],
             [
              1,
              "#f0f921"
             ]
            ],
            "type": "surface"
           }
          ],
          "table": [
           {
            "cells": {
             "fill": {
              "color": "#506784"
             },
             "line": {
              "color": "rgb(17,17,17)"
             }
            },
            "header": {
             "fill": {
              "color": "#2a3f5f"
             },
             "line": {
              "color": "rgb(17,17,17)"
             }
            },
            "type": "table"
           }
          ]
         },
         "layout": {
          "annotationdefaults": {
           "arrowcolor": "#f2f5fa",
           "arrowhead": 0,
           "arrowwidth": 1
          },
          "autotypenumbers": "strict",
          "coloraxis": {
           "colorbar": {
            "outlinewidth": 0,
            "ticks": ""
           }
          },
          "colorscale": {
           "diverging": [
            [
             0,
             "#8e0152"
            ],
            [
             0.1,
             "#c51b7d"
            ],
            [
             0.2,
             "#de77ae"
            ],
            [
             0.3,
             "#f1b6da"
            ],
            [
             0.4,
             "#fde0ef"
            ],
            [
             0.5,
             "#f7f7f7"
            ],
            [
             0.6,
             "#e6f5d0"
            ],
            [
             0.7,
             "#b8e186"
            ],
            [
             0.8,
             "#7fbc41"
            ],
            [
             0.9,
             "#4d9221"
            ],
            [
             1,
             "#276419"
            ]
           ],
           "sequential": [
            [
             0,
             "#0d0887"
            ],
            [
             0.1111111111111111,
             "#46039f"
            ],
            [
             0.2222222222222222,
             "#7201a8"
            ],
            [
             0.3333333333333333,
             "#9c179e"
            ],
            [
             0.4444444444444444,
             "#bd3786"
            ],
            [
             0.5555555555555556,
             "#d8576b"
            ],
            [
             0.6666666666666666,
             "#ed7953"
            ],
            [
             0.7777777777777778,
             "#fb9f3a"
            ],
            [
             0.8888888888888888,
             "#fdca26"
            ],
            [
             1,
             "#f0f921"
            ]
           ],
           "sequentialminus": [
            [
             0,
             "#0d0887"
            ],
            [
             0.1111111111111111,
             "#46039f"
            ],
            [
             0.2222222222222222,
             "#7201a8"
            ],
            [
             0.3333333333333333,
             "#9c179e"
            ],
            [
             0.4444444444444444,
             "#bd3786"
            ],
            [
             0.5555555555555556,
             "#d8576b"
            ],
            [
             0.6666666666666666,
             "#ed7953"
            ],
            [
             0.7777777777777778,
             "#fb9f3a"
            ],
            [
             0.8888888888888888,
             "#fdca26"
            ],
            [
             1,
             "#f0f921"
            ]
           ]
          },
          "colorway": [
           "#636efa",
           "#EF553B",
           "#00cc96",
           "#ab63fa",
           "#FFA15A",
           "#19d3f3",
           "#FF6692",
           "#B6E880",
           "#FF97FF",
           "#FECB52"
          ],
          "font": {
           "color": "#f2f5fa"
          },
          "geo": {
           "bgcolor": "rgb(17,17,17)",
           "lakecolor": "rgb(17,17,17)",
           "landcolor": "rgb(17,17,17)",
           "showlakes": true,
           "showland": true,
           "subunitcolor": "#506784"
          },
          "hoverlabel": {
           "align": "left"
          },
          "hovermode": "closest",
          "mapbox": {
           "style": "dark"
          },
          "paper_bgcolor": "rgb(17,17,17)",
          "plot_bgcolor": "rgb(17,17,17)",
          "polar": {
           "angularaxis": {
            "gridcolor": "#506784",
            "linecolor": "#506784",
            "ticks": ""
           },
           "bgcolor": "rgb(17,17,17)",
           "radialaxis": {
            "gridcolor": "#506784",
            "linecolor": "#506784",
            "ticks": ""
           }
          },
          "scene": {
           "xaxis": {
            "backgroundcolor": "rgb(17,17,17)",
            "gridcolor": "#506784",
            "gridwidth": 2,
            "linecolor": "#506784",
            "showbackground": true,
            "ticks": "",
            "zerolinecolor": "#C8D4E3"
           },
           "yaxis": {
            "backgroundcolor": "rgb(17,17,17)",
            "gridcolor": "#506784",
            "gridwidth": 2,
            "linecolor": "#506784",
            "showbackground": true,
            "ticks": "",
            "zerolinecolor": "#C8D4E3"
           },
           "zaxis": {
            "backgroundcolor": "rgb(17,17,17)",
            "gridcolor": "#506784",
            "gridwidth": 2,
            "linecolor": "#506784",
            "showbackground": true,
            "ticks": "",
            "zerolinecolor": "#C8D4E3"
           }
          },
          "shapedefaults": {
           "line": {
            "color": "#f2f5fa"
           }
          },
          "sliderdefaults": {
           "bgcolor": "#C8D4E3",
           "bordercolor": "rgb(17,17,17)",
           "borderwidth": 1,
           "tickwidth": 0
          },
          "ternary": {
           "aaxis": {
            "gridcolor": "#506784",
            "linecolor": "#506784",
            "ticks": ""
           },
           "baxis": {
            "gridcolor": "#506784",
            "linecolor": "#506784",
            "ticks": ""
           },
           "bgcolor": "rgb(17,17,17)",
           "caxis": {
            "gridcolor": "#506784",
            "linecolor": "#506784",
            "ticks": ""
           }
          },
          "title": {
           "x": 0.05
          },
          "updatemenudefaults": {
           "bgcolor": "#506784",
           "borderwidth": 0
          },
          "xaxis": {
           "automargin": true,
           "gridcolor": "#283442",
           "linecolor": "#506784",
           "ticks": "",
           "title": {
            "standoff": 15
           },
           "zerolinecolor": "#283442",
           "zerolinewidth": 2
          },
          "yaxis": {
           "automargin": true,
           "gridcolor": "#283442",
           "linecolor": "#506784",
           "ticks": "",
           "title": {
            "standoff": 15
           },
           "zerolinecolor": "#283442",
           "zerolinewidth": 2
          }
         }
        },
        "title": {
         "text": "Top Categories Searched Across the Years (2001-2020)"
        },
        "updatemenus": [
         {
          "buttons": [
           {
            "args": [
             null,
             {
              "frame": {
               "duration": 500,
               "redraw": true
              },
              "mode": "immediate"
             }
            ],
            "label": "Play",
            "method": "animate"
           },
           {
            "args": [
             [
              null
             ],
             {
              "frame": {
               "duration": 0,
               "redraw": true
              },
              "mode": "immediate",
              "transition": {
               "duration": 0
              }
             }
            ],
            "label": "Pause",
            "method": "animate"
           }
          ],
          "direction": "left",
          "pad": {
           "r": 10,
           "t": 87
          },
          "showactive": false,
          "type": "buttons",
          "x": 0.1,
          "xanchor": "right",
          "y": 0,
          "yanchor": "top"
         }
        ],
        "xaxis": {
         "anchor": "y",
         "domain": [
          0,
          1
         ],
         "range": [
          0,
          250
         ],
         "title": {
          "text": "Number of Searches"
         }
        },
        "yaxis": {
         "anchor": "x",
         "categoryarray": [
          "News",
          "How to...",
          "What is...?",
          "Recipes",
          "Songs",
          "Películas",
          "TV Shows",
          "Movies",
          "Searches",
          "People"
         ],
         "categoryorder": "array",
         "domain": [
          0,
          1
         ],
         "title": {
          "text": "Categories"
         }
        }
       }
      }
     },
     "metadata": {},
     "output_type": "display_data"
    }
   ],
   "source": [
    "# group by year and category, count the occurrences\n",
    "category_trends = df.groupby(['year', 'category']).size().reset_index(name='count')\n",
    "\n",
    "# top 10 categories will be shown at all times on the y-axis\n",
    "top_categories = category_trends.groupby('category')['count'].sum().nlargest(10).index\n",
    "\n",
    "# filter to only include top categories\n",
    "filtered_data = category_trends[category_trends['category'].isin(top_categories)]\n",
    "\n",
    "all_years = pd.DataFrame({'year': category_trends['year'].unique()})\n",
    "all_categories = pd.DataFrame({'category': top_categories})\n",
    "\n",
    "complete_data = all_years.assign(key=1).merge(all_categories.assign(key=1), on='key').drop('key', axis=1)\n",
    "\n",
    "final_data = complete_data.merge(filtered_data, on=['year', 'category'], how='left').fillna(0)\n",
    "\n",
    "final_data['year'] = final_data['year'].astype(int)\n",
    "final_data['count'] = final_data['count'].astype(int)\n",
    "\n",
    "fig = px.bar(final_data, \n",
    "              x='count', \n",
    "              y='category', \n",
    "              color='category', \n",
    "              title='Top Categories Searched Across ALL Years in Dataset (2001-2020)', \n",
    "              labels={'year': 'Year', 'count': 'Number of Searches'},\n",
    "              animation_frame='year', \n",
    "              range_x=[0, final_data['count'].max() + 10],  \n",
    "              orientation='h')  \n",
    "\n",
    "fig.update_layout(\n",
    "    yaxis=dict(title='Categories'),\n",
    "    xaxis=dict(title='Number of Searches'),\n",
    "    template='plotly_dark',\n",
    "    showlegend=False,\n",
    "    updatemenus=[  \n",
    "        {\n",
    "            'buttons': [\n",
    "                {\n",
    "                    'args': [None, {'frame': {'duration': 500, 'redraw': True}, 'mode': 'immediate'}],\n",
    "                    'label': 'Play',\n",
    "                    'method': 'animate'\n",
    "                },\n",
    "                {\n",
    "                    'args': [[None], {'frame': {'duration': 0, 'redraw': True}, 'mode': 'immediate', 'transition': {'duration': 0}}],\n",
    "                    'label': 'Pause',\n",
    "                    'method': 'animate'\n",
    "                }\n",
    "            ],\n",
    "            'direction': 'left',\n",
    "            'pad': {'r': 10, 't': 87},\n",
    "            'showactive': False,\n",
    "            'type': 'buttons',\n",
    "            'x': 0.1,\n",
    "            'xanchor': 'right',\n",
    "            'y': 0,\n",
    "            'yanchor': 'top'\n",
    "        }\n",
    "    ]\n",
    ")\n",
    "fig.show()"
   ]
  },
  {
   "cell_type": "markdown",
   "metadata": {},
   "source": [
    "other version of the graphic, but not showing all 10 at once always. \n",
    "- since the earlier years do not have as many searches on variety of topics compared to the later years (2010's-20's)"
   ]
  },
  {
   "cell_type": "code",
   "execution_count": 18,
   "metadata": {},
   "outputs": [
    {
     "data": {
      "application/vnd.plotly.v1+json": {
       "config": {
        "plotlyServerURL": "https://plot.ly"
       },
       "data": [
        {
         "alignmentgroup": "True",
         "hovertemplate": "category=%{y}<br>Year=2001<br>Number of Searches=%{x}<extra></extra>",
         "ids": [
          "Movies"
         ],
         "legendgroup": "Movies",
         "marker": {
          "color": "#636efa",
          "pattern": {
           "shape": ""
          }
         },
         "name": "Movies",
         "offsetgroup": "Movies",
         "orientation": "h",
         "showlegend": true,
         "textposition": "auto",
         "type": "bar",
         "x": [
          5
         ],
         "xaxis": "x",
         "y": [
          "Movies"
         ],
         "yaxis": "y"
        },
        {
         "alignmentgroup": "True",
         "hovertemplate": "category=%{y}<br>Year=2001<br>Number of Searches=%{x}<extra></extra>",
         "ids": [
          "TV Shows"
         ],
         "legendgroup": "TV Shows",
         "marker": {
          "color": "#EF553B",
          "pattern": {
           "shape": ""
          }
         },
         "name": "TV Shows",
         "offsetgroup": "TV Shows",
         "orientation": "h",
         "showlegend": true,
         "textposition": "auto",
         "type": "bar",
         "x": [
          5
         ],
         "xaxis": "x",
         "y": [
          "TV Shows"
         ],
         "yaxis": "y"
        }
       ],
       "frames": [
        {
         "data": [
          {
           "alignmentgroup": "True",
           "hovertemplate": "category=%{y}<br>Year=2001<br>Number of Searches=%{x}<extra></extra>",
           "ids": [
            "Movies"
           ],
           "legendgroup": "Movies",
           "marker": {
            "color": "#636efa",
            "pattern": {
             "shape": ""
            }
           },
           "name": "Movies",
           "offsetgroup": "Movies",
           "orientation": "h",
           "showlegend": true,
           "textposition": "auto",
           "type": "bar",
           "x": [
            5
           ],
           "xaxis": "x",
           "y": [
            "Movies"
           ],
           "yaxis": "y"
          },
          {
           "alignmentgroup": "True",
           "hovertemplate": "category=%{y}<br>Year=2001<br>Number of Searches=%{x}<extra></extra>",
           "ids": [
            "TV Shows"
           ],
           "legendgroup": "TV Shows",
           "marker": {
            "color": "#EF553B",
            "pattern": {
             "shape": ""
            }
           },
           "name": "TV Shows",
           "offsetgroup": "TV Shows",
           "orientation": "h",
           "showlegend": true,
           "textposition": "auto",
           "type": "bar",
           "x": [
            5
           ],
           "xaxis": "x",
           "y": [
            "TV Shows"
           ],
           "yaxis": "y"
          }
         ],
         "name": "2001"
        },
        {
         "data": [
          {
           "alignmentgroup": "True",
           "hovertemplate": "category=%{y}<br>Year=2002<br>Number of Searches=%{x}<extra></extra>",
           "ids": [
            "Movies"
           ],
           "legendgroup": "Movies",
           "marker": {
            "color": "#636efa",
            "pattern": {
             "shape": ""
            }
           },
           "name": "Movies",
           "offsetgroup": "Movies",
           "orientation": "h",
           "showlegend": true,
           "textposition": "auto",
           "type": "bar",
           "x": [
            5
           ],
           "xaxis": "x",
           "y": [
            "Movies"
           ],
           "yaxis": "y"
          },
          {
           "alignmentgroup": "True",
           "hovertemplate": "category=%{y}<br>Year=2002<br>Number of Searches=%{x}<extra></extra>",
           "ids": [
            "TV Shows"
           ],
           "legendgroup": "TV Shows",
           "marker": {
            "color": "#EF553B",
            "pattern": {
             "shape": ""
            }
           },
           "name": "TV Shows",
           "offsetgroup": "TV Shows",
           "orientation": "h",
           "showlegend": true,
           "textposition": "auto",
           "type": "bar",
           "x": [
            5
           ],
           "xaxis": "x",
           "y": [
            "TV Shows"
           ],
           "yaxis": "y"
          },
          {
           "alignmentgroup": "True",
           "hovertemplate": "category=%{y}<br>Year=2002<br>Number of Searches=%{x}<extra></extra>",
           "ids": [
            "Searches"
           ],
           "legendgroup": "Searches",
           "marker": {
            "color": "#00cc96",
            "pattern": {
             "shape": ""
            }
           },
           "name": "Searches",
           "offsetgroup": "Searches",
           "orientation": "h",
           "showlegend": true,
           "textposition": "auto",
           "type": "bar",
           "x": [
            5
           ],
           "xaxis": "x",
           "y": [
            "Searches"
           ],
           "yaxis": "y"
          }
         ],
         "name": "2002"
        },
        {
         "data": [
          {
           "alignmentgroup": "True",
           "hovertemplate": "category=%{y}<br>Year=2003<br>Number of Searches=%{x}<extra></extra>",
           "ids": [
            "Searches"
           ],
           "legendgroup": "Searches",
           "marker": {
            "color": "#00cc96",
            "pattern": {
             "shape": ""
            }
           },
           "name": "Searches",
           "offsetgroup": "Searches",
           "orientation": "h",
           "showlegend": true,
           "textposition": "auto",
           "type": "bar",
           "x": [
            10
           ],
           "xaxis": "x",
           "y": [
            "Searches"
           ],
           "yaxis": "y"
          }
         ],
         "name": "2003"
        },
        {
         "data": [
          {
           "alignmentgroup": "True",
           "hovertemplate": "category=%{y}<br>Year=2004<br>Number of Searches=%{x}<extra></extra>",
           "ids": [
            "TV Shows"
           ],
           "legendgroup": "TV Shows",
           "marker": {
            "color": "#EF553B",
            "pattern": {
             "shape": ""
            }
           },
           "name": "TV Shows",
           "offsetgroup": "TV Shows",
           "orientation": "h",
           "showlegend": true,
           "textposition": "auto",
           "type": "bar",
           "x": [
            5
           ],
           "xaxis": "x",
           "y": [
            "TV Shows"
           ],
           "yaxis": "y"
          },
          {
           "alignmentgroup": "True",
           "hovertemplate": "category=%{y}<br>Year=2004<br>Number of Searches=%{x}<extra></extra>",
           "ids": [
            "Searches"
           ],
           "legendgroup": "Searches",
           "marker": {
            "color": "#00cc96",
            "pattern": {
             "shape": ""
            }
           },
           "name": "Searches",
           "offsetgroup": "Searches",
           "orientation": "h",
           "showlegend": true,
           "textposition": "auto",
           "type": "bar",
           "x": [
            5
           ],
           "xaxis": "x",
           "y": [
            "Searches"
           ],
           "yaxis": "y"
          }
         ],
         "name": "2004"
        },
        {
         "data": [
          {
           "alignmentgroup": "True",
           "hovertemplate": "category=%{y}<br>Year=2006<br>Number of Searches=%{x}<extra></extra>",
           "ids": [
            "How to..."
           ],
           "legendgroup": "How to...",
           "marker": {
            "color": "#ab63fa",
            "pattern": {
             "shape": ""
            }
           },
           "name": "How to...",
           "offsetgroup": "How to...",
           "orientation": "h",
           "showlegend": true,
           "textposition": "auto",
           "type": "bar",
           "x": [
            5
           ],
           "xaxis": "x",
           "y": [
            "How to..."
           ],
           "yaxis": "y"
          }
         ],
         "name": "2006"
        },
        {
         "data": [
          {
           "alignmentgroup": "True",
           "hovertemplate": "category=%{y}<br>Year=2007<br>Number of Searches=%{x}<extra></extra>",
           "ids": [
            "Recipes"
           ],
           "legendgroup": "Recipes",
           "marker": {
            "color": "#FFA15A",
            "pattern": {
             "shape": ""
            }
           },
           "name": "Recipes",
           "offsetgroup": "Recipes",
           "orientation": "h",
           "showlegend": true,
           "textposition": "auto",
           "type": "bar",
           "x": [
            5
           ],
           "xaxis": "x",
           "y": [
            "Recipes"
           ],
           "yaxis": "y"
          }
         ],
         "name": "2007"
        },
        {
         "data": [
          {
           "alignmentgroup": "True",
           "hovertemplate": "category=%{y}<br>Year=2008<br>Number of Searches=%{x}<extra></extra>",
           "ids": [
            "TV Shows"
           ],
           "legendgroup": "TV Shows",
           "marker": {
            "color": "#EF553B",
            "pattern": {
             "shape": ""
            }
           },
           "name": "TV Shows",
           "offsetgroup": "TV Shows",
           "orientation": "h",
           "showlegend": true,
           "textposition": "auto",
           "type": "bar",
           "x": [
            5
           ],
           "xaxis": "x",
           "y": [
            "TV Shows"
           ],
           "yaxis": "y"
          },
          {
           "alignmentgroup": "True",
           "hovertemplate": "category=%{y}<br>Year=2008<br>Number of Searches=%{x}<extra></extra>",
           "ids": [
            "Searches"
           ],
           "legendgroup": "Searches",
           "marker": {
            "color": "#00cc96",
            "pattern": {
             "shape": ""
            }
           },
           "name": "Searches",
           "offsetgroup": "Searches",
           "orientation": "h",
           "showlegend": true,
           "textposition": "auto",
           "type": "bar",
           "x": [
            5
           ],
           "xaxis": "x",
           "y": [
            "Searches"
           ],
           "yaxis": "y"
          }
         ],
         "name": "2008"
        },
        {
         "data": [
          {
           "alignmentgroup": "True",
           "hovertemplate": "category=%{y}<br>Year=2009<br>Number of Searches=%{x}<extra></extra>",
           "ids": [
            "Recipes"
           ],
           "legendgroup": "Recipes",
           "marker": {
            "color": "#FFA15A",
            "pattern": {
             "shape": ""
            }
           },
           "name": "Recipes",
           "offsetgroup": "Recipes",
           "orientation": "h",
           "showlegend": true,
           "textposition": "auto",
           "type": "bar",
           "x": [
            5
           ],
           "xaxis": "x",
           "y": [
            "Recipes"
           ],
           "yaxis": "y"
          }
         ],
         "name": "2009"
        },
        {
         "data": [
          {
           "alignmentgroup": "True",
           "hovertemplate": "category=%{y}<br>Year=2010<br>Number of Searches=%{x}<extra></extra>",
           "ids": [
            "TV Shows"
           ],
           "legendgroup": "TV Shows",
           "marker": {
            "color": "#EF553B",
            "pattern": {
             "shape": ""
            }
           },
           "name": "TV Shows",
           "offsetgroup": "TV Shows",
           "orientation": "h",
           "showlegend": true,
           "textposition": "auto",
           "type": "bar",
           "x": [
            5
           ],
           "xaxis": "x",
           "y": [
            "TV Shows"
           ],
           "yaxis": "y"
          },
          {
           "alignmentgroup": "True",
           "hovertemplate": "category=%{y}<br>Year=2010<br>Number of Searches=%{x}<extra></extra>",
           "ids": [
            "People"
           ],
           "legendgroup": "People",
           "marker": {
            "color": "#19d3f3",
            "pattern": {
             "shape": ""
            }
           },
           "name": "People",
           "offsetgroup": "People",
           "orientation": "h",
           "showlegend": true,
           "textposition": "auto",
           "type": "bar",
           "x": [
            10
           ],
           "xaxis": "x",
           "y": [
            "People"
           ],
           "yaxis": "y"
          },
          {
           "alignmentgroup": "True",
           "hovertemplate": "category=%{y}<br>Year=2010<br>Number of Searches=%{x}<extra></extra>",
           "ids": [
            "News"
           ],
           "legendgroup": "News",
           "marker": {
            "color": "#FF6692",
            "pattern": {
             "shape": ""
            }
           },
           "name": "News",
           "offsetgroup": "News",
           "orientation": "h",
           "showlegend": true,
           "textposition": "auto",
           "type": "bar",
           "x": [
            5
           ],
           "xaxis": "x",
           "y": [
            "News"
           ],
           "yaxis": "y"
          }
         ],
         "name": "2010"
        },
        {
         "data": [
          {
           "alignmentgroup": "True",
           "hovertemplate": "category=%{y}<br>Year=2011<br>Number of Searches=%{x}<extra></extra>",
           "ids": [
            "Movies"
           ],
           "legendgroup": "Movies",
           "marker": {
            "color": "#636efa",
            "pattern": {
             "shape": ""
            }
           },
           "name": "Movies",
           "offsetgroup": "Movies",
           "orientation": "h",
           "showlegend": true,
           "textposition": "auto",
           "type": "bar",
           "x": [
            10
           ],
           "xaxis": "x",
           "y": [
            "Movies"
           ],
           "yaxis": "y"
          },
          {
           "alignmentgroup": "True",
           "hovertemplate": "category=%{y}<br>Year=2011<br>Number of Searches=%{x}<extra></extra>",
           "ids": [
            "Searches"
           ],
           "legendgroup": "Searches",
           "marker": {
            "color": "#00cc96",
            "pattern": {
             "shape": ""
            }
           },
           "name": "Searches",
           "offsetgroup": "Searches",
           "orientation": "h",
           "showlegend": true,
           "textposition": "auto",
           "type": "bar",
           "x": [
            10
           ],
           "xaxis": "x",
           "y": [
            "Searches"
           ],
           "yaxis": "y"
          },
          {
           "alignmentgroup": "True",
           "hovertemplate": "category=%{y}<br>Year=2011<br>Number of Searches=%{x}<extra></extra>",
           "ids": [
            "People"
           ],
           "legendgroup": "People",
           "marker": {
            "color": "#19d3f3",
            "pattern": {
             "shape": ""
            }
           },
           "name": "People",
           "offsetgroup": "People",
           "orientation": "h",
           "showlegend": true,
           "textposition": "auto",
           "type": "bar",
           "x": [
            195
           ],
           "xaxis": "x",
           "y": [
            "People"
           ],
           "yaxis": "y"
          },
          {
           "alignmentgroup": "True",
           "hovertemplate": "category=%{y}<br>Year=2011<br>Number of Searches=%{x}<extra></extra>",
           "ids": [
            "News"
           ],
           "legendgroup": "News",
           "marker": {
            "color": "#FF6692",
            "pattern": {
             "shape": ""
            }
           },
           "name": "News",
           "offsetgroup": "News",
           "orientation": "h",
           "showlegend": true,
           "textposition": "auto",
           "type": "bar",
           "x": [
            10
           ],
           "xaxis": "x",
           "y": [
            "News"
           ],
           "yaxis": "y"
          }
         ],
         "name": "2011"
        },
        {
         "data": [
          {
           "alignmentgroup": "True",
           "hovertemplate": "category=%{y}<br>Year=2012<br>Number of Searches=%{x}<extra></extra>",
           "ids": [
            "Movies"
           ],
           "legendgroup": "Movies",
           "marker": {
            "color": "#636efa",
            "pattern": {
             "shape": ""
            }
           },
           "name": "Movies",
           "offsetgroup": "Movies",
           "orientation": "h",
           "showlegend": true,
           "textposition": "auto",
           "type": "bar",
           "x": [
            35
           ],
           "xaxis": "x",
           "y": [
            "Movies"
           ],
           "yaxis": "y"
          },
          {
           "alignmentgroup": "True",
           "hovertemplate": "category=%{y}<br>Year=2012<br>Number of Searches=%{x}<extra></extra>",
           "ids": [
            "TV Shows"
           ],
           "legendgroup": "TV Shows",
           "marker": {
            "color": "#EF553B",
            "pattern": {
             "shape": ""
            }
           },
           "name": "TV Shows",
           "offsetgroup": "TV Shows",
           "orientation": "h",
           "showlegend": true,
           "textposition": "auto",
           "type": "bar",
           "x": [
            70
           ],
           "xaxis": "x",
           "y": [
            "TV Shows"
           ],
           "yaxis": "y"
          },
          {
           "alignmentgroup": "True",
           "hovertemplate": "category=%{y}<br>Year=2012<br>Number of Searches=%{x}<extra></extra>",
           "ids": [
            "Searches"
           ],
           "legendgroup": "Searches",
           "marker": {
            "color": "#00cc96",
            "pattern": {
             "shape": ""
            }
           },
           "name": "Searches",
           "offsetgroup": "Searches",
           "orientation": "h",
           "showlegend": true,
           "textposition": "auto",
           "type": "bar",
           "x": [
            240
           ],
           "xaxis": "x",
           "y": [
            "Searches"
           ],
           "yaxis": "y"
          },
          {
           "alignmentgroup": "True",
           "hovertemplate": "category=%{y}<br>Year=2012<br>Number of Searches=%{x}<extra></extra>",
           "ids": [
            "How to..."
           ],
           "legendgroup": "How to...",
           "marker": {
            "color": "#ab63fa",
            "pattern": {
             "shape": ""
            }
           },
           "name": "How to...",
           "offsetgroup": "How to...",
           "orientation": "h",
           "showlegend": true,
           "textposition": "auto",
           "type": "bar",
           "x": [
            90
           ],
           "xaxis": "x",
           "y": [
            "How to..."
           ],
           "yaxis": "y"
          },
          {
           "alignmentgroup": "True",
           "hovertemplate": "category=%{y}<br>Year=2012<br>Number of Searches=%{x}<extra></extra>",
           "ids": [
            "Recipes"
           ],
           "legendgroup": "Recipes",
           "marker": {
            "color": "#FFA15A",
            "pattern": {
             "shape": ""
            }
           },
           "name": "Recipes",
           "offsetgroup": "Recipes",
           "orientation": "h",
           "showlegend": true,
           "textposition": "auto",
           "type": "bar",
           "x": [
            10
           ],
           "xaxis": "x",
           "y": [
            "Recipes"
           ],
           "yaxis": "y"
          },
          {
           "alignmentgroup": "True",
           "hovertemplate": "category=%{y}<br>Year=2012<br>Number of Searches=%{x}<extra></extra>",
           "ids": [
            "People"
           ],
           "legendgroup": "People",
           "marker": {
            "color": "#19d3f3",
            "pattern": {
             "shape": ""
            }
           },
           "name": "People",
           "offsetgroup": "People",
           "orientation": "h",
           "showlegend": true,
           "textposition": "auto",
           "type": "bar",
           "x": [
            205
           ],
           "xaxis": "x",
           "y": [
            "People"
           ],
           "yaxis": "y"
          },
          {
           "alignmentgroup": "True",
           "hovertemplate": "category=%{y}<br>Year=2012<br>Number of Searches=%{x}<extra></extra>",
           "ids": [
            "News"
           ],
           "legendgroup": "News",
           "marker": {
            "color": "#FF6692",
            "pattern": {
             "shape": ""
            }
           },
           "name": "News",
           "offsetgroup": "News",
           "orientation": "h",
           "showlegend": true,
           "textposition": "auto",
           "type": "bar",
           "x": [
            5
           ],
           "xaxis": "x",
           "y": [
            "News"
           ],
           "yaxis": "y"
          },
          {
           "alignmentgroup": "True",
           "hovertemplate": "category=%{y}<br>Year=2012<br>Number of Searches=%{x}<extra></extra>",
           "ids": [
            "Songs"
           ],
           "legendgroup": "Songs",
           "marker": {
            "color": "#B6E880",
            "pattern": {
             "shape": ""
            }
           },
           "name": "Songs",
           "offsetgroup": "Songs",
           "orientation": "h",
           "showlegend": true,
           "textposition": "auto",
           "type": "bar",
           "x": [
            110
           ],
           "xaxis": "x",
           "y": [
            "Songs"
           ],
           "yaxis": "y"
          },
          {
           "alignmentgroup": "True",
           "hovertemplate": "category=%{y}<br>Year=2012<br>Number of Searches=%{x}<extra></extra>",
           "ids": [
            "What is...?"
           ],
           "legendgroup": "What is...?",
           "marker": {
            "color": "#FF97FF",
            "pattern": {
             "shape": ""
            }
           },
           "name": "What is...?",
           "offsetgroup": "What is...?",
           "orientation": "h",
           "showlegend": true,
           "textposition": "auto",
           "type": "bar",
           "x": [
            100
           ],
           "xaxis": "x",
           "y": [
            "What is...?"
           ],
           "yaxis": "y"
          }
         ],
         "name": "2012"
        },
        {
         "data": [
          {
           "alignmentgroup": "True",
           "hovertemplate": "category=%{y}<br>Year=2013<br>Number of Searches=%{x}<extra></extra>",
           "ids": [
            "Movies"
           ],
           "legendgroup": "Movies",
           "marker": {
            "color": "#636efa",
            "pattern": {
             "shape": ""
            }
           },
           "name": "Movies",
           "offsetgroup": "Movies",
           "orientation": "h",
           "showlegend": true,
           "textposition": "auto",
           "type": "bar",
           "x": [
            15
           ],
           "xaxis": "x",
           "y": [
            "Movies"
           ],
           "yaxis": "y"
          },
          {
           "alignmentgroup": "True",
           "hovertemplate": "category=%{y}<br>Year=2013<br>Number of Searches=%{x}<extra></extra>",
           "ids": [
            "TV Shows"
           ],
           "legendgroup": "TV Shows",
           "marker": {
            "color": "#EF553B",
            "pattern": {
             "shape": ""
            }
           },
           "name": "TV Shows",
           "offsetgroup": "TV Shows",
           "orientation": "h",
           "showlegend": true,
           "textposition": "auto",
           "type": "bar",
           "x": [
            25
           ],
           "xaxis": "x",
           "y": [
            "TV Shows"
           ],
           "yaxis": "y"
          },
          {
           "alignmentgroup": "True",
           "hovertemplate": "category=%{y}<br>Year=2013<br>Number of Searches=%{x}<extra></extra>",
           "ids": [
            "Searches"
           ],
           "legendgroup": "Searches",
           "marker": {
            "color": "#00cc96",
            "pattern": {
             "shape": ""
            }
           },
           "name": "Searches",
           "offsetgroup": "Searches",
           "orientation": "h",
           "showlegend": true,
           "textposition": "auto",
           "type": "bar",
           "x": [
            25
           ],
           "xaxis": "x",
           "y": [
            "Searches"
           ],
           "yaxis": "y"
          },
          {
           "alignmentgroup": "True",
           "hovertemplate": "category=%{y}<br>Year=2013<br>Number of Searches=%{x}<extra></extra>",
           "ids": [
            "How to..."
           ],
           "legendgroup": "How to...",
           "marker": {
            "color": "#ab63fa",
            "pattern": {
             "shape": ""
            }
           },
           "name": "How to...",
           "offsetgroup": "How to...",
           "orientation": "h",
           "showlegend": true,
           "textposition": "auto",
           "type": "bar",
           "x": [
            10
           ],
           "xaxis": "x",
           "y": [
            "How to..."
           ],
           "yaxis": "y"
          },
          {
           "alignmentgroup": "True",
           "hovertemplate": "category=%{y}<br>Year=2013<br>Number of Searches=%{x}<extra></extra>",
           "ids": [
            "Recipes"
           ],
           "legendgroup": "Recipes",
           "marker": {
            "color": "#FFA15A",
            "pattern": {
             "shape": ""
            }
           },
           "name": "Recipes",
           "offsetgroup": "Recipes",
           "orientation": "h",
           "showlegend": true,
           "textposition": "auto",
           "type": "bar",
           "x": [
            5
           ],
           "xaxis": "x",
           "y": [
            "Recipes"
           ],
           "yaxis": "y"
          },
          {
           "alignmentgroup": "True",
           "hovertemplate": "category=%{y}<br>Year=2013<br>Number of Searches=%{x}<extra></extra>",
           "ids": [
            "People"
           ],
           "legendgroup": "People",
           "marker": {
            "color": "#19d3f3",
            "pattern": {
             "shape": ""
            }
           },
           "name": "People",
           "offsetgroup": "People",
           "orientation": "h",
           "showlegend": true,
           "textposition": "auto",
           "type": "bar",
           "x": [
            55
           ],
           "xaxis": "x",
           "y": [
            "People"
           ],
           "yaxis": "y"
          },
          {
           "alignmentgroup": "True",
           "hovertemplate": "category=%{y}<br>Year=2013<br>Number of Searches=%{x}<extra></extra>",
           "ids": [
            "Songs"
           ],
           "legendgroup": "Songs",
           "marker": {
            "color": "#B6E880",
            "pattern": {
             "shape": ""
            }
           },
           "name": "Songs",
           "offsetgroup": "Songs",
           "orientation": "h",
           "showlegend": true,
           "textposition": "auto",
           "type": "bar",
           "x": [
            10
           ],
           "xaxis": "x",
           "y": [
            "Songs"
           ],
           "yaxis": "y"
          },
          {
           "alignmentgroup": "True",
           "hovertemplate": "category=%{y}<br>Year=2013<br>Number of Searches=%{x}<extra></extra>",
           "ids": [
            "What is...?"
           ],
           "legendgroup": "What is...?",
           "marker": {
            "color": "#FF97FF",
            "pattern": {
             "shape": ""
            }
           },
           "name": "What is...?",
           "offsetgroup": "What is...?",
           "orientation": "h",
           "showlegend": true,
           "textposition": "auto",
           "type": "bar",
           "x": [
            10
           ],
           "xaxis": "x",
           "y": [
            "What is...?"
           ],
           "yaxis": "y"
          },
          {
           "alignmentgroup": "True",
           "hovertemplate": "category=%{y}<br>Year=2013<br>Number of Searches=%{x}<extra></extra>",
           "ids": [
            "Películas"
           ],
           "legendgroup": "Películas",
           "marker": {
            "color": "#FECB52",
            "pattern": {
             "shape": ""
            }
           },
           "name": "Películas",
           "offsetgroup": "Películas",
           "orientation": "h",
           "showlegend": true,
           "textposition": "auto",
           "type": "bar",
           "x": [
            25
           ],
           "xaxis": "x",
           "y": [
            "Películas"
           ],
           "yaxis": "y"
          }
         ],
         "name": "2013"
        },
        {
         "data": [
          {
           "alignmentgroup": "True",
           "hovertemplate": "category=%{y}<br>Year=2014<br>Number of Searches=%{x}<extra></extra>",
           "ids": [
            "Movies"
           ],
           "legendgroup": "Movies",
           "marker": {
            "color": "#636efa",
            "pattern": {
             "shape": ""
            }
           },
           "name": "Movies",
           "offsetgroup": "Movies",
           "orientation": "h",
           "showlegend": true,
           "textposition": "auto",
           "type": "bar",
           "x": [
            40
           ],
           "xaxis": "x",
           "y": [
            "Movies"
           ],
           "yaxis": "y"
          },
          {
           "alignmentgroup": "True",
           "hovertemplate": "category=%{y}<br>Year=2014<br>Number of Searches=%{x}<extra></extra>",
           "ids": [
            "TV Shows"
           ],
           "legendgroup": "TV Shows",
           "marker": {
            "color": "#EF553B",
            "pattern": {
             "shape": ""
            }
           },
           "name": "TV Shows",
           "offsetgroup": "TV Shows",
           "orientation": "h",
           "showlegend": true,
           "textposition": "auto",
           "type": "bar",
           "x": [
            30
           ],
           "xaxis": "x",
           "y": [
            "TV Shows"
           ],
           "yaxis": "y"
          },
          {
           "alignmentgroup": "True",
           "hovertemplate": "category=%{y}<br>Year=2014<br>Number of Searches=%{x}<extra></extra>",
           "ids": [
            "Searches"
           ],
           "legendgroup": "Searches",
           "marker": {
            "color": "#00cc96",
            "pattern": {
             "shape": ""
            }
           },
           "name": "Searches",
           "offsetgroup": "Searches",
           "orientation": "h",
           "showlegend": true,
           "textposition": "auto",
           "type": "bar",
           "x": [
            80
           ],
           "xaxis": "x",
           "y": [
            "Searches"
           ],
           "yaxis": "y"
          },
          {
           "alignmentgroup": "True",
           "hovertemplate": "category=%{y}<br>Year=2014<br>Number of Searches=%{x}<extra></extra>",
           "ids": [
            "How to..."
           ],
           "legendgroup": "How to...",
           "marker": {
            "color": "#ab63fa",
            "pattern": {
             "shape": ""
            }
           },
           "name": "How to...",
           "offsetgroup": "How to...",
           "orientation": "h",
           "showlegend": true,
           "textposition": "auto",
           "type": "bar",
           "x": [
            10
           ],
           "xaxis": "x",
           "y": [
            "How to..."
           ],
           "yaxis": "y"
          },
          {
           "alignmentgroup": "True",
           "hovertemplate": "category=%{y}<br>Year=2014<br>Number of Searches=%{x}<extra></extra>",
           "ids": [
            "Recipes"
           ],
           "legendgroup": "Recipes",
           "marker": {
            "color": "#FFA15A",
            "pattern": {
             "shape": ""
            }
           },
           "name": "Recipes",
           "offsetgroup": "Recipes",
           "orientation": "h",
           "showlegend": true,
           "textposition": "auto",
           "type": "bar",
           "x": [
            15
           ],
           "xaxis": "x",
           "y": [
            "Recipes"
           ],
           "yaxis": "y"
          },
          {
           "alignmentgroup": "True",
           "hovertemplate": "category=%{y}<br>Year=2014<br>Number of Searches=%{x}<extra></extra>",
           "ids": [
            "People"
           ],
           "legendgroup": "People",
           "marker": {
            "color": "#19d3f3",
            "pattern": {
             "shape": ""
            }
           },
           "name": "People",
           "offsetgroup": "People",
           "orientation": "h",
           "showlegend": true,
           "textposition": "auto",
           "type": "bar",
           "x": [
            55
           ],
           "xaxis": "x",
           "y": [
            "People"
           ],
           "yaxis": "y"
          },
          {
           "alignmentgroup": "True",
           "hovertemplate": "category=%{y}<br>Year=2014<br>Number of Searches=%{x}<extra></extra>",
           "ids": [
            "News"
           ],
           "legendgroup": "News",
           "marker": {
            "color": "#FF6692",
            "pattern": {
             "shape": ""
            }
           },
           "name": "News",
           "offsetgroup": "News",
           "orientation": "h",
           "showlegend": true,
           "textposition": "auto",
           "type": "bar",
           "x": [
            5
           ],
           "xaxis": "x",
           "y": [
            "News"
           ],
           "yaxis": "y"
          },
          {
           "alignmentgroup": "True",
           "hovertemplate": "category=%{y}<br>Year=2014<br>Number of Searches=%{x}<extra></extra>",
           "ids": [
            "Songs"
           ],
           "legendgroup": "Songs",
           "marker": {
            "color": "#B6E880",
            "pattern": {
             "shape": ""
            }
           },
           "name": "Songs",
           "offsetgroup": "Songs",
           "orientation": "h",
           "showlegend": true,
           "textposition": "auto",
           "type": "bar",
           "x": [
            10
           ],
           "xaxis": "x",
           "y": [
            "Songs"
           ],
           "yaxis": "y"
          },
          {
           "alignmentgroup": "True",
           "hovertemplate": "category=%{y}<br>Year=2014<br>Number of Searches=%{x}<extra></extra>",
           "ids": [
            "Películas"
           ],
           "legendgroup": "Películas",
           "marker": {
            "color": "#FECB52",
            "pattern": {
             "shape": ""
            }
           },
           "name": "Películas",
           "offsetgroup": "Películas",
           "orientation": "h",
           "showlegend": true,
           "textposition": "auto",
           "type": "bar",
           "x": [
            35
           ],
           "xaxis": "x",
           "y": [
            "Películas"
           ],
           "yaxis": "y"
          }
         ],
         "name": "2014"
        },
        {
         "data": [
          {
           "alignmentgroup": "True",
           "hovertemplate": "category=%{y}<br>Year=2015<br>Number of Searches=%{x}<extra></extra>",
           "ids": [
            "Movies"
           ],
           "legendgroup": "Movies",
           "marker": {
            "color": "#636efa",
            "pattern": {
             "shape": ""
            }
           },
           "name": "Movies",
           "offsetgroup": "Movies",
           "orientation": "h",
           "showlegend": true,
           "textposition": "auto",
           "type": "bar",
           "x": [
            35
           ],
           "xaxis": "x",
           "y": [
            "Movies"
           ],
           "yaxis": "y"
          },
          {
           "alignmentgroup": "True",
           "hovertemplate": "category=%{y}<br>Year=2015<br>Number of Searches=%{x}<extra></extra>",
           "ids": [
            "TV Shows"
           ],
           "legendgroup": "TV Shows",
           "marker": {
            "color": "#EF553B",
            "pattern": {
             "shape": ""
            }
           },
           "name": "TV Shows",
           "offsetgroup": "TV Shows",
           "orientation": "h",
           "showlegend": true,
           "textposition": "auto",
           "type": "bar",
           "x": [
            35
           ],
           "xaxis": "x",
           "y": [
            "TV Shows"
           ],
           "yaxis": "y"
          },
          {
           "alignmentgroup": "True",
           "hovertemplate": "category=%{y}<br>Year=2015<br>Number of Searches=%{x}<extra></extra>",
           "ids": [
            "Searches"
           ],
           "legendgroup": "Searches",
           "marker": {
            "color": "#00cc96",
            "pattern": {
             "shape": ""
            }
           },
           "name": "Searches",
           "offsetgroup": "Searches",
           "orientation": "h",
           "showlegend": true,
           "textposition": "auto",
           "type": "bar",
           "x": [
            65
           ],
           "xaxis": "x",
           "y": [
            "Searches"
           ],
           "yaxis": "y"
          },
          {
           "alignmentgroup": "True",
           "hovertemplate": "category=%{y}<br>Year=2015<br>Number of Searches=%{x}<extra></extra>",
           "ids": [
            "How to..."
           ],
           "legendgroup": "How to...",
           "marker": {
            "color": "#ab63fa",
            "pattern": {
             "shape": ""
            }
           },
           "name": "How to...",
           "offsetgroup": "How to...",
           "orientation": "h",
           "showlegend": true,
           "textposition": "auto",
           "type": "bar",
           "x": [
            15
           ],
           "xaxis": "x",
           "y": [
            "How to..."
           ],
           "yaxis": "y"
          },
          {
           "alignmentgroup": "True",
           "hovertemplate": "category=%{y}<br>Year=2015<br>Number of Searches=%{x}<extra></extra>",
           "ids": [
            "Recipes"
           ],
           "legendgroup": "Recipes",
           "marker": {
            "color": "#FFA15A",
            "pattern": {
             "shape": ""
            }
           },
           "name": "Recipes",
           "offsetgroup": "Recipes",
           "orientation": "h",
           "showlegend": true,
           "textposition": "auto",
           "type": "bar",
           "x": [
            20
           ],
           "xaxis": "x",
           "y": [
            "Recipes"
           ],
           "yaxis": "y"
          },
          {
           "alignmentgroup": "True",
           "hovertemplate": "category=%{y}<br>Year=2015<br>Number of Searches=%{x}<extra></extra>",
           "ids": [
            "People"
           ],
           "legendgroup": "People",
           "marker": {
            "color": "#19d3f3",
            "pattern": {
             "shape": ""
            }
           },
           "name": "People",
           "offsetgroup": "People",
           "orientation": "h",
           "showlegend": true,
           "textposition": "auto",
           "type": "bar",
           "x": [
            55
           ],
           "xaxis": "x",
           "y": [
            "People"
           ],
           "yaxis": "y"
          },
          {
           "alignmentgroup": "True",
           "hovertemplate": "category=%{y}<br>Year=2015<br>Number of Searches=%{x}<extra></extra>",
           "ids": [
            "News"
           ],
           "legendgroup": "News",
           "marker": {
            "color": "#FF6692",
            "pattern": {
             "shape": ""
            }
           },
           "name": "News",
           "offsetgroup": "News",
           "orientation": "h",
           "showlegend": true,
           "textposition": "auto",
           "type": "bar",
           "x": [
            5
           ],
           "xaxis": "x",
           "y": [
            "News"
           ],
           "yaxis": "y"
          },
          {
           "alignmentgroup": "True",
           "hovertemplate": "category=%{y}<br>Year=2015<br>Number of Searches=%{x}<extra></extra>",
           "ids": [
            "Songs"
           ],
           "legendgroup": "Songs",
           "marker": {
            "color": "#B6E880",
            "pattern": {
             "shape": ""
            }
           },
           "name": "Songs",
           "offsetgroup": "Songs",
           "orientation": "h",
           "showlegend": true,
           "textposition": "auto",
           "type": "bar",
           "x": [
            10
           ],
           "xaxis": "x",
           "y": [
            "Songs"
           ],
           "yaxis": "y"
          },
          {
           "alignmentgroup": "True",
           "hovertemplate": "category=%{y}<br>Year=2015<br>Number of Searches=%{x}<extra></extra>",
           "ids": [
            "What is...?"
           ],
           "legendgroup": "What is...?",
           "marker": {
            "color": "#FF97FF",
            "pattern": {
             "shape": ""
            }
           },
           "name": "What is...?",
           "offsetgroup": "What is...?",
           "orientation": "h",
           "showlegend": true,
           "textposition": "auto",
           "type": "bar",
           "x": [
            20
           ],
           "xaxis": "x",
           "y": [
            "What is...?"
           ],
           "yaxis": "y"
          },
          {
           "alignmentgroup": "True",
           "hovertemplate": "category=%{y}<br>Year=2015<br>Number of Searches=%{x}<extra></extra>",
           "ids": [
            "Películas"
           ],
           "legendgroup": "Películas",
           "marker": {
            "color": "#FECB52",
            "pattern": {
             "shape": ""
            }
           },
           "name": "Películas",
           "offsetgroup": "Películas",
           "orientation": "h",
           "showlegend": true,
           "textposition": "auto",
           "type": "bar",
           "x": [
            20
           ],
           "xaxis": "x",
           "y": [
            "Películas"
           ],
           "yaxis": "y"
          }
         ],
         "name": "2015"
        },
        {
         "data": [
          {
           "alignmentgroup": "True",
           "hovertemplate": "category=%{y}<br>Year=2016<br>Number of Searches=%{x}<extra></extra>",
           "ids": [
            "Movies"
           ],
           "legendgroup": "Movies",
           "marker": {
            "color": "#636efa",
            "pattern": {
             "shape": ""
            }
           },
           "name": "Movies",
           "offsetgroup": "Movies",
           "orientation": "h",
           "showlegend": true,
           "textposition": "auto",
           "type": "bar",
           "x": [
            40
           ],
           "xaxis": "x",
           "y": [
            "Movies"
           ],
           "yaxis": "y"
          },
          {
           "alignmentgroup": "True",
           "hovertemplate": "category=%{y}<br>Year=2016<br>Number of Searches=%{x}<extra></extra>",
           "ids": [
            "TV Shows"
           ],
           "legendgroup": "TV Shows",
           "marker": {
            "color": "#EF553B",
            "pattern": {
             "shape": ""
            }
           },
           "name": "TV Shows",
           "offsetgroup": "TV Shows",
           "orientation": "h",
           "showlegend": true,
           "textposition": "auto",
           "type": "bar",
           "x": [
            25
           ],
           "xaxis": "x",
           "y": [
            "TV Shows"
           ],
           "yaxis": "y"
          },
          {
           "alignmentgroup": "True",
           "hovertemplate": "category=%{y}<br>Year=2016<br>Number of Searches=%{x}<extra></extra>",
           "ids": [
            "Searches"
           ],
           "legendgroup": "Searches",
           "marker": {
            "color": "#00cc96",
            "pattern": {
             "shape": ""
            }
           },
           "name": "Searches",
           "offsetgroup": "Searches",
           "orientation": "h",
           "showlegend": true,
           "textposition": "auto",
           "type": "bar",
           "x": [
            40
           ],
           "xaxis": "x",
           "y": [
            "Searches"
           ],
           "yaxis": "y"
          },
          {
           "alignmentgroup": "True",
           "hovertemplate": "category=%{y}<br>Year=2016<br>Number of Searches=%{x}<extra></extra>",
           "ids": [
            "How to..."
           ],
           "legendgroup": "How to...",
           "marker": {
            "color": "#ab63fa",
            "pattern": {
             "shape": ""
            }
           },
           "name": "How to...",
           "offsetgroup": "How to...",
           "orientation": "h",
           "showlegend": true,
           "textposition": "auto",
           "type": "bar",
           "x": [
            15
           ],
           "xaxis": "x",
           "y": [
            "How to..."
           ],
           "yaxis": "y"
          },
          {
           "alignmentgroup": "True",
           "hovertemplate": "category=%{y}<br>Year=2016<br>Number of Searches=%{x}<extra></extra>",
           "ids": [
            "Recipes"
           ],
           "legendgroup": "Recipes",
           "marker": {
            "color": "#FFA15A",
            "pattern": {
             "shape": ""
            }
           },
           "name": "Recipes",
           "offsetgroup": "Recipes",
           "orientation": "h",
           "showlegend": true,
           "textposition": "auto",
           "type": "bar",
           "x": [
            15
           ],
           "xaxis": "x",
           "y": [
            "Recipes"
           ],
           "yaxis": "y"
          },
          {
           "alignmentgroup": "True",
           "hovertemplate": "category=%{y}<br>Year=2016<br>Number of Searches=%{x}<extra></extra>",
           "ids": [
            "People"
           ],
           "legendgroup": "People",
           "marker": {
            "color": "#19d3f3",
            "pattern": {
             "shape": ""
            }
           },
           "name": "People",
           "offsetgroup": "People",
           "orientation": "h",
           "showlegend": true,
           "textposition": "auto",
           "type": "bar",
           "x": [
            40
           ],
           "xaxis": "x",
           "y": [
            "People"
           ],
           "yaxis": "y"
          },
          {
           "alignmentgroup": "True",
           "hovertemplate": "category=%{y}<br>Year=2016<br>Number of Searches=%{x}<extra></extra>",
           "ids": [
            "News"
           ],
           "legendgroup": "News",
           "marker": {
            "color": "#FF6692",
            "pattern": {
             "shape": ""
            }
           },
           "name": "News",
           "offsetgroup": "News",
           "orientation": "h",
           "showlegend": true,
           "textposition": "auto",
           "type": "bar",
           "x": [
            15
           ],
           "xaxis": "x",
           "y": [
            "News"
           ],
           "yaxis": "y"
          },
          {
           "alignmentgroup": "True",
           "hovertemplate": "category=%{y}<br>Year=2016<br>Number of Searches=%{x}<extra></extra>",
           "ids": [
            "Songs"
           ],
           "legendgroup": "Songs",
           "marker": {
            "color": "#B6E880",
            "pattern": {
             "shape": ""
            }
           },
           "name": "Songs",
           "offsetgroup": "Songs",
           "orientation": "h",
           "showlegend": true,
           "textposition": "auto",
           "type": "bar",
           "x": [
            15
           ],
           "xaxis": "x",
           "y": [
            "Songs"
           ],
           "yaxis": "y"
          },
          {
           "alignmentgroup": "True",
           "hovertemplate": "category=%{y}<br>Year=2016<br>Number of Searches=%{x}<extra></extra>",
           "ids": [
            "What is...?"
           ],
           "legendgroup": "What is...?",
           "marker": {
            "color": "#FF97FF",
            "pattern": {
             "shape": ""
            }
           },
           "name": "What is...?",
           "offsetgroup": "What is...?",
           "orientation": "h",
           "showlegend": true,
           "textposition": "auto",
           "type": "bar",
           "x": [
            5
           ],
           "xaxis": "x",
           "y": [
            "What is...?"
           ],
           "yaxis": "y"
          },
          {
           "alignmentgroup": "True",
           "hovertemplate": "category=%{y}<br>Year=2016<br>Number of Searches=%{x}<extra></extra>",
           "ids": [
            "Películas"
           ],
           "legendgroup": "Películas",
           "marker": {
            "color": "#FECB52",
            "pattern": {
             "shape": ""
            }
           },
           "name": "Películas",
           "offsetgroup": "Películas",
           "orientation": "h",
           "showlegend": true,
           "textposition": "auto",
           "type": "bar",
           "x": [
            40
           ],
           "xaxis": "x",
           "y": [
            "Películas"
           ],
           "yaxis": "y"
          }
         ],
         "name": "2016"
        },
        {
         "data": [
          {
           "alignmentgroup": "True",
           "hovertemplate": "category=%{y}<br>Year=2017<br>Number of Searches=%{x}<extra></extra>",
           "ids": [
            "Movies"
           ],
           "legendgroup": "Movies",
           "marker": {
            "color": "#636efa",
            "pattern": {
             "shape": ""
            }
           },
           "name": "Movies",
           "offsetgroup": "Movies",
           "orientation": "h",
           "showlegend": true,
           "textposition": "auto",
           "type": "bar",
           "x": [
            35
           ],
           "xaxis": "x",
           "y": [
            "Movies"
           ],
           "yaxis": "y"
          },
          {
           "alignmentgroup": "True",
           "hovertemplate": "category=%{y}<br>Year=2017<br>Number of Searches=%{x}<extra></extra>",
           "ids": [
            "TV Shows"
           ],
           "legendgroup": "TV Shows",
           "marker": {
            "color": "#EF553B",
            "pattern": {
             "shape": ""
            }
           },
           "name": "TV Shows",
           "offsetgroup": "TV Shows",
           "orientation": "h",
           "showlegend": true,
           "textposition": "auto",
           "type": "bar",
           "x": [
            30
           ],
           "xaxis": "x",
           "y": [
            "TV Shows"
           ],
           "yaxis": "y"
          },
          {
           "alignmentgroup": "True",
           "hovertemplate": "category=%{y}<br>Year=2017<br>Number of Searches=%{x}<extra></extra>",
           "ids": [
            "Searches"
           ],
           "legendgroup": "Searches",
           "marker": {
            "color": "#00cc96",
            "pattern": {
             "shape": ""
            }
           },
           "name": "Searches",
           "offsetgroup": "Searches",
           "orientation": "h",
           "showlegend": true,
           "textposition": "auto",
           "type": "bar",
           "x": [
            35
           ],
           "xaxis": "x",
           "y": [
            "Searches"
           ],
           "yaxis": "y"
          },
          {
           "alignmentgroup": "True",
           "hovertemplate": "category=%{y}<br>Year=2017<br>Number of Searches=%{x}<extra></extra>",
           "ids": [
            "How to..."
           ],
           "legendgroup": "How to...",
           "marker": {
            "color": "#ab63fa",
            "pattern": {
             "shape": ""
            }
           },
           "name": "How to...",
           "offsetgroup": "How to...",
           "orientation": "h",
           "showlegend": true,
           "textposition": "auto",
           "type": "bar",
           "x": [
            5
           ],
           "xaxis": "x",
           "y": [
            "How to..."
           ],
           "yaxis": "y"
          },
          {
           "alignmentgroup": "True",
           "hovertemplate": "category=%{y}<br>Year=2017<br>Number of Searches=%{x}<extra></extra>",
           "ids": [
            "Recipes"
           ],
           "legendgroup": "Recipes",
           "marker": {
            "color": "#FFA15A",
            "pattern": {
             "shape": ""
            }
           },
           "name": "Recipes",
           "offsetgroup": "Recipes",
           "orientation": "h",
           "showlegend": true,
           "textposition": "auto",
           "type": "bar",
           "x": [
            25
           ],
           "xaxis": "x",
           "y": [
            "Recipes"
           ],
           "yaxis": "y"
          },
          {
           "alignmentgroup": "True",
           "hovertemplate": "category=%{y}<br>Year=2017<br>Number of Searches=%{x}<extra></extra>",
           "ids": [
            "People"
           ],
           "legendgroup": "People",
           "marker": {
            "color": "#19d3f3",
            "pattern": {
             "shape": ""
            }
           },
           "name": "People",
           "offsetgroup": "People",
           "orientation": "h",
           "showlegend": true,
           "textposition": "auto",
           "type": "bar",
           "x": [
            40
           ],
           "xaxis": "x",
           "y": [
            "People"
           ],
           "yaxis": "y"
          },
          {
           "alignmentgroup": "True",
           "hovertemplate": "category=%{y}<br>Year=2017<br>Number of Searches=%{x}<extra></extra>",
           "ids": [
            "News"
           ],
           "legendgroup": "News",
           "marker": {
            "color": "#FF6692",
            "pattern": {
             "shape": ""
            }
           },
           "name": "News",
           "offsetgroup": "News",
           "orientation": "h",
           "showlegend": true,
           "textposition": "auto",
           "type": "bar",
           "x": [
            35
           ],
           "xaxis": "x",
           "y": [
            "News"
           ],
           "yaxis": "y"
          },
          {
           "alignmentgroup": "True",
           "hovertemplate": "category=%{y}<br>Year=2017<br>Number of Searches=%{x}<extra></extra>",
           "ids": [
            "Songs"
           ],
           "legendgroup": "Songs",
           "marker": {
            "color": "#B6E880",
            "pattern": {
             "shape": ""
            }
           },
           "name": "Songs",
           "offsetgroup": "Songs",
           "orientation": "h",
           "showlegend": true,
           "textposition": "auto",
           "type": "bar",
           "x": [
            15
           ],
           "xaxis": "x",
           "y": [
            "Songs"
           ],
           "yaxis": "y"
          },
          {
           "alignmentgroup": "True",
           "hovertemplate": "category=%{y}<br>Year=2017<br>Number of Searches=%{x}<extra></extra>",
           "ids": [
            "What is...?"
           ],
           "legendgroup": "What is...?",
           "marker": {
            "color": "#FF97FF",
            "pattern": {
             "shape": ""
            }
           },
           "name": "What is...?",
           "offsetgroup": "What is...?",
           "orientation": "h",
           "showlegend": true,
           "textposition": "auto",
           "type": "bar",
           "x": [
            10
           ],
           "xaxis": "x",
           "y": [
            "What is...?"
           ],
           "yaxis": "y"
          },
          {
           "alignmentgroup": "True",
           "hovertemplate": "category=%{y}<br>Year=2017<br>Number of Searches=%{x}<extra></extra>",
           "ids": [
            "Películas"
           ],
           "legendgroup": "Películas",
           "marker": {
            "color": "#FECB52",
            "pattern": {
             "shape": ""
            }
           },
           "name": "Películas",
           "offsetgroup": "Películas",
           "orientation": "h",
           "showlegend": true,
           "textposition": "auto",
           "type": "bar",
           "x": [
            30
           ],
           "xaxis": "x",
           "y": [
            "Películas"
           ],
           "yaxis": "y"
          }
         ],
         "name": "2017"
        },
        {
         "data": [
          {
           "alignmentgroup": "True",
           "hovertemplate": "category=%{y}<br>Year=2018<br>Number of Searches=%{x}<extra></extra>",
           "ids": [
            "Movies"
           ],
           "legendgroup": "Movies",
           "marker": {
            "color": "#636efa",
            "pattern": {
             "shape": ""
            }
           },
           "name": "Movies",
           "offsetgroup": "Movies",
           "orientation": "h",
           "showlegend": true,
           "textposition": "auto",
           "type": "bar",
           "x": [
            50
           ],
           "xaxis": "x",
           "y": [
            "Movies"
           ],
           "yaxis": "y"
          },
          {
           "alignmentgroup": "True",
           "hovertemplate": "category=%{y}<br>Year=2018<br>Number of Searches=%{x}<extra></extra>",
           "ids": [
            "TV Shows"
           ],
           "legendgroup": "TV Shows",
           "marker": {
            "color": "#EF553B",
            "pattern": {
             "shape": ""
            }
           },
           "name": "TV Shows",
           "offsetgroup": "TV Shows",
           "orientation": "h",
           "showlegend": true,
           "textposition": "auto",
           "type": "bar",
           "x": [
            25
           ],
           "xaxis": "x",
           "y": [
            "TV Shows"
           ],
           "yaxis": "y"
          },
          {
           "alignmentgroup": "True",
           "hovertemplate": "category=%{y}<br>Year=2018<br>Number of Searches=%{x}<extra></extra>",
           "ids": [
            "Searches"
           ],
           "legendgroup": "Searches",
           "marker": {
            "color": "#00cc96",
            "pattern": {
             "shape": ""
            }
           },
           "name": "Searches",
           "offsetgroup": "Searches",
           "orientation": "h",
           "showlegend": true,
           "textposition": "auto",
           "type": "bar",
           "x": [
            40
           ],
           "xaxis": "x",
           "y": [
            "Searches"
           ],
           "yaxis": "y"
          },
          {
           "alignmentgroup": "True",
           "hovertemplate": "category=%{y}<br>Year=2018<br>Number of Searches=%{x}<extra></extra>",
           "ids": [
            "How to..."
           ],
           "legendgroup": "How to...",
           "marker": {
            "color": "#ab63fa",
            "pattern": {
             "shape": ""
            }
           },
           "name": "How to...",
           "offsetgroup": "How to...",
           "orientation": "h",
           "showlegend": true,
           "textposition": "auto",
           "type": "bar",
           "x": [
            5
           ],
           "xaxis": "x",
           "y": [
            "How to..."
           ],
           "yaxis": "y"
          },
          {
           "alignmentgroup": "True",
           "hovertemplate": "category=%{y}<br>Year=2018<br>Number of Searches=%{x}<extra></extra>",
           "ids": [
            "Recipes"
           ],
           "legendgroup": "Recipes",
           "marker": {
            "color": "#FFA15A",
            "pattern": {
             "shape": ""
            }
           },
           "name": "Recipes",
           "offsetgroup": "Recipes",
           "orientation": "h",
           "showlegend": true,
           "textposition": "auto",
           "type": "bar",
           "x": [
            25
           ],
           "xaxis": "x",
           "y": [
            "Recipes"
           ],
           "yaxis": "y"
          },
          {
           "alignmentgroup": "True",
           "hovertemplate": "category=%{y}<br>Year=2018<br>Number of Searches=%{x}<extra></extra>",
           "ids": [
            "People"
           ],
           "legendgroup": "People",
           "marker": {
            "color": "#19d3f3",
            "pattern": {
             "shape": ""
            }
           },
           "name": "People",
           "offsetgroup": "People",
           "orientation": "h",
           "showlegend": true,
           "textposition": "auto",
           "type": "bar",
           "x": [
            35
           ],
           "xaxis": "x",
           "y": [
            "People"
           ],
           "yaxis": "y"
          },
          {
           "alignmentgroup": "True",
           "hovertemplate": "category=%{y}<br>Year=2018<br>Number of Searches=%{x}<extra></extra>",
           "ids": [
            "News"
           ],
           "legendgroup": "News",
           "marker": {
            "color": "#FF6692",
            "pattern": {
             "shape": ""
            }
           },
           "name": "News",
           "offsetgroup": "News",
           "orientation": "h",
           "showlegend": true,
           "textposition": "auto",
           "type": "bar",
           "x": [
            25
           ],
           "xaxis": "x",
           "y": [
            "News"
           ],
           "yaxis": "y"
          },
          {
           "alignmentgroup": "True",
           "hovertemplate": "category=%{y}<br>Year=2018<br>Number of Searches=%{x}<extra></extra>",
           "ids": [
            "Songs"
           ],
           "legendgroup": "Songs",
           "marker": {
            "color": "#B6E880",
            "pattern": {
             "shape": ""
            }
           },
           "name": "Songs",
           "offsetgroup": "Songs",
           "orientation": "h",
           "showlegend": true,
           "textposition": "auto",
           "type": "bar",
           "x": [
            15
           ],
           "xaxis": "x",
           "y": [
            "Songs"
           ],
           "yaxis": "y"
          },
          {
           "alignmentgroup": "True",
           "hovertemplate": "category=%{y}<br>Year=2018<br>Number of Searches=%{x}<extra></extra>",
           "ids": [
            "What is...?"
           ],
           "legendgroup": "What is...?",
           "marker": {
            "color": "#FF97FF",
            "pattern": {
             "shape": ""
            }
           },
           "name": "What is...?",
           "offsetgroup": "What is...?",
           "orientation": "h",
           "showlegend": true,
           "textposition": "auto",
           "type": "bar",
           "x": [
            10
           ],
           "xaxis": "x",
           "y": [
            "What is...?"
           ],
           "yaxis": "y"
          },
          {
           "alignmentgroup": "True",
           "hovertemplate": "category=%{y}<br>Year=2018<br>Number of Searches=%{x}<extra></extra>",
           "ids": [
            "Películas"
           ],
           "legendgroup": "Películas",
           "marker": {
            "color": "#FECB52",
            "pattern": {
             "shape": ""
            }
           },
           "name": "Películas",
           "offsetgroup": "Películas",
           "orientation": "h",
           "showlegend": true,
           "textposition": "auto",
           "type": "bar",
           "x": [
            40
           ],
           "xaxis": "x",
           "y": [
            "Películas"
           ],
           "yaxis": "y"
          }
         ],
         "name": "2018"
        },
        {
         "data": [
          {
           "alignmentgroup": "True",
           "hovertemplate": "category=%{y}<br>Year=2019<br>Number of Searches=%{x}<extra></extra>",
           "ids": [
            "Movies"
           ],
           "legendgroup": "Movies",
           "marker": {
            "color": "#636efa",
            "pattern": {
             "shape": ""
            }
           },
           "name": "Movies",
           "offsetgroup": "Movies",
           "orientation": "h",
           "showlegend": true,
           "textposition": "auto",
           "type": "bar",
           "x": [
            30
           ],
           "xaxis": "x",
           "y": [
            "Movies"
           ],
           "yaxis": "y"
          },
          {
           "alignmentgroup": "True",
           "hovertemplate": "category=%{y}<br>Year=2019<br>Number of Searches=%{x}<extra></extra>",
           "ids": [
            "TV Shows"
           ],
           "legendgroup": "TV Shows",
           "marker": {
            "color": "#EF553B",
            "pattern": {
             "shape": ""
            }
           },
           "name": "TV Shows",
           "offsetgroup": "TV Shows",
           "orientation": "h",
           "showlegend": true,
           "textposition": "auto",
           "type": "bar",
           "x": [
            20
           ],
           "xaxis": "x",
           "y": [
            "TV Shows"
           ],
           "yaxis": "y"
          },
          {
           "alignmentgroup": "True",
           "hovertemplate": "category=%{y}<br>Year=2019<br>Number of Searches=%{x}<extra></extra>",
           "ids": [
            "Searches"
           ],
           "legendgroup": "Searches",
           "marker": {
            "color": "#00cc96",
            "pattern": {
             "shape": ""
            }
           },
           "name": "Searches",
           "offsetgroup": "Searches",
           "orientation": "h",
           "showlegend": true,
           "textposition": "auto",
           "type": "bar",
           "x": [
            35
           ],
           "xaxis": "x",
           "y": [
            "Searches"
           ],
           "yaxis": "y"
          },
          {
           "alignmentgroup": "True",
           "hovertemplate": "category=%{y}<br>Year=2019<br>Number of Searches=%{x}<extra></extra>",
           "ids": [
            "How to..."
           ],
           "legendgroup": "How to...",
           "marker": {
            "color": "#ab63fa",
            "pattern": {
             "shape": ""
            }
           },
           "name": "How to...",
           "offsetgroup": "How to...",
           "orientation": "h",
           "showlegend": true,
           "textposition": "auto",
           "type": "bar",
           "x": [
            5
           ],
           "xaxis": "x",
           "y": [
            "How to..."
           ],
           "yaxis": "y"
          },
          {
           "alignmentgroup": "True",
           "hovertemplate": "category=%{y}<br>Year=2019<br>Number of Searches=%{x}<extra></extra>",
           "ids": [
            "Recipes"
           ],
           "legendgroup": "Recipes",
           "marker": {
            "color": "#FFA15A",
            "pattern": {
             "shape": ""
            }
           },
           "name": "Recipes",
           "offsetgroup": "Recipes",
           "orientation": "h",
           "showlegend": true,
           "textposition": "auto",
           "type": "bar",
           "x": [
            25
           ],
           "xaxis": "x",
           "y": [
            "Recipes"
           ],
           "yaxis": "y"
          },
          {
           "alignmentgroup": "True",
           "hovertemplate": "category=%{y}<br>Year=2019<br>Number of Searches=%{x}<extra></extra>",
           "ids": [
            "People"
           ],
           "legendgroup": "People",
           "marker": {
            "color": "#19d3f3",
            "pattern": {
             "shape": ""
            }
           },
           "name": "People",
           "offsetgroup": "People",
           "orientation": "h",
           "showlegend": true,
           "textposition": "auto",
           "type": "bar",
           "x": [
            40
           ],
           "xaxis": "x",
           "y": [
            "People"
           ],
           "yaxis": "y"
          },
          {
           "alignmentgroup": "True",
           "hovertemplate": "category=%{y}<br>Year=2019<br>Number of Searches=%{x}<extra></extra>",
           "ids": [
            "News"
           ],
           "legendgroup": "News",
           "marker": {
            "color": "#FF6692",
            "pattern": {
             "shape": ""
            }
           },
           "name": "News",
           "offsetgroup": "News",
           "orientation": "h",
           "showlegend": true,
           "textposition": "auto",
           "type": "bar",
           "x": [
            30
           ],
           "xaxis": "x",
           "y": [
            "News"
           ],
           "yaxis": "y"
          },
          {
           "alignmentgroup": "True",
           "hovertemplate": "category=%{y}<br>Year=2019<br>Number of Searches=%{x}<extra></extra>",
           "ids": [
            "Songs"
           ],
           "legendgroup": "Songs",
           "marker": {
            "color": "#B6E880",
            "pattern": {
             "shape": ""
            }
           },
           "name": "Songs",
           "offsetgroup": "Songs",
           "orientation": "h",
           "showlegend": true,
           "textposition": "auto",
           "type": "bar",
           "x": [
            25
           ],
           "xaxis": "x",
           "y": [
            "Songs"
           ],
           "yaxis": "y"
          },
          {
           "alignmentgroup": "True",
           "hovertemplate": "category=%{y}<br>Year=2019<br>Number of Searches=%{x}<extra></extra>",
           "ids": [
            "What is...?"
           ],
           "legendgroup": "What is...?",
           "marker": {
            "color": "#FF97FF",
            "pattern": {
             "shape": ""
            }
           },
           "name": "What is...?",
           "offsetgroup": "What is...?",
           "orientation": "h",
           "showlegend": true,
           "textposition": "auto",
           "type": "bar",
           "x": [
            15
           ],
           "xaxis": "x",
           "y": [
            "What is...?"
           ],
           "yaxis": "y"
          },
          {
           "alignmentgroup": "True",
           "hovertemplate": "category=%{y}<br>Year=2019<br>Number of Searches=%{x}<extra></extra>",
           "ids": [
            "Películas"
           ],
           "legendgroup": "Películas",
           "marker": {
            "color": "#FECB52",
            "pattern": {
             "shape": ""
            }
           },
           "name": "Películas",
           "offsetgroup": "Películas",
           "orientation": "h",
           "showlegend": true,
           "textposition": "auto",
           "type": "bar",
           "x": [
            30
           ],
           "xaxis": "x",
           "y": [
            "Películas"
           ],
           "yaxis": "y"
          }
         ],
         "name": "2019"
        },
        {
         "data": [
          {
           "alignmentgroup": "True",
           "hovertemplate": "category=%{y}<br>Year=2020<br>Number of Searches=%{x}<extra></extra>",
           "ids": [
            "Movies"
           ],
           "legendgroup": "Movies",
           "marker": {
            "color": "#636efa",
            "pattern": {
             "shape": ""
            }
           },
           "name": "Movies",
           "offsetgroup": "Movies",
           "orientation": "h",
           "showlegend": true,
           "textposition": "auto",
           "type": "bar",
           "x": [
            30
           ],
           "xaxis": "x",
           "y": [
            "Movies"
           ],
           "yaxis": "y"
          },
          {
           "alignmentgroup": "True",
           "hovertemplate": "category=%{y}<br>Year=2020<br>Number of Searches=%{x}<extra></extra>",
           "ids": [
            "TV Shows"
           ],
           "legendgroup": "TV Shows",
           "marker": {
            "color": "#EF553B",
            "pattern": {
             "shape": ""
            }
           },
           "name": "TV Shows",
           "offsetgroup": "TV Shows",
           "orientation": "h",
           "showlegend": true,
           "textposition": "auto",
           "type": "bar",
           "x": [
            20
           ],
           "xaxis": "x",
           "y": [
            "TV Shows"
           ],
           "yaxis": "y"
          },
          {
           "alignmentgroup": "True",
           "hovertemplate": "category=%{y}<br>Year=2020<br>Number of Searches=%{x}<extra></extra>",
           "ids": [
            "Searches"
           ],
           "legendgroup": "Searches",
           "marker": {
            "color": "#00cc96",
            "pattern": {
             "shape": ""
            }
           },
           "name": "Searches",
           "offsetgroup": "Searches",
           "orientation": "h",
           "showlegend": true,
           "textposition": "auto",
           "type": "bar",
           "x": [
            25
           ],
           "xaxis": "x",
           "y": [
            "Searches"
           ],
           "yaxis": "y"
          },
          {
           "alignmentgroup": "True",
           "hovertemplate": "category=%{y}<br>Year=2020<br>Number of Searches=%{x}<extra></extra>",
           "ids": [
            "How to..."
           ],
           "legendgroup": "How to...",
           "marker": {
            "color": "#ab63fa",
            "pattern": {
             "shape": ""
            }
           },
           "name": "How to...",
           "offsetgroup": "How to...",
           "orientation": "h",
           "showlegend": true,
           "textposition": "auto",
           "type": "bar",
           "x": [
            10
           ],
           "xaxis": "x",
           "y": [
            "How to..."
           ],
           "yaxis": "y"
          },
          {
           "alignmentgroup": "True",
           "hovertemplate": "category=%{y}<br>Year=2020<br>Number of Searches=%{x}<extra></extra>",
           "ids": [
            "Recipes"
           ],
           "legendgroup": "Recipes",
           "marker": {
            "color": "#FFA15A",
            "pattern": {
             "shape": ""
            }
           },
           "name": "Recipes",
           "offsetgroup": "Recipes",
           "orientation": "h",
           "showlegend": true,
           "textposition": "auto",
           "type": "bar",
           "x": [
            25
           ],
           "xaxis": "x",
           "y": [
            "Recipes"
           ],
           "yaxis": "y"
          },
          {
           "alignmentgroup": "True",
           "hovertemplate": "category=%{y}<br>Year=2020<br>Number of Searches=%{x}<extra></extra>",
           "ids": [
            "People"
           ],
           "legendgroup": "People",
           "marker": {
            "color": "#19d3f3",
            "pattern": {
             "shape": ""
            }
           },
           "name": "People",
           "offsetgroup": "People",
           "orientation": "h",
           "showlegend": true,
           "textposition": "auto",
           "type": "bar",
           "x": [
            30
           ],
           "xaxis": "x",
           "y": [
            "People"
           ],
           "yaxis": "y"
          },
          {
           "alignmentgroup": "True",
           "hovertemplate": "category=%{y}<br>Year=2020<br>Number of Searches=%{x}<extra></extra>",
           "ids": [
            "News"
           ],
           "legendgroup": "News",
           "marker": {
            "color": "#FF6692",
            "pattern": {
             "shape": ""
            }
           },
           "name": "News",
           "offsetgroup": "News",
           "orientation": "h",
           "showlegend": true,
           "textposition": "auto",
           "type": "bar",
           "x": [
            15
           ],
           "xaxis": "x",
           "y": [
            "News"
           ],
           "yaxis": "y"
          },
          {
           "alignmentgroup": "True",
           "hovertemplate": "category=%{y}<br>Year=2020<br>Number of Searches=%{x}<extra></extra>",
           "ids": [
            "Songs"
           ],
           "legendgroup": "Songs",
           "marker": {
            "color": "#B6E880",
            "pattern": {
             "shape": ""
            }
           },
           "name": "Songs",
           "offsetgroup": "Songs",
           "orientation": "h",
           "showlegend": true,
           "textposition": "auto",
           "type": "bar",
           "x": [
            5
           ],
           "xaxis": "x",
           "y": [
            "Songs"
           ],
           "yaxis": "y"
          },
          {
           "alignmentgroup": "True",
           "hovertemplate": "category=%{y}<br>Year=2020<br>Number of Searches=%{x}<extra></extra>",
           "ids": [
            "What is...?"
           ],
           "legendgroup": "What is...?",
           "marker": {
            "color": "#FF97FF",
            "pattern": {
             "shape": ""
            }
           },
           "name": "What is...?",
           "offsetgroup": "What is...?",
           "orientation": "h",
           "showlegend": true,
           "textposition": "auto",
           "type": "bar",
           "x": [
            5
           ],
           "xaxis": "x",
           "y": [
            "What is...?"
           ],
           "yaxis": "y"
          },
          {
           "alignmentgroup": "True",
           "hovertemplate": "category=%{y}<br>Year=2020<br>Number of Searches=%{x}<extra></extra>",
           "ids": [
            "Películas"
           ],
           "legendgroup": "Películas",
           "marker": {
            "color": "#FECB52",
            "pattern": {
             "shape": ""
            }
           },
           "name": "Películas",
           "offsetgroup": "Películas",
           "orientation": "h",
           "showlegend": true,
           "textposition": "auto",
           "type": "bar",
           "x": [
            30
           ],
           "xaxis": "x",
           "y": [
            "Películas"
           ],
           "yaxis": "y"
          }
         ],
         "name": "2020"
        }
       ],
       "layout": {
        "barmode": "relative",
        "height": 600,
        "hovermode": "x unified",
        "legend": {
         "title": {
          "text": "category"
         },
         "tracegroupgap": 0
        },
        "showlegend": false,
        "sliders": [
         {
          "active": 0,
          "currentvalue": {
           "prefix": "Year="
          },
          "len": 0.9,
          "pad": {
           "b": 10,
           "t": 60
          },
          "steps": [
           {
            "args": [
             [
              "2001"
             ],
             {
              "frame": {
               "duration": 0,
               "redraw": true
              },
              "fromcurrent": true,
              "mode": "immediate",
              "transition": {
               "duration": 0,
               "easing": "linear"
              }
             }
            ],
            "label": "2001",
            "method": "animate"
           },
           {
            "args": [
             [
              "2002"
             ],
             {
              "frame": {
               "duration": 0,
               "redraw": true
              },
              "fromcurrent": true,
              "mode": "immediate",
              "transition": {
               "duration": 0,
               "easing": "linear"
              }
             }
            ],
            "label": "2002",
            "method": "animate"
           },
           {
            "args": [
             [
              "2003"
             ],
             {
              "frame": {
               "duration": 0,
               "redraw": true
              },
              "fromcurrent": true,
              "mode": "immediate",
              "transition": {
               "duration": 0,
               "easing": "linear"
              }
             }
            ],
            "label": "2003",
            "method": "animate"
           },
           {
            "args": [
             [
              "2004"
             ],
             {
              "frame": {
               "duration": 0,
               "redraw": true
              },
              "fromcurrent": true,
              "mode": "immediate",
              "transition": {
               "duration": 0,
               "easing": "linear"
              }
             }
            ],
            "label": "2004",
            "method": "animate"
           },
           {
            "args": [
             [
              "2006"
             ],
             {
              "frame": {
               "duration": 0,
               "redraw": true
              },
              "fromcurrent": true,
              "mode": "immediate",
              "transition": {
               "duration": 0,
               "easing": "linear"
              }
             }
            ],
            "label": "2006",
            "method": "animate"
           },
           {
            "args": [
             [
              "2007"
             ],
             {
              "frame": {
               "duration": 0,
               "redraw": true
              },
              "fromcurrent": true,
              "mode": "immediate",
              "transition": {
               "duration": 0,
               "easing": "linear"
              }
             }
            ],
            "label": "2007",
            "method": "animate"
           },
           {
            "args": [
             [
              "2008"
             ],
             {
              "frame": {
               "duration": 0,
               "redraw": true
              },
              "fromcurrent": true,
              "mode": "immediate",
              "transition": {
               "duration": 0,
               "easing": "linear"
              }
             }
            ],
            "label": "2008",
            "method": "animate"
           },
           {
            "args": [
             [
              "2009"
             ],
             {
              "frame": {
               "duration": 0,
               "redraw": true
              },
              "fromcurrent": true,
              "mode": "immediate",
              "transition": {
               "duration": 0,
               "easing": "linear"
              }
             }
            ],
            "label": "2009",
            "method": "animate"
           },
           {
            "args": [
             [
              "2010"
             ],
             {
              "frame": {
               "duration": 0,
               "redraw": true
              },
              "fromcurrent": true,
              "mode": "immediate",
              "transition": {
               "duration": 0,
               "easing": "linear"
              }
             }
            ],
            "label": "2010",
            "method": "animate"
           },
           {
            "args": [
             [
              "2011"
             ],
             {
              "frame": {
               "duration": 0,
               "redraw": true
              },
              "fromcurrent": true,
              "mode": "immediate",
              "transition": {
               "duration": 0,
               "easing": "linear"
              }
             }
            ],
            "label": "2011",
            "method": "animate"
           },
           {
            "args": [
             [
              "2012"
             ],
             {
              "frame": {
               "duration": 0,
               "redraw": true
              },
              "fromcurrent": true,
              "mode": "immediate",
              "transition": {
               "duration": 0,
               "easing": "linear"
              }
             }
            ],
            "label": "2012",
            "method": "animate"
           },
           {
            "args": [
             [
              "2013"
             ],
             {
              "frame": {
               "duration": 0,
               "redraw": true
              },
              "fromcurrent": true,
              "mode": "immediate",
              "transition": {
               "duration": 0,
               "easing": "linear"
              }
             }
            ],
            "label": "2013",
            "method": "animate"
           },
           {
            "args": [
             [
              "2014"
             ],
             {
              "frame": {
               "duration": 0,
               "redraw": true
              },
              "fromcurrent": true,
              "mode": "immediate",
              "transition": {
               "duration": 0,
               "easing": "linear"
              }
             }
            ],
            "label": "2014",
            "method": "animate"
           },
           {
            "args": [
             [
              "2015"
             ],
             {
              "frame": {
               "duration": 0,
               "redraw": true
              },
              "fromcurrent": true,
              "mode": "immediate",
              "transition": {
               "duration": 0,
               "easing": "linear"
              }
             }
            ],
            "label": "2015",
            "method": "animate"
           },
           {
            "args": [
             [
              "2016"
             ],
             {
              "frame": {
               "duration": 0,
               "redraw": true
              },
              "fromcurrent": true,
              "mode": "immediate",
              "transition": {
               "duration": 0,
               "easing": "linear"
              }
             }
            ],
            "label": "2016",
            "method": "animate"
           },
           {
            "args": [
             [
              "2017"
             ],
             {
              "frame": {
               "duration": 0,
               "redraw": true
              },
              "fromcurrent": true,
              "mode": "immediate",
              "transition": {
               "duration": 0,
               "easing": "linear"
              }
             }
            ],
            "label": "2017",
            "method": "animate"
           },
           {
            "args": [
             [
              "2018"
             ],
             {
              "frame": {
               "duration": 0,
               "redraw": true
              },
              "fromcurrent": true,
              "mode": "immediate",
              "transition": {
               "duration": 0,
               "easing": "linear"
              }
             }
            ],
            "label": "2018",
            "method": "animate"
           },
           {
            "args": [
             [
              "2019"
             ],
             {
              "frame": {
               "duration": 0,
               "redraw": true
              },
              "fromcurrent": true,
              "mode": "immediate",
              "transition": {
               "duration": 0,
               "easing": "linear"
              }
             }
            ],
            "label": "2019",
            "method": "animate"
           },
           {
            "args": [
             [
              "2020"
             ],
             {
              "frame": {
               "duration": 0,
               "redraw": true
              },
              "fromcurrent": true,
              "mode": "immediate",
              "transition": {
               "duration": 0,
               "easing": "linear"
              }
             }
            ],
            "label": "2020",
            "method": "animate"
           }
          ],
          "x": 0.1,
          "xanchor": "left",
          "y": 0,
          "yanchor": "top"
         }
        ],
        "template": {
         "data": {
          "bar": [
           {
            "error_x": {
             "color": "#f2f5fa"
            },
            "error_y": {
             "color": "#f2f5fa"
            },
            "marker": {
             "line": {
              "color": "rgb(17,17,17)",
              "width": 0.5
             },
             "pattern": {
              "fillmode": "overlay",
              "size": 10,
              "solidity": 0.2
             }
            },
            "type": "bar"
           }
          ],
          "barpolar": [
           {
            "marker": {
             "line": {
              "color": "rgb(17,17,17)",
              "width": 0.5
             },
             "pattern": {
              "fillmode": "overlay",
              "size": 10,
              "solidity": 0.2
             }
            },
            "type": "barpolar"
           }
          ],
          "carpet": [
           {
            "aaxis": {
             "endlinecolor": "#A2B1C6",
             "gridcolor": "#506784",
             "linecolor": "#506784",
             "minorgridcolor": "#506784",
             "startlinecolor": "#A2B1C6"
            },
            "baxis": {
             "endlinecolor": "#A2B1C6",
             "gridcolor": "#506784",
             "linecolor": "#506784",
             "minorgridcolor": "#506784",
             "startlinecolor": "#A2B1C6"
            },
            "type": "carpet"
           }
          ],
          "choropleth": [
           {
            "colorbar": {
             "outlinewidth": 0,
             "ticks": ""
            },
            "type": "choropleth"
           }
          ],
          "contour": [
           {
            "colorbar": {
             "outlinewidth": 0,
             "ticks": ""
            },
            "colorscale": [
             [
              0,
              "#0d0887"
             ],
             [
              0.1111111111111111,
              "#46039f"
             ],
             [
              0.2222222222222222,
              "#7201a8"
             ],
             [
              0.3333333333333333,
              "#9c179e"
             ],
             [
              0.4444444444444444,
              "#bd3786"
             ],
             [
              0.5555555555555556,
              "#d8576b"
             ],
             [
              0.6666666666666666,
              "#ed7953"
             ],
             [
              0.7777777777777778,
              "#fb9f3a"
             ],
             [
              0.8888888888888888,
              "#fdca26"
             ],
             [
              1,
              "#f0f921"
             ]
            ],
            "type": "contour"
           }
          ],
          "contourcarpet": [
           {
            "colorbar": {
             "outlinewidth": 0,
             "ticks": ""
            },
            "type": "contourcarpet"
           }
          ],
          "heatmap": [
           {
            "colorbar": {
             "outlinewidth": 0,
             "ticks": ""
            },
            "colorscale": [
             [
              0,
              "#0d0887"
             ],
             [
              0.1111111111111111,
              "#46039f"
             ],
             [
              0.2222222222222222,
              "#7201a8"
             ],
             [
              0.3333333333333333,
              "#9c179e"
             ],
             [
              0.4444444444444444,
              "#bd3786"
             ],
             [
              0.5555555555555556,
              "#d8576b"
             ],
             [
              0.6666666666666666,
              "#ed7953"
             ],
             [
              0.7777777777777778,
              "#fb9f3a"
             ],
             [
              0.8888888888888888,
              "#fdca26"
             ],
             [
              1,
              "#f0f921"
             ]
            ],
            "type": "heatmap"
           }
          ],
          "heatmapgl": [
           {
            "colorbar": {
             "outlinewidth": 0,
             "ticks": ""
            },
            "colorscale": [
             [
              0,
              "#0d0887"
             ],
             [
              0.1111111111111111,
              "#46039f"
             ],
             [
              0.2222222222222222,
              "#7201a8"
             ],
             [
              0.3333333333333333,
              "#9c179e"
             ],
             [
              0.4444444444444444,
              "#bd3786"
             ],
             [
              0.5555555555555556,
              "#d8576b"
             ],
             [
              0.6666666666666666,
              "#ed7953"
             ],
             [
              0.7777777777777778,
              "#fb9f3a"
             ],
             [
              0.8888888888888888,
              "#fdca26"
             ],
             [
              1,
              "#f0f921"
             ]
            ],
            "type": "heatmapgl"
           }
          ],
          "histogram": [
           {
            "marker": {
             "pattern": {
              "fillmode": "overlay",
              "size": 10,
              "solidity": 0.2
             }
            },
            "type": "histogram"
           }
          ],
          "histogram2d": [
           {
            "colorbar": {
             "outlinewidth": 0,
             "ticks": ""
            },
            "colorscale": [
             [
              0,
              "#0d0887"
             ],
             [
              0.1111111111111111,
              "#46039f"
             ],
             [
              0.2222222222222222,
              "#7201a8"
             ],
             [
              0.3333333333333333,
              "#9c179e"
             ],
             [
              0.4444444444444444,
              "#bd3786"
             ],
             [
              0.5555555555555556,
              "#d8576b"
             ],
             [
              0.6666666666666666,
              "#ed7953"
             ],
             [
              0.7777777777777778,
              "#fb9f3a"
             ],
             [
              0.8888888888888888,
              "#fdca26"
             ],
             [
              1,
              "#f0f921"
             ]
            ],
            "type": "histogram2d"
           }
          ],
          "histogram2dcontour": [
           {
            "colorbar": {
             "outlinewidth": 0,
             "ticks": ""
            },
            "colorscale": [
             [
              0,
              "#0d0887"
             ],
             [
              0.1111111111111111,
              "#46039f"
             ],
             [
              0.2222222222222222,
              "#7201a8"
             ],
             [
              0.3333333333333333,
              "#9c179e"
             ],
             [
              0.4444444444444444,
              "#bd3786"
             ],
             [
              0.5555555555555556,
              "#d8576b"
             ],
             [
              0.6666666666666666,
              "#ed7953"
             ],
             [
              0.7777777777777778,
              "#fb9f3a"
             ],
             [
              0.8888888888888888,
              "#fdca26"
             ],
             [
              1,
              "#f0f921"
             ]
            ],
            "type": "histogram2dcontour"
           }
          ],
          "mesh3d": [
           {
            "colorbar": {
             "outlinewidth": 0,
             "ticks": ""
            },
            "type": "mesh3d"
           }
          ],
          "parcoords": [
           {
            "line": {
             "colorbar": {
              "outlinewidth": 0,
              "ticks": ""
             }
            },
            "type": "parcoords"
           }
          ],
          "pie": [
           {
            "automargin": true,
            "type": "pie"
           }
          ],
          "scatter": [
           {
            "marker": {
             "line": {
              "color": "#283442"
             }
            },
            "type": "scatter"
           }
          ],
          "scatter3d": [
           {
            "line": {
             "colorbar": {
              "outlinewidth": 0,
              "ticks": ""
             }
            },
            "marker": {
             "colorbar": {
              "outlinewidth": 0,
              "ticks": ""
             }
            },
            "type": "scatter3d"
           }
          ],
          "scattercarpet": [
           {
            "marker": {
             "colorbar": {
              "outlinewidth": 0,
              "ticks": ""
             }
            },
            "type": "scattercarpet"
           }
          ],
          "scattergeo": [
           {
            "marker": {
             "colorbar": {
              "outlinewidth": 0,
              "ticks": ""
             }
            },
            "type": "scattergeo"
           }
          ],
          "scattergl": [
           {
            "marker": {
             "line": {
              "color": "#283442"
             }
            },
            "type": "scattergl"
           }
          ],
          "scattermapbox": [
           {
            "marker": {
             "colorbar": {
              "outlinewidth": 0,
              "ticks": ""
             }
            },
            "type": "scattermapbox"
           }
          ],
          "scatterpolar": [
           {
            "marker": {
             "colorbar": {
              "outlinewidth": 0,
              "ticks": ""
             }
            },
            "type": "scatterpolar"
           }
          ],
          "scatterpolargl": [
           {
            "marker": {
             "colorbar": {
              "outlinewidth": 0,
              "ticks": ""
             }
            },
            "type": "scatterpolargl"
           }
          ],
          "scatterternary": [
           {
            "marker": {
             "colorbar": {
              "outlinewidth": 0,
              "ticks": ""
             }
            },
            "type": "scatterternary"
           }
          ],
          "surface": [
           {
            "colorbar": {
             "outlinewidth": 0,
             "ticks": ""
            },
            "colorscale": [
             [
              0,
              "#0d0887"
             ],
             [
              0.1111111111111111,
              "#46039f"
             ],
             [
              0.2222222222222222,
              "#7201a8"
             ],
             [
              0.3333333333333333,
              "#9c179e"
             ],
             [
              0.4444444444444444,
              "#bd3786"
             ],
             [
              0.5555555555555556,
              "#d8576b"
             ],
             [
              0.6666666666666666,
              "#ed7953"
             ],
             [
              0.7777777777777778,
              "#fb9f3a"
             ],
             [
              0.8888888888888888,
              "#fdca26"
             ],
             [
              1,
              "#f0f921"
             ]
            ],
            "type": "surface"
           }
          ],
          "table": [
           {
            "cells": {
             "fill": {
              "color": "#506784"
             },
             "line": {
              "color": "rgb(17,17,17)"
             }
            },
            "header": {
             "fill": {
              "color": "#2a3f5f"
             },
             "line": {
              "color": "rgb(17,17,17)"
             }
            },
            "type": "table"
           }
          ]
         },
         "layout": {
          "annotationdefaults": {
           "arrowcolor": "#f2f5fa",
           "arrowhead": 0,
           "arrowwidth": 1
          },
          "autotypenumbers": "strict",
          "coloraxis": {
           "colorbar": {
            "outlinewidth": 0,
            "ticks": ""
           }
          },
          "colorscale": {
           "diverging": [
            [
             0,
             "#8e0152"
            ],
            [
             0.1,
             "#c51b7d"
            ],
            [
             0.2,
             "#de77ae"
            ],
            [
             0.3,
             "#f1b6da"
            ],
            [
             0.4,
             "#fde0ef"
            ],
            [
             0.5,
             "#f7f7f7"
            ],
            [
             0.6,
             "#e6f5d0"
            ],
            [
             0.7,
             "#b8e186"
            ],
            [
             0.8,
             "#7fbc41"
            ],
            [
             0.9,
             "#4d9221"
            ],
            [
             1,
             "#276419"
            ]
           ],
           "sequential": [
            [
             0,
             "#0d0887"
            ],
            [
             0.1111111111111111,
             "#46039f"
            ],
            [
             0.2222222222222222,
             "#7201a8"
            ],
            [
             0.3333333333333333,
             "#9c179e"
            ],
            [
             0.4444444444444444,
             "#bd3786"
            ],
            [
             0.5555555555555556,
             "#d8576b"
            ],
            [
             0.6666666666666666,
             "#ed7953"
            ],
            [
             0.7777777777777778,
             "#fb9f3a"
            ],
            [
             0.8888888888888888,
             "#fdca26"
            ],
            [
             1,
             "#f0f921"
            ]
           ],
           "sequentialminus": [
            [
             0,
             "#0d0887"
            ],
            [
             0.1111111111111111,
             "#46039f"
            ],
            [
             0.2222222222222222,
             "#7201a8"
            ],
            [
             0.3333333333333333,
             "#9c179e"
            ],
            [
             0.4444444444444444,
             "#bd3786"
            ],
            [
             0.5555555555555556,
             "#d8576b"
            ],
            [
             0.6666666666666666,
             "#ed7953"
            ],
            [
             0.7777777777777778,
             "#fb9f3a"
            ],
            [
             0.8888888888888888,
             "#fdca26"
            ],
            [
             1,
             "#f0f921"
            ]
           ]
          },
          "colorway": [
           "#636efa",
           "#EF553B",
           "#00cc96",
           "#ab63fa",
           "#FFA15A",
           "#19d3f3",
           "#FF6692",
           "#B6E880",
           "#FF97FF",
           "#FECB52"
          ],
          "font": {
           "color": "#f2f5fa"
          },
          "geo": {
           "bgcolor": "rgb(17,17,17)",
           "lakecolor": "rgb(17,17,17)",
           "landcolor": "rgb(17,17,17)",
           "showlakes": true,
           "showland": true,
           "subunitcolor": "#506784"
          },
          "hoverlabel": {
           "align": "left"
          },
          "hovermode": "closest",
          "mapbox": {
           "style": "dark"
          },
          "paper_bgcolor": "rgb(17,17,17)",
          "plot_bgcolor": "rgb(17,17,17)",
          "polar": {
           "angularaxis": {
            "gridcolor": "#506784",
            "linecolor": "#506784",
            "ticks": ""
           },
           "bgcolor": "rgb(17,17,17)",
           "radialaxis": {
            "gridcolor": "#506784",
            "linecolor": "#506784",
            "ticks": ""
           }
          },
          "scene": {
           "xaxis": {
            "backgroundcolor": "rgb(17,17,17)",
            "gridcolor": "#506784",
            "gridwidth": 2,
            "linecolor": "#506784",
            "showbackground": true,
            "ticks": "",
            "zerolinecolor": "#C8D4E3"
           },
           "yaxis": {
            "backgroundcolor": "rgb(17,17,17)",
            "gridcolor": "#506784",
            "gridwidth": 2,
            "linecolor": "#506784",
            "showbackground": true,
            "ticks": "",
            "zerolinecolor": "#C8D4E3"
           },
           "zaxis": {
            "backgroundcolor": "rgb(17,17,17)",
            "gridcolor": "#506784",
            "gridwidth": 2,
            "linecolor": "#506784",
            "showbackground": true,
            "ticks": "",
            "zerolinecolor": "#C8D4E3"
           }
          },
          "shapedefaults": {
           "line": {
            "color": "#f2f5fa"
           }
          },
          "sliderdefaults": {
           "bgcolor": "#C8D4E3",
           "bordercolor": "rgb(17,17,17)",
           "borderwidth": 1,
           "tickwidth": 0
          },
          "ternary": {
           "aaxis": {
            "gridcolor": "#506784",
            "linecolor": "#506784",
            "ticks": ""
           },
           "baxis": {
            "gridcolor": "#506784",
            "linecolor": "#506784",
            "ticks": ""
           },
           "bgcolor": "rgb(17,17,17)",
           "caxis": {
            "gridcolor": "#506784",
            "linecolor": "#506784",
            "ticks": ""
           }
          },
          "title": {
           "x": 0.05
          },
          "updatemenudefaults": {
           "bgcolor": "#506784",
           "borderwidth": 0
          },
          "xaxis": {
           "automargin": true,
           "gridcolor": "#283442",
           "linecolor": "#506784",
           "ticks": "",
           "title": {
            "standoff": 15
           },
           "zerolinecolor": "#283442",
           "zerolinewidth": 2
          },
          "yaxis": {
           "automargin": true,
           "gridcolor": "#283442",
           "linecolor": "#506784",
           "ticks": "",
           "title": {
            "standoff": 15
           },
           "zerolinecolor": "#283442",
           "zerolinewidth": 2
          }
         }
        },
        "title": {
         "text": "Top 10 Categories Searched Across the Years (2001-2020)"
        },
        "updatemenus": [
         {
          "buttons": [
           {
            "args": [
             null,
             {
              "frame": {
               "duration": 500,
               "redraw": true
              },
              "fromcurrent": true
             }
            ],
            "label": "Play",
            "method": "animate"
           },
           {
            "args": [
             [
              null
             ],
             {
              "frame": {
               "duration": 0,
               "redraw": true
              },
              "mode": "immediate",
              "transition": {
               "duration": 0
              }
             }
            ],
            "label": "Pause",
            "method": "animate"
           }
          ],
          "direction": "left",
          "pad": {
           "r": 10,
           "t": 87
          },
          "showactive": false,
          "type": "buttons",
          "x": 0.1,
          "xanchor": "right",
          "y": 0,
          "yanchor": "top"
         }
        ],
        "xaxis": {
         "anchor": "y",
         "domain": [
          0,
          1
         ],
         "range": [
          0,
          290
         ],
         "title": {
          "text": "Number of Searches"
         }
        },
        "yaxis": {
         "anchor": "x",
         "categoryarray": [
          "Películas",
          "What is...?",
          "Songs",
          "News",
          "People",
          "Recipes",
          "How to...",
          "Searches",
          "TV Shows",
          "Movies"
         ],
         "categoryorder": "array",
         "domain": [
          0,
          1
         ],
         "title": {
          "text": "category"
         }
        }
       }
      }
     },
     "metadata": {},
     "output_type": "display_data"
    }
   ],
   "source": [
    "# other version \n",
    "\n",
    "category_trends = df.groupby(['year', 'category']).size().reset_index(name='count')\n",
    "\n",
    "top_categories = category_trends.groupby('category')['count'].sum().nlargest(10).index\n",
    "\n",
    "filtered_data = category_trends[category_trends['category'].isin(top_categories)]\n",
    "\n",
    "filtered_data = filtered_data.fillna(0)\n",
    "\n",
    "filtered_data['year'] = filtered_data['year'].astype(int)\n",
    "filtered_data['count'] = filtered_data['count'].astype(int)\n",
    "\n",
    "filtered_data = filtered_data.sort_values(['year', 'count'], ascending=[True, False])\n",
    "\n",
    "fig = px.bar(filtered_data, \n",
    "             x='count',  \n",
    "             y='category', \n",
    "             color='category', \n",
    "             orientation='h',  \n",
    "             title='Top 10 Categories Searched Across the Years (2001-2020)', \n",
    "             labels={'year': 'Year', 'count': 'Number of Searches'},\n",
    "             animation_frame='year',  \n",
    "             animation_group='category',  \n",
    "             range_x=[0, filtered_data['count'].max() + 50], \n",
    "             height=600  \n",
    "            )\n",
    "\n",
    "fig.update_layout(\n",
    "    template='plotly_dark',  \n",
    "    hovermode='x unified', \n",
    "    showlegend=False, \n",
    "    updatemenus=[  \n",
    "        {\n",
    "            'buttons': [\n",
    "                {\n",
    "                    'args': [None, {'frame': {'duration': 500, 'redraw': True}, 'fromcurrent': True}],\n",
    "                    'label': 'Play',\n",
    "                    'method': 'animate'\n",
    "                },\n",
    "                {\n",
    "                    'args': [[None], {'frame': {'duration': 0, 'redraw': True}, 'mode': 'immediate', 'transition': {'duration': 0}}],\n",
    "                    'label': 'Pause',\n",
    "                    'method': 'animate'\n",
    "                }\n",
    "            ],\n",
    "            'direction': 'left',\n",
    "            'pad': {'r': 10, 't': 87},\n",
    "            'showactive': False,\n",
    "            'type': 'buttons',\n",
    "            'x': 0.1,\n",
    "            'xanchor': 'right',\n",
    "            'y': 0,\n",
    "            'yanchor': 'top'\n",
    "        }\n",
    "    ]\n",
    ")\n",
    "fig.show()"
   ]
  },
  {
   "cell_type": "markdown",
   "metadata": {},
   "source": [
    "## ASK PROF/ TA:\n",
    "- data harmonization techniques, is there enough time to fine-tune with NLP models?\n",
    "- does animating a visual count as an interactive element? "
   ]
  },
  {
   "cell_type": "markdown",
   "metadata": {},
   "source": [
    "### Data Harmonization (an attempt) --> might become a \"what-if?\"\n",
    "**Issue**: It seems that it's detecting English company names (proper nouns) as Non-English words"
   ]
  },
  {
   "cell_type": "code",
   "execution_count": 22,
   "metadata": {},
   "outputs": [
    {
     "name": "stdout",
     "output_type": "stream",
     "text": [
      "Non-English Categories:\n",
      "           category\n",
      "5               Men\n",
      "10           Movies\n",
      "35        Retailers\n",
      "50      Video Games\n",
      "55            Women\n",
      "...             ...\n",
      "26925        Ở Đâu?\n",
      "26935       Gần Đây\n",
      "26940      Cách Làm\n",
      "26945  Như Thế Nào?\n",
      "26950        Là Gì?\n",
      "\n",
      "[1896 rows x 1 columns]\n",
      "Non-English Queries:\n",
      "                     query\n",
      "3                     Palm\n",
      "5              Nostradamus\n",
      "6          Osama bin Laden\n",
      "7                   Eminem\n",
      "9             Howard Stern\n",
      "...                    ...\n",
      "26950   Virus Corona là gì\n",
      "26951  Miễn thị thực là gì\n",
      "26952    Đầu cắt moi là gì\n",
      "26953  Bệnh bạch hầu là gì\n",
      "26954       Đông Lào là gì\n",
      "\n",
      "[13548 rows x 1 columns]\n"
     ]
    }
   ],
   "source": [
    "from langdetect import detect\n",
    "import re\n",
    "\n",
    "# to tackle the Issue\n",
    "known_brands = ['Apple', 'Microsoft', 'Google', 'Nokia', 'Samsung', 'Sony', 'BMW', 'Adobe', 'Amazon', 'Adobe']  \n",
    "\n",
    "# attempt to ignore company names and product names\n",
    "def is_non_english(text):\n",
    "    try:\n",
    "        # if text is in list of known brands\n",
    "        if any(brand in text for brand in known_brands):\n",
    "            return False\n",
    "\n",
    "        if text.isupper() or bool(re.search(r'\\d', text)):\n",
    "            return False  \n",
    "\n",
    "        return detect(text) != 'en'\n",
    "    except:\n",
    "        return False  \n",
    "\n",
    "non_english_categories = df[df['category'].apply(is_non_english)]\n",
    "non_english_queries = df[df['query'].apply(is_non_english)]\n",
    "\n",
    "print(\"Non-English Categories:\")\n",
    "print(non_english_categories[['category']].drop_duplicates())\n",
    "\n",
    "print(\"Non-English Queries:\")\n",
    "print(non_english_queries[['query']].drop_duplicates())\n"
   ]
  }
 ],
 "metadata": {
  "kernelspec": {
   "display_name": "Python (base)",
   "language": "python",
   "name": "base"
  },
  "language_info": {
   "codemirror_mode": {
    "name": "ipython",
    "version": 3
   },
   "file_extension": ".py",
   "mimetype": "text/x-python",
   "name": "python",
   "nbconvert_exporter": "python",
   "pygments_lexer": "ipython3",
   "version": "3.11.7"
  }
 },
 "nbformat": 4,
 "nbformat_minor": 2
}
