{
 "cells": [
  {
   "cell_type": "code",
   "execution_count": 6,
   "metadata": {},
   "outputs": [
    {
     "ename": "ModuleNotFoundError",
     "evalue": "No module named 'matplotlib'",
     "output_type": "error",
     "traceback": [
      "\u001b[0;31m---------------------------------------------------------------------------\u001b[0m",
      "\u001b[0;31mModuleNotFoundError\u001b[0m                       Traceback (most recent call last)",
      "\u001b[1;32m/Users/JoyceShiah/Documents/GitHub/dsc209r_finalproject/JS_DataExploration.ipynb Cell 1\u001b[0m line \u001b[0;36m2\n\u001b[1;32m      <a href='vscode-notebook-cell:/Users/JoyceShiah/Documents/GitHub/dsc209r_finalproject/JS_DataExploration.ipynb#W2sZmlsZQ%3D%3D?line=0'>1</a>\u001b[0m \u001b[39mimport\u001b[39;00m \u001b[39mpandas\u001b[39;00m \u001b[39mas\u001b[39;00m \u001b[39mpd\u001b[39;00m\n\u001b[0;32m----> <a href='vscode-notebook-cell:/Users/JoyceShiah/Documents/GitHub/dsc209r_finalproject/JS_DataExploration.ipynb#W2sZmlsZQ%3D%3D?line=1'>2</a>\u001b[0m \u001b[39mimport\u001b[39;00m \u001b[39mmatplotlib\u001b[39;00m\u001b[39m.\u001b[39;00m\u001b[39mpyplot\u001b[39;00m \u001b[39mas\u001b[39;00m \u001b[39mplt\u001b[39;00m\n\u001b[1;32m      <a href='vscode-notebook-cell:/Users/JoyceShiah/Documents/GitHub/dsc209r_finalproject/JS_DataExploration.ipynb#W2sZmlsZQ%3D%3D?line=2'>3</a>\u001b[0m \u001b[39mimport\u001b[39;00m \u001b[39mnumpy\u001b[39;00m \u001b[39mas\u001b[39;00m \u001b[39mnp\u001b[39;00m\n\u001b[1;32m      <a href='vscode-notebook-cell:/Users/JoyceShiah/Documents/GitHub/dsc209r_finalproject/JS_DataExploration.ipynb#W2sZmlsZQ%3D%3D?line=6'>7</a>\u001b[0m df \u001b[39m=\u001b[39m pd\u001b[39m.\u001b[39mread_csv(\u001b[39m'\u001b[39m\u001b[39m/Users/JoyceShiah/Downloads/trends.csv\u001b[39m\u001b[39m'\u001b[39m)\n",
      "\u001b[0;31mModuleNotFoundError\u001b[0m: No module named 'matplotlib'"
     ]
    }
   ],
   "source": [
    "import pandas as pd\n",
    "import matplotlib.pyplot as plt\n",
    "import numpy as np\n",
    "\n",
    "\n",
    "\n",
    "df = pd.read_csv('/Users/JoyceShiah/Downloads/trends.csv')\n",
    "print(df.head())\n",
    "print(df.info())\n",
    "\n",
    "print(df.describe())"
   ]
  },
  {
   "cell_type": "code",
   "execution_count": 7,
   "metadata": {},
   "outputs": [
    {
     "name": "stdout",
     "output_type": "stream",
     "text": [
      "location    0\n",
      "year        0\n",
      "category    0\n",
      "rank        0\n",
      "query       0\n",
      "dtype: int64\n"
     ]
    }
   ],
   "source": [
    "print(df.isnull().sum())"
   ]
  },
  {
   "cell_type": "markdown",
   "metadata": {},
   "source": [
    "Since `location`, `category` and `query` columns are pre-filled, structured text, can check for unique values and its counts. "
   ]
  },
  {
   "cell_type": "code",
   "execution_count": 11,
   "metadata": {},
   "outputs": [
    {
     "name": "stdout",
     "output_type": "stream",
     "text": [
      "location\n",
      "United States         2070\n",
      "Global                1135\n",
      "Japan                  765\n",
      "Canada                 690\n",
      "Brazil                 675\n",
      "                      ... \n",
      "Dominican Republic       5\n",
      "El Salvador              5\n",
      "Honduras                 5\n",
      "Kuwait                   5\n",
      "Sudan                    5\n",
      "Name: count, Length: 83, dtype: int64\n",
      "category\n",
      "People                                             760\n",
      "Searches                                           620\n",
      "Movies                                             330\n",
      "TV Shows                                           305\n",
      "Películas                                          250\n",
      "                                                  ... \n",
      "Snelst stijgende/ Les plus grandes progressions      5\n",
      "Küche & Kochen                                       5\n",
      "Krisen & Katastrophen                                5\n",
      "Suchanfragen Top 10                                  5\n",
      "Là Gì?                                               5\n",
      "Name: count, Length: 2450, dtype: int64\n",
      "query\n",
      "Paul Walker            84\n",
      "Donald Trump           83\n",
      "Facebook               62\n",
      "Robin Williams         61\n",
      "Whitney Houston        56\n",
      "                       ..\n",
      "Виноваты звезды         1\n",
      "Улыбка пересмешника     1\n",
      "Яма                     1\n",
      "Дивергент               1\n",
      "Đông Lào là gì          1\n",
      "Name: count, Length: 18431, dtype: int64\n"
     ]
    }
   ],
   "source": [
    "# unique 'location' values\n",
    "print(df['location'].value_counts())\n",
    "\n",
    "# unique 'category' values\n",
    "print(df['category'].value_counts())\n",
    "\n",
    "# unique 'query' column (for trending search terms)\n",
    "print(df['query'].value_counts())\n"
   ]
  },
  {
   "cell_type": "code",
   "execution_count": null,
   "metadata": {},
   "outputs": [],
   "source": [
    "# count number of trends per year\n",
    "yearly_trends = df['year'].value_counts().sort_index()\n",
    "\n",
    "# Plot the number of trends per year\n",
    "\n",
    "\n",
    "yearly_trends.plot(kind='bar', figsize=(10, 6), title=\"Number of Trends per Year\")\n",
    "plt.ylabel('Number of Trends')\n",
    "plt.show()\n"
   ]
  }
 ],
 "metadata": {
  "kernelspec": {
   "display_name": "Python 3",
   "language": "python",
   "name": "python3"
  },
  "language_info": {
   "codemirror_mode": {
    "name": "ipython",
    "version": 3
   },
   "file_extension": ".py",
   "mimetype": "text/x-python",
   "name": "python",
   "nbconvert_exporter": "python",
   "pygments_lexer": "ipython3",
   "version": "3.10.5"
  }
 },
 "nbformat": 4,
 "nbformat_minor": 2
}
